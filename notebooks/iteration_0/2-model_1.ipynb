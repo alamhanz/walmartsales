{
 "cells": [
  {
   "cell_type": "markdown",
   "metadata": {},
   "source": [
    "[20220817]\n",
    "\n",
    "# 2. Model 1\n",
    "\n",
    "Auto arima"
   ]
  },
  {
   "cell_type": "markdown",
   "metadata": {},
   "source": [
    "## Goal\n",
    "Find patterns on the features for target\n",
    "\n",
    "## Plan\n",
    "Checklist what will be done on the notebook :\n",
    "\n",
    "        [ ] Get Data\n",
    "        [ ] Modelling\n",
    "                [ ] Hyper Parameter Tuning\n",
    "                [ ] Feature selection (could be done with different notebook)\n",
    "        [ ] Evaluation"
   ]
  },
  {
   "cell_type": "code",
   "execution_count": null,
   "metadata": {},
   "outputs": [],
   "source": [
    "import yaml\n",
    "import pandas as pd\n",
    "import matplotlib.pyplot as plt\n",
    "import os\n",
    "import sys\n",
    "import pmdarima\n",
    "sys.path.insert(1,'../../src/')\n",
    "\n",
    "## import myfunc inside src folder\n",
    "import myfunc "
   ]
  },
  {
   "cell_type": "code",
   "execution_count": null,
   "metadata": {},
   "outputs": [],
   "source": [
    "with open(\"../../config.yaml\", \"r\") as f:\n",
    "    config = yaml.load(f, Loader=yaml.FullLoader)\n",
    "\n",
    "PATH_RAW = config['path']['raw']\n",
    "PATH_INTERIM = config['path']['interim']\n",
    "PATH_PROCESSED = config['path']['processed']\n",
    "PATH_MODEL = config['path']['artifact']+os.getcwd().split('\\\\')[-1]+'/'\n",
    "PATH_UDF = config['path']['udf']"
   ]
  },
  {
   "cell_type": "markdown",
   "metadata": {},
   "source": [
    "## Get Data"
   ]
  },
  {
   "cell_type": "code",
   "execution_count": null,
   "metadata": {},
   "outputs": [],
   "source": [
    "df = pd.read_csv(PATH_INTERIM + 'daily-min-temp3_iter0.csv')\n",
    "df.set_index('Date',inplace=True)"
   ]
  },
  {
   "cell_type": "code",
   "execution_count": null,
   "metadata": {},
   "outputs": [],
   "source": [
    "df"
   ]
  },
  {
   "cell_type": "code",
   "execution_count": null,
   "metadata": {},
   "outputs": [],
   "source": [
    "# ! pip install pmdarima"
   ]
  },
  {
   "cell_type": "markdown",
   "metadata": {},
   "source": [
    "## Model 1"
   ]
  },
  {
   "cell_type": "code",
   "execution_count": null,
   "metadata": {},
   "outputs": [],
   "source": [
    "arima_model1 = pmdarima.arima.auto_arima(df, d = 1, max_d = 2\n",
    "                         ,start_p = 1, max_p = 9\n",
    "                         ,start_q = 20, max_q = 40\n",
    "                         ,D = 1, max_D = 2\n",
    "                         ,start_P = 0, max_P = 2\n",
    "                         ,start_Q = 0, max_Q = 2\n",
    "                         ,m = 7\n",
    "                         ,seasonal = True\n",
    "                         ,startionary = True\n",
    "                         ,stepwise = False\n",
    "                         ,trace = True\n",
    "                         ,n_jobs = 5\n",
    "                         ,random = True\n",
    "                         ,n_fits = 35)\n",
    "\n",
    "# arima_model1 = pmdarima.arima.auto_arima(df, start_p=1, start_q=1,\n",
    "#                       test='adf',\n",
    "#                       max_p=5, max_q=5,\n",
    "#                       m=1,             \n",
    "#                       d=1,          \n",
    "#                       seasonal=False,   \n",
    "#                       start_P=0, \n",
    "#                       D=None, \n",
    "#                       trace=True,\n",
    "#                       error_action='ignore',  \n",
    "#                       suppress_warnings=True\n",
    "#                          ,n_jobs = 5\n",
    "#                          ,random = True\n",
    "#                          ,n_fits = 35)"
   ]
  },
  {
   "cell_type": "code",
   "execution_count": null,
   "metadata": {},
   "outputs": [],
   "source": [
    "arima_model1.summary()"
   ]
  },
  {
   "cell_type": "code",
   "execution_count": null,
   "metadata": {},
   "outputs": [],
   "source": []
  },
  {
   "cell_type": "code",
   "execution_count": 20,
   "metadata": {},
   "outputs": [
    {
     "data": {
      "text/plain": [
       "<AxesSubplot:>"
      ]
     },
     "execution_count": 20,
     "metadata": {},
     "output_type": "execute_result"
    },
    {
     "data": {
      "image/png": "[encoded data removed]",
      "text/plain": [
       "<Figure size 432x288 with 1 Axes>"
      ]
     },
     "metadata": {
      "needs_background": "light"
     },
     "output_type": "display_data"
    },
    {
     "name": "stdout",
     "output_type": "stream",
     "text": [
      " ARIMA(0,1,1)(2,1,1)[7]             : AIC=inf, Time=5.94 sec\n",
      " ARIMA(3,1,2)(0,1,0)[7]             : AIC=inf, Time=5.82 sec\n",
      " ARIMA(1,1,1)(0,1,2)[7]             : AIC=inf, Time=7.29 sec\n",
      " ARIMA(3,1,0)(0,1,0)[7]             : AIC=15795.084, Time=0.33 sec\n",
      " ARIMA(2,1,1)(0,1,0)[7]             : AIC=inf, Time=2.32 sec\n",
      " ARIMA(0,1,2)(2,1,1)[7]             : AIC=inf, Time=6.91 sec\n",
      " ARIMA(1,1,0)(2,1,0)[7]             : AIC=14957.171, Time=1.16 sec\n",
      " ARIMA(1,1,3)(0,1,0)[7]             : AIC=inf, Time=3.93 sec\n",
      " ARIMA(1,1,0)(2,1,1)[7]             : AIC=inf, Time=6.16 sec\n",
      " ARIMA(3,1,0)(0,1,2)[7]             : AIC=inf, Time=8.04 sec\n",
      " ARIMA(2,1,3)(0,1,0)[7]             : AIC=inf, Time=8.60 sec\n",
      " ARIMA(1,1,4)(0,1,0)[7]             : AIC=inf, Time=5.83 sec\n",
      " ARIMA(1,1,0)(1,1,1)[7]             : AIC=inf, Time=2.26 sec\n",
      " ARIMA(2,1,0)(1,1,0)[7]             : AIC=15100.537, Time=0.73 sec\n",
      " ARIMA(0,1,0)(1,1,1)[7]             : AIC=inf, Time=1.81 sec\n",
      " ARIMA(2,1,0)(2,1,0)[7]             : AIC=14747.166, Time=1.25 sec\n",
      " ARIMA(1,1,2)(1,1,0)[7]             : AIC=inf, Time=6.69 sec\n",
      " ARIMA(1,1,0)(1,1,2)[7]             : AIC=inf, Time=10.39 sec\n",
      " ARIMA(1,1,3)(1,1,0)[7]             : AIC=inf, Time=8.70 sec\n",
      " ARIMA(0,1,0)(1,1,0)[7]             : AIC=15422.712, Time=0.23 sec\n",
      " ARIMA(1,1,1)(0,1,0)[7]             : AIC=inf, Time=2.47 sec\n",
      " ARIMA(0,1,2)(1,1,1)[7]             : AIC=inf, Time=4.37 sec\n",
      " ARIMA(0,1,0)(0,1,0)[7]             : AIC=16236.771, Time=0.12 sec\n",
      " ARIMA(2,1,2)(0,1,0)[7]             : AIC=inf, Time=4.56 sec\n",
      " ARIMA(3,1,1)(0,1,1)[7]             : AIC=inf, Time=5.26 sec\n",
      " ARIMA(3,1,0)(1,1,0)[7]             : AIC=15002.337, Time=0.87 sec\n",
      " ARIMA(3,1,0)(1,1,1)[7]             : AIC=inf, Time=4.49 sec\n",
      " ARIMA(0,1,3)(0,1,0)[7]             : AIC=inf, Time=3.01 sec\n",
      " ARIMA(1,1,2)(0,1,0)[7]             : AIC=inf, Time=3.58 sec\n",
      " ARIMA(0,1,3)(0,1,1)[7]             : AIC=inf, Time=4.30 sec\n",
      " ARIMA(0,1,2)(1,1,0)[7]             : AIC=inf, Time=3.17 sec\n",
      " ARIMA(0,1,3)(2,1,0)[7]             : AIC=14258.525, Time=3.12 sec\n",
      " ARIMA(2,1,1)(1,1,0)[7]             : AIC=inf, Time=5.67 sec\n",
      " ARIMA(2,1,0)(0,1,0)[7]             : AIC=15904.397, Time=0.28 sec\n",
      " ARIMA(3,1,1)(1,1,0)[7]             : AIC=inf, Time=7.97 sec\n"
     ]
    }
   ],
   "source": [
    "pd.Series(arima_model1.predict(n_periods=300)).plot()"
   ]
  },
  {
   "cell_type": "code",
   "execution_count": null,
   "metadata": {},
   "outputs": [],
   "source": []
  },
  {
   "cell_type": "code",
   "execution_count": null,
   "metadata": {},
   "outputs": [],
   "source": []
  },
  {
   "cell_type": "code",
   "execution_count": null,
   "metadata": {},
   "outputs": [],
   "source": []
  }
 ],
 "metadata": {
  "kernelspec": {
   "display_name": "Python 3 (ipykernel)",
   "language": "python",
   "name": "python3"
  },
  "language_info": {
   "codemirror_mode": {
    "name": "ipython",
    "version": 3
   },
   "file_extension": ".py",
   "mimetype": "text/x-python",
   "name": "python",
   "nbconvert_exporter": "python",
   "pygments_lexer": "ipython3",
   "version": "3.7.13"
  },
  "vscode": {
   "interpreter": {
    "hash": "6fde994876131bc9f65527873aa4b87e75053d151a689996c7611049218b8dee"
   }
  }
 },
 "nbformat": 4,
 "nbformat_minor": 4
}
