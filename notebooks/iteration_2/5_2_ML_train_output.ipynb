{
 "cells": [
  {
   "cell_type": "code",
   "execution_count": 1,
   "id": "055939c4",
   "metadata": {
    "execution": {
     "iopub.execute_input": "2022-09-04T10:09:15.542219Z",
     "iopub.status.busy": "2022-09-04T10:09:15.541488Z",
     "iopub.status.idle": "2022-09-04T10:09:15.550347Z",
     "shell.execute_reply": "2022-09-04T10:09:15.548762Z"
    },
    "papermill": {
     "duration": 0.02511,
     "end_time": "2022-09-04T10:09:15.553770",
     "exception": false,
     "start_time": "2022-09-04T10:09:15.528660",
     "status": "completed"
    },
    "tags": []
   },
   "outputs": [],
   "source": [
    "# https://github.com/alamhanz/clump_project/blob/master/customer_segmentation_1/Clustering%20Process.ipynb\n",
    "# https://towardsdatascience.com/sql-window-functions-in-python-pandas-data-science-dc7c7a63cbb4\n",
    "# https://stackoverflow.com/questions/62116416/rolling-sum-over-a-partition-in-python"
   ]
  },
  {
   "cell_type": "markdown",
   "id": "f4055e26",
   "metadata": {
    "papermill": {
     "duration": 0.008721,
     "end_time": "2022-09-04T10:09:15.572162",
     "exception": false,
     "start_time": "2022-09-04T10:09:15.563441",
     "status": "completed"
    },
    "tags": []
   },
   "source": [
    "# 5. Machine Learning Training"
   ]
  },
  {
   "cell_type": "markdown",
   "id": "778aad2b",
   "metadata": {
    "papermill": {
     "duration": 0.007474,
     "end_time": "2022-09-04T10:09:15.587248",
     "exception": false,
     "start_time": "2022-09-04T10:09:15.579774",
     "status": "completed"
    },
    "tags": []
   },
   "source": [
    "## Goal\n",
    "train and predict on all eligble products using Machine Learning\n",
    "\n",
    "## Plan\n",
    "Checklist what will be done on the notebook :\n",
    "\n",
    "        [ ] Get Data\n",
    "        [ ] Train Test\n",
    "        [ ] Model Training\n",
    "        [ ] Evaluation\n",
    "         "
   ]
  },
  {
   "cell_type": "code",
   "execution_count": 2,
   "id": "f4ffb609",
   "metadata": {
    "execution": {
     "iopub.execute_input": "2022-09-04T10:09:15.602882Z",
     "iopub.status.busy": "2022-09-04T10:09:15.602391Z",
     "iopub.status.idle": "2022-09-04T10:09:17.038751Z",
     "shell.execute_reply": "2022-09-04T10:09:17.037792Z"
    },
    "papermill": {
     "duration": 1.446577,
     "end_time": "2022-09-04T10:09:17.041853",
     "exception": false,
     "start_time": "2022-09-04T10:09:15.595276",
     "status": "completed"
    },
    "tags": []
   },
   "outputs": [],
   "source": [
    "import pandas as pd\n",
    "import seaborn as sns\n",
    "import sys\n",
    "import numpy as np\n",
    "import joblib\n",
    "import matplotlib.pyplot as plt\n",
    "import random\n",
    "\n",
    "import sys\n",
    "sys.path.insert(1,'../src')\n",
    "import dmdf\n",
    "from ramal import *\n",
    "from scipy.stats import uniform,randint\n",
    "\n",
    "pd.options.mode.chained_assignment = None  # default='warn'\n",
    "\n",
    "import time\n",
    "import warnings\n",
    "warnings.filterwarnings(\"ignore\")"
   ]
  },
  {
   "cell_type": "code",
   "execution_count": 3,
   "id": "0dd87514",
   "metadata": {
    "execution": {
     "iopub.execute_input": "2022-09-04T10:09:17.057472Z",
     "iopub.status.busy": "2022-09-04T10:09:17.056202Z",
     "iopub.status.idle": "2022-09-04T10:09:17.088081Z",
     "shell.execute_reply": "2022-09-04T10:09:17.087165Z"
    },
    "papermill": {
     "duration": 0.040649,
     "end_time": "2022-09-04T10:09:17.089869",
     "exception": false,
     "start_time": "2022-09-04T10:09:17.049220",
     "status": "completed"
    },
    "tags": []
   },
   "outputs": [],
   "source": [
    "## ML packages\n",
    "from sklearn.preprocessing import StandardScaler\n",
    "from sklearn.model_selection import RandomizedSearchCV\n",
    "\n",
    "from sklearn.linear_model import LinearRegression, SGDRegressor, Ridge, Lasso, ElasticNet\n",
    "from sklearn.tree import DecisionTreeRegressor\n",
    "from sklearn.ensemble import RandomForestRegressor, GradientBoostingRegressor, BaggingRegressor, AdaBoostRegressor\n",
    "from sklearn.neural_network import MLPRegressor"
   ]
  },
  {
   "cell_type": "code",
   "execution_count": 4,
   "id": "63e285db",
   "metadata": {
    "execution": {
     "iopub.execute_input": "2022-09-04T10:09:17.102380Z",
     "iopub.status.busy": "2022-09-04T10:09:17.101996Z",
     "iopub.status.idle": "2022-09-04T10:09:17.107720Z",
     "shell.execute_reply": "2022-09-04T10:09:17.106426Z"
    },
    "papermill": {
     "duration": 0.014649,
     "end_time": "2022-09-04T10:09:17.109986",
     "exception": false,
     "start_time": "2022-09-04T10:09:17.095337",
     "status": "completed"
    },
    "tags": []
   },
   "outputs": [
    {
     "name": "stdout",
     "output_type": "stream",
     "text": [
      "0.24.2\n",
      "1.1.0\n"
     ]
    }
   ],
   "source": [
    "import sklearn\n",
    "print(sklearn.__version__)\n",
    "print(joblib.__version__)"
   ]
  },
  {
   "cell_type": "code",
   "execution_count": 5,
   "id": "cbfe7791",
   "metadata": {
    "execution": {
     "iopub.execute_input": "2022-09-04T10:09:17.123287Z",
     "iopub.status.busy": "2022-09-04T10:09:17.122424Z",
     "iopub.status.idle": "2022-09-04T10:09:17.127295Z",
     "shell.execute_reply": "2022-09-04T10:09:17.126354Z"
    },
    "papermill": {
     "duration": 0.013925,
     "end_time": "2022-09-04T10:09:17.129496",
     "exception": false,
     "start_time": "2022-09-04T10:09:17.115571",
     "status": "completed"
    },
    "tags": []
   },
   "outputs": [],
   "source": [
    "# !pip install joblib==1.1.0"
   ]
  },
  {
   "cell_type": "code",
   "execution_count": 6,
   "id": "94ad3369",
   "metadata": {
    "execution": {
     "iopub.execute_input": "2022-09-04T10:09:17.142795Z",
     "iopub.status.busy": "2022-09-04T10:09:17.142117Z",
     "iopub.status.idle": "2022-09-04T10:09:17.148973Z",
     "shell.execute_reply": "2022-09-04T10:09:17.146507Z"
    },
    "papermill": {
     "duration": 0.016286,
     "end_time": "2022-09-04T10:09:17.151298",
     "exception": false,
     "start_time": "2022-09-04T10:09:17.135012",
     "status": "completed"
    },
    "tags": []
   },
   "outputs": [],
   "source": [
    "PATH_DATA = '../data/'\n",
    "PATH_MODEL = '../artifacts/'"
   ]
  },
  {
   "cell_type": "code",
   "execution_count": null,
   "id": "af43c97f",
   "metadata": {
    "papermill": {
     "duration": 0.007365,
     "end_time": "2022-09-04T10:09:17.164978",
     "exception": false,
     "start_time": "2022-09-04T10:09:17.157613",
     "status": "completed"
    },
    "tags": []
   },
   "outputs": [],
   "source": []
  },
  {
   "cell_type": "markdown",
   "id": "72344cd0",
   "metadata": {
    "papermill": {
     "duration": 0.006615,
     "end_time": "2022-09-04T10:09:17.177990",
     "exception": false,
     "start_time": "2022-09-04T10:09:17.171375",
     "status": "completed"
    },
    "tags": []
   },
   "source": [
    "## Get The Data"
   ]
  },
  {
   "cell_type": "code",
   "execution_count": 7,
   "id": "0bd1cc7e",
   "metadata": {
    "execution": {
     "iopub.execute_input": "2022-09-04T10:09:17.193554Z",
     "iopub.status.busy": "2022-09-04T10:09:17.192430Z",
     "iopub.status.idle": "2022-09-04T10:09:17.343004Z",
     "shell.execute_reply": "2022-09-04T10:09:17.341103Z"
    },
    "papermill": {
     "duration": 0.161825,
     "end_time": "2022-09-04T10:09:17.346194",
     "exception": false,
     "start_time": "2022-09-04T10:09:17.184369",
     "status": "completed"
    },
    "tags": []
   },
   "outputs": [],
   "source": [
    "dfX = pd.read_csv(PATH_DATA+\"data_demand_ML_prep.csv\")"
   ]
  },
  {
   "cell_type": "code",
   "execution_count": 8,
   "id": "4319cbe8",
   "metadata": {
    "execution": {
     "iopub.execute_input": "2022-09-04T10:09:17.361721Z",
     "iopub.status.busy": "2022-09-04T10:09:17.361031Z",
     "iopub.status.idle": "2022-09-04T10:09:17.374323Z",
     "shell.execute_reply": "2022-09-04T10:09:17.372745Z"
    },
    "papermill": {
     "duration": 0.024706,
     "end_time": "2022-09-04T10:09:17.377160",
     "exception": false,
     "start_time": "2022-09-04T10:09:17.352454",
     "status": "completed"
    },
    "tags": []
   },
   "outputs": [
    {
     "data": {
      "text/plain": [
       "(14322, 54)"
      ]
     },
     "execution_count": 8,
     "metadata": {},
     "output_type": "execute_result"
    }
   ],
   "source": [
    "dfX.shape"
   ]
  },
  {
   "cell_type": "code",
   "execution_count": 9,
   "id": "13a8b175",
   "metadata": {
    "execution": {
     "iopub.execute_input": "2022-09-04T10:09:17.391376Z",
     "iopub.status.busy": "2022-09-04T10:09:17.390672Z",
     "iopub.status.idle": "2022-09-04T10:09:17.399098Z",
     "shell.execute_reply": "2022-09-04T10:09:17.397927Z"
    },
    "papermill": {
     "duration": 0.017804,
     "end_time": "2022-09-04T10:09:17.401035",
     "exception": false,
     "start_time": "2022-09-04T10:09:17.383231",
     "status": "completed"
    },
    "tags": []
   },
   "outputs": [],
   "source": [
    "col_use = []"
   ]
  },
  {
   "cell_type": "code",
   "execution_count": 10,
   "id": "06f36bba",
   "metadata": {
    "execution": {
     "iopub.execute_input": "2022-09-04T10:09:17.416932Z",
     "iopub.status.busy": "2022-09-04T10:09:17.415761Z",
     "iopub.status.idle": "2022-09-04T10:09:17.421165Z",
     "shell.execute_reply": "2022-09-04T10:09:17.420098Z"
    },
    "papermill": {
     "duration": 0.01569,
     "end_time": "2022-09-04T10:09:17.423424",
     "exception": false,
     "start_time": "2022-09-04T10:09:17.407734",
     "status": "completed"
    },
    "tags": []
   },
   "outputs": [],
   "source": [
    "col_use.sort()"
   ]
  },
  {
   "cell_type": "code",
   "execution_count": 11,
   "id": "71ed164d",
   "metadata": {
    "execution": {
     "iopub.execute_input": "2022-09-04T10:09:17.439425Z",
     "iopub.status.busy": "2022-09-04T10:09:17.438693Z",
     "iopub.status.idle": "2022-09-04T10:09:17.444670Z",
     "shell.execute_reply": "2022-09-04T10:09:17.443122Z"
    },
    "papermill": {
     "duration": 0.016958,
     "end_time": "2022-09-04T10:09:17.447674",
     "exception": false,
     "start_time": "2022-09-04T10:09:17.430716",
     "status": "completed"
    },
    "tags": []
   },
   "outputs": [],
   "source": [
    "y_target = 'demand'"
   ]
  },
  {
   "cell_type": "code",
   "execution_count": null,
   "id": "0d9ccbd9",
   "metadata": {
    "papermill": {
     "duration": 0.012417,
     "end_time": "2022-09-04T10:09:17.468269",
     "exception": false,
     "start_time": "2022-09-04T10:09:17.455852",
     "status": "completed"
    },
    "tags": []
   },
   "outputs": [],
   "source": []
  },
  {
   "cell_type": "markdown",
   "id": "b5864120",
   "metadata": {
    "papermill": {
     "duration": 0.008629,
     "end_time": "2022-09-04T10:09:17.483296",
     "exception": false,
     "start_time": "2022-09-04T10:09:17.474667",
     "status": "completed"
    },
    "tags": []
   },
   "source": [
    "##  Train Test"
   ]
  },
  {
   "cell_type": "code",
   "execution_count": 12,
   "id": "91b89c00",
   "metadata": {
    "execution": {
     "iopub.execute_input": "2022-09-04T10:09:17.498876Z",
     "iopub.status.busy": "2022-09-04T10:09:17.497723Z",
     "iopub.status.idle": "2022-09-04T10:09:17.512878Z",
     "shell.execute_reply": "2022-09-04T10:09:17.511615Z"
    },
    "papermill": {
     "duration": 0.025651,
     "end_time": "2022-09-04T10:09:17.515788",
     "exception": false,
     "start_time": "2022-09-04T10:09:17.490137",
     "status": "completed"
    },
    "tags": []
   },
   "outputs": [],
   "source": [
    "dfX_train = dfX[dfX.MonthYear<='2022-01']\n",
    "dfX_test = dfX[dfX.MonthYear>'2022-01']"
   ]
  },
  {
   "cell_type": "code",
   "execution_count": 13,
   "id": "0e49bf6f",
   "metadata": {
    "execution": {
     "iopub.execute_input": "2022-09-04T10:09:17.530397Z",
     "iopub.status.busy": "2022-09-04T10:09:17.529887Z",
     "iopub.status.idle": "2022-09-04T10:09:17.536329Z",
     "shell.execute_reply": "2022-09-04T10:09:17.535437Z"
    },
    "papermill": {
     "duration": 0.016416,
     "end_time": "2022-09-04T10:09:17.538596",
     "exception": false,
     "start_time": "2022-09-04T10:09:17.522180",
     "status": "completed"
    },
    "tags": []
   },
   "outputs": [
    {
     "data": {
      "text/plain": [
       "(2046, 54)"
      ]
     },
     "execution_count": 13,
     "metadata": {},
     "output_type": "execute_result"
    }
   ],
   "source": [
    "dfX_test.shape"
   ]
  },
  {
   "cell_type": "code",
   "execution_count": 14,
   "id": "c7ae852e",
   "metadata": {
    "execution": {
     "iopub.execute_input": "2022-09-04T10:09:17.555949Z",
     "iopub.status.busy": "2022-09-04T10:09:17.554945Z",
     "iopub.status.idle": "2022-09-04T10:09:17.564183Z",
     "shell.execute_reply": "2022-09-04T10:09:17.562876Z"
    },
    "papermill": {
     "duration": 0.022711,
     "end_time": "2022-09-04T10:09:17.567702",
     "exception": false,
     "start_time": "2022-09-04T10:09:17.544991",
     "status": "completed"
    },
    "tags": []
   },
   "outputs": [
    {
     "data": {
      "text/plain": [
       "0.14285714285714285"
      ]
     },
     "execution_count": 14,
     "metadata": {},
     "output_type": "execute_result"
    }
   ],
   "source": [
    "len(dfX_test)/len(dfX)"
   ]
  },
  {
   "cell_type": "code",
   "execution_count": null,
   "id": "a22bb50d",
   "metadata": {
    "papermill": {
     "duration": 0.006599,
     "end_time": "2022-09-04T10:09:17.581146",
     "exception": false,
     "start_time": "2022-09-04T10:09:17.574547",
     "status": "completed"
    },
    "tags": []
   },
   "outputs": [],
   "source": []
  },
  {
   "cell_type": "code",
   "execution_count": 15,
   "id": "1604c49d",
   "metadata": {
    "execution": {
     "iopub.execute_input": "2022-09-04T10:09:17.597069Z",
     "iopub.status.busy": "2022-09-04T10:09:17.595972Z",
     "iopub.status.idle": "2022-09-04T10:09:17.606558Z",
     "shell.execute_reply": "2022-09-04T10:09:17.604766Z"
    },
    "papermill": {
     "duration": 0.022061,
     "end_time": "2022-09-04T10:09:17.609824",
     "exception": false,
     "start_time": "2022-09-04T10:09:17.587763",
     "status": "completed"
    },
    "tags": []
   },
   "outputs": [],
   "source": [
    "X_train = dfX_train[col_use]\n",
    "y_train = dfX_train[y_target]\n",
    "\n",
    "X_test = dfX_test[col_use]\n",
    "y_test = dfX_test[y_target]"
   ]
  },
  {
   "cell_type": "code",
   "execution_count": null,
   "id": "7b63b6d4",
   "metadata": {
    "papermill": {
     "duration": 0.006042,
     "end_time": "2022-09-04T10:09:17.622056",
     "exception": false,
     "start_time": "2022-09-04T10:09:17.616014",
     "status": "completed"
    },
    "tags": []
   },
   "outputs": [],
   "source": []
  },
  {
   "cell_type": "code",
   "execution_count": 16,
   "id": "862c1bc1",
   "metadata": {
    "execution": {
     "iopub.execute_input": "2022-09-04T10:09:17.637480Z",
     "iopub.status.busy": "2022-09-04T10:09:17.636628Z",
     "iopub.status.idle": "2022-09-04T10:09:17.661699Z",
     "shell.execute_reply": "2022-09-04T10:09:17.659762Z"
    },
    "papermill": {
     "duration": 0.035878,
     "end_time": "2022-09-04T10:09:17.664401",
     "exception": false,
     "start_time": "2022-09-04T10:09:17.628523",
     "status": "completed"
    },
    "tags": []
   },
   "outputs": [],
   "source": [
    "## StantardScaler\n",
    "SS_demand = StandardScaler()\n",
    "SS_demand.fit(X_train)\n",
    "\n",
    "X_tr = SS_demand.transform(X_train)\n",
    "X_te = SS_demand.transform(X_test)"
   ]
  },
  {
   "cell_type": "code",
   "execution_count": null,
   "id": "355a5b56",
   "metadata": {
    "papermill": {
     "duration": 0.008223,
     "end_time": "2022-09-04T10:09:17.681338",
     "exception": false,
     "start_time": "2022-09-04T10:09:17.673115",
     "status": "completed"
    },
    "tags": []
   },
   "outputs": [],
   "source": []
  },
  {
   "cell_type": "markdown",
   "id": "eb6cc694",
   "metadata": {
    "papermill": {
     "duration": 0.012053,
     "end_time": "2022-09-04T10:09:17.714736",
     "exception": false,
     "start_time": "2022-09-04T10:09:17.702683",
     "status": "completed"
    },
    "tags": []
   },
   "source": [
    "## Modelling"
   ]
  },
  {
   "cell_type": "code",
   "execution_count": null,
   "id": "2217e504",
   "metadata": {
    "papermill": {
     "duration": 0.00664,
     "end_time": "2022-09-04T10:09:17.728644",
     "exception": false,
     "start_time": "2022-09-04T10:09:17.722004",
     "status": "completed"
    },
    "tags": []
   },
   "outputs": [],
   "source": []
  },
  {
   "cell_type": "code",
   "execution_count": 17,
   "id": "d831ceb3",
   "metadata": {
    "execution": {
     "iopub.execute_input": "2022-09-04T10:09:17.747310Z",
     "iopub.status.busy": "2022-09-04T10:09:17.746236Z",
     "iopub.status.idle": "2022-09-04T10:09:17.755794Z",
     "shell.execute_reply": "2022-09-04T10:09:17.754230Z"
    },
    "papermill": {
     "duration": 0.022096,
     "end_time": "2022-09-04T10:09:17.758155",
     "exception": false,
     "start_time": "2022-09-04T10:09:17.736059",
     "status": "completed"
    },
    "tags": []
   },
   "outputs": [],
   "source": [
    "base_reg = LinearRegression(fit_intercept=True)\n",
    "\n",
    "all_model = {'reg' : base_reg\n",
    "            ,'lrd' : Ridge(alpha=0.8, fit_intercept=True, copy_X=True, max_iter=3000, tol=0.0001) ##--> L2\n",
    "            ,'llo' : Lasso(alpha=0.9, fit_intercept=True, copy_X=True, max_iter=3000, tol=0.0001) ##--> L1\n",
    "            ,'eln' : ElasticNet(alpha=1.0, l1_ratio=0.5, fit_intercept=True, max_iter=3000, tol=0.0001)\n",
    "            ,'dtr' : DecisionTreeRegressor(max_depth=10, min_samples_split=2, max_features=0.8)\n",
    "            # ,'gbr' : GradientBoostingRegressor(loss='absolute_error', learning_rate=0.1, n_estimators=100, subsample=1.0, min_samples_leaf=1, max_depth=3, max_features=0.9, alpha=0.9)\n",
    "            ,'rfr' : RandomForestRegressor(n_estimators=30, max_depth=20, min_samples_split=2, min_weight_fraction_leaf=0.0, \n",
    "                                           max_features=0.9, max_samples=0.95,n_jobs=3)\n",
    "            \n",
    "            ,'bag_dt' : BaggingRegressor(base_estimator=None, n_estimators=10, max_samples=1.0, max_features=1.0,n_jobs=3)\n",
    "            ,'bag_lr' : BaggingRegressor(base_estimator=base_reg, n_estimators=10, max_samples=1.0, max_features=1.0,n_jobs=3)\n",
    "            ,'ada_dt' : AdaBoostRegressor(base_estimator=None, n_estimators=50, learning_rate=1.0, loss='linear') # loss{‘linear’, ‘square’, ‘exponential’}, default=’linear’\n",
    "            ,'ada_lr' : AdaBoostRegressor(base_estimator=base_reg, n_estimators=50, learning_rate=1.0, loss='linear') # loss{‘linear’, ‘square’, ‘exponential’}, default=’linear’\n",
    "            }"
   ]
  },
  {
   "cell_type": "code",
   "execution_count": 18,
   "id": "82efdda0",
   "metadata": {
    "execution": {
     "iopub.execute_input": "2022-09-04T10:09:17.775350Z",
     "iopub.status.busy": "2022-09-04T10:09:17.774191Z",
     "iopub.status.idle": "2022-09-04T10:09:17.804692Z",
     "shell.execute_reply": "2022-09-04T10:09:17.802970Z"
    },
    "papermill": {
     "duration": 0.041716,
     "end_time": "2022-09-04T10:09:17.807073",
     "exception": false,
     "start_time": "2022-09-04T10:09:17.765357",
     "status": "completed"
    },
    "tags": []
   },
   "outputs": [],
   "source": [
    "param_options = {'reg' : dict(fit_intercept=[True, False])\n",
    "                ,'lrd' : dict(alpha=uniform(loc=0.5,scale=0.48)\n",
    "                            ,fit_intercept=[True, False]\n",
    "                            ,max_iter=[200,400,600,1000,2000,3000,5000]\n",
    "                            ,tol=[0.00005,0.0001,0.0005,0.001,0.002,0.05,0.1,0.2]\n",
    "                            ) \n",
    "                ,'llo' : dict(alpha=uniform(loc=0.5,scale=0.48)\n",
    "                            ,fit_intercept=[True, False]\n",
    "                            ,max_iter=[200,400,600,1000,2000,3000,5000]\n",
    "                            ,tol=[0.00005,0.0001,0.0005,0.001,0.002,0.05,0.1,0.2]\n",
    "                            ) \n",
    "                ,'eln' : dict(alpha=uniform(loc=0.5,scale=0.48)\n",
    "                            ,l1_ratio=uniform(loc=0.5,scale=0.48)\n",
    "                            ,fit_intercept=[True, False]\n",
    "                            ,max_iter=[200,400,600,1000,2000,3000,5000]\n",
    "                            ,tol=[0.00005,0.0001,0.0005,0.001,0.002,0.05,0.1,0.2]\n",
    "                            ) \n",
    "                 \n",
    "                ,'dtr' : dict(max_depth=randint(3, 35)\n",
    "                            ,min_samples_split=randint(2, 15)\n",
    "                            ,max_features=uniform(loc=0.5,scale=0.48)\n",
    "                            ) \n",
    "                 \n",
    "                ,'rfr' : dict(n_estimators=randint(10,250)\n",
    "                              ,max_depth=randint(3, 25)\n",
    "                              ,min_samples_split=randint(2, 15)\n",
    "                              ,min_weight_fraction_leaf=uniform(loc=0.2,scale=0.2)\n",
    "                              ,max_features=uniform(loc=0.9,scale=0.1)\n",
    "                             )\n",
    "                 \n",
    "                ,'gbr' : dict(learning_rate=uniform(loc=0.2,scale=0.15)\n",
    "                              ,n_estimators=randint(10,350)\n",
    "                              ,min_samples_leaf=randint(2, 15)\n",
    "                              ,max_depth=randint(3, 30)\n",
    "                              ,max_features=uniform(loc=0.9,scale=0.1)\n",
    "                              ,alpha=uniform(loc=0.95,scale=0.05)\n",
    "                             )\n",
    "\n",
    "                ,'bag_dt' : dict(n_estimators=randint(120,500)\n",
    "                                 ,max_samples=uniform(loc=0.85,scale=0.15)\n",
    "                                 ,max_features=uniform(loc=0.9,scale=0.1))\n",
    "                ,'bag_lr' : dict(n_estimators=randint(120,500)\n",
    "                                 ,max_samples=uniform(loc=0.85,scale=0.15)\n",
    "                                 ,max_features=uniform(loc=0.9,scale=0.1))\n",
    "                 \n",
    "                ,'ada_dt' : dict(n_estimators=randint(150,500)\n",
    "                                ,learning_rate=uniform(loc=0.7,scale=0.3)\n",
    "                                ,loss=['linear', 'square', 'exponential'])\n",
    "                ,'ada_lr' : dict(n_estimators=randint(150,500)\n",
    "                                ,learning_rate=uniform(loc=0.7,scale=0.3)\n",
    "                                ,loss=['linear', 'square', 'exponential'])\n",
    "                } "
   ]
  },
  {
   "cell_type": "code",
   "execution_count": null,
   "id": "16927080",
   "metadata": {
    "papermill": {
     "duration": 0.006616,
     "end_time": "2022-09-04T10:09:17.821002",
     "exception": false,
     "start_time": "2022-09-04T10:09:17.814386",
     "status": "completed"
    },
    "tags": []
   },
   "outputs": [],
   "source": []
  },
  {
   "cell_type": "code",
   "execution_count": 19,
   "id": "2268f893",
   "metadata": {
    "execution": {
     "iopub.execute_input": "2022-09-04T10:09:17.838676Z",
     "iopub.status.busy": "2022-09-04T10:09:17.837989Z",
     "iopub.status.idle": "2022-09-04T10:53:25.278234Z",
     "shell.execute_reply": "2022-09-04T10:53:25.276922Z"
    },
    "papermill": {
     "duration": 2647.463587,
     "end_time": "2022-09-04T10:53:25.291697",
     "exception": false,
     "start_time": "2022-09-04T10:09:17.828110",
     "status": "completed"
    },
    "tags": []
   },
   "outputs": [
    {
     "name": "stdout",
     "output_type": "stream",
     "text": [
      "reg is done in  0.02  minutes\n",
      "lrd is done in  0.07  minutes\n",
      "llo is done in  0.27  minutes\n",
      "eln is done in  0.38  minutes\n",
      "dtr is done in  0.35  minutes\n",
      "rfr is done in  2.37  minutes\n"
     ]
    },
    {
     "name": "stderr",
     "output_type": "stream",
     "text": [
      "/usr/local/lib/python3.7/site-packages/sklearn/linear_model/_coordinate_descent.py:532: ConvergenceWarning: Objective did not converge. You might want to increase the number of iterations. Duality gap: 6209.108965163119, tolerance: 378.3652110242198\n",
      "  positive)\n",
      "/usr/local/lib/python3.7/site-packages/sklearn/linear_model/_coordinate_descent.py:532: ConvergenceWarning: Objective did not converge. You might want to increase the number of iterations. Duality gap: 7555.36307583563, tolerance: 540.0547\n",
      "  positive)\n",
      "/usr/local/lib/python3.7/site-packages/sklearn/linear_model/_coordinate_descent.py:532: ConvergenceWarning: Objective did not converge. You might want to increase the number of iterations. Duality gap: 7632.733337965328, tolerance: 756.7304220484396\n",
      "  positive)\n",
      "/usr/local/lib/python3.7/site-packages/sklearn/linear_model/_coordinate_descent.py:532: ConvergenceWarning: Objective did not converge. You might want to increase the number of iterations. Duality gap: 8383.078704778105, tolerance: 5400.5470000000005\n",
      "  positive)\n",
      "/usr/local/lib/python3.7/site-packages/sklearn/linear_model/_coordinate_descent.py:532: ConvergenceWarning: Objective did not converge. You might want to increase the number of iterations. Duality gap: 102448.98887193296, tolerance: 21602.188000000002\n",
      "  positive)\n",
      "/usr/local/lib/python3.7/site-packages/sklearn/linear_model/_coordinate_descent.py:532: ConvergenceWarning: Objective did not converge. You might want to increase the number of iterations. Duality gap: 1295.055726045277, tolerance: 331.2954854349948\n",
      "  positive)\n",
      "/usr/local/lib/python3.7/site-packages/sklearn/linear_model/_coordinate_descent.py:532: ConvergenceWarning: Objective did not converge. You might want to increase the number of iterations. Duality gap: 247.2512263734825, tolerance: 203.79531076354934\n",
      "  positive)\n",
      "/usr/local/lib/python3.7/site-packages/sklearn/linear_model/_coordinate_descent.py:532: ConvergenceWarning: Objective did not converge. You might want to increase the number of iterations. Duality gap: 2846.2126862513833, tolerance: 354.71675923753406\n",
      "  positive)\n",
      "/usr/local/lib/python3.7/site-packages/sklearn/linear_model/_coordinate_descent.py:532: ConvergenceWarning: Objective did not converge. You might want to increase the number of iterations. Duality gap: 6791.985844531562, tolerance: 378.3652110242198\n",
      "  positive)\n",
      "/usr/local/lib/python3.7/site-packages/sklearn/linear_model/_coordinate_descent.py:532: ConvergenceWarning: Objective did not converge. You might want to increase the number of iterations. Duality gap: 1070.7739641191438, tolerance: 378.3652110242198\n",
      "  positive)\n",
      "/usr/local/lib/python3.7/site-packages/sklearn/linear_model/_coordinate_descent.py:532: ConvergenceWarning: Objective did not converge. You might want to increase the number of iterations. Duality gap: 8694.82164077228, tolerance: 331.2954854349948\n",
      "  positive)\n",
      "/usr/local/lib/python3.7/site-packages/sklearn/linear_model/_coordinate_descent.py:532: ConvergenceWarning: Objective did not converge. You might want to increase the number of iterations. Duality gap: 6056.88040402066, tolerance: 354.71675923753406\n",
      "  positive)\n",
      "/usr/local/lib/python3.7/site-packages/sklearn/linear_model/_coordinate_descent.py:532: ConvergenceWarning: Objective did not converge. You might want to increase the number of iterations. Duality gap: 8371.70844402071, tolerance: 485.2936\n",
      "  positive)\n",
      "/usr/local/lib/python3.7/site-packages/sklearn/linear_model/_coordinate_descent.py:532: ConvergenceWarning: Objective did not converge. You might want to increase the number of iterations. Duality gap: 6255.136861671694, tolerance: 662.5909708699896\n",
      "  positive)\n",
      "/usr/local/lib/python3.7/site-packages/sklearn/linear_model/_coordinate_descent.py:532: ConvergenceWarning: Objective did not converge. You might want to increase the number of iterations. Duality gap: 528.2338914591819, tolerance: 485.2936\n",
      "  positive)\n",
      "/usr/local/lib/python3.7/site-packages/sklearn/linear_model/_coordinate_descent.py:532: ConvergenceWarning: Objective did not converge. You might want to increase the number of iterations. Duality gap: 11062.59002725035, tolerance: 4852.936\n",
      "  positive)\n",
      "/usr/local/lib/python3.7/site-packages/sklearn/linear_model/_coordinate_descent.py:532: ConvergenceWarning: Objective did not converge. You might want to increase the number of iterations. Duality gap: 1244.4531090501696, tolerance: 331.2954854349948\n",
      "  positive)\n",
      "/usr/local/lib/python3.7/site-packages/sklearn/linear_model/_coordinate_descent.py:532: ConvergenceWarning: Objective did not converge. You might want to increase the number of iterations. Duality gap: 1661.2944232339505, tolerance: 203.79531076354934\n",
      "  positive)\n",
      "/usr/local/lib/python3.7/site-packages/sklearn/linear_model/_coordinate_descent.py:532: ConvergenceWarning: Objective did not converge. You might want to increase the number of iterations. Duality gap: 6370.757995374501, tolerance: 497.6825\n",
      "  positive)\n",
      "/usr/local/lib/python3.7/site-packages/sklearn/linear_model/_coordinate_descent.py:532: ConvergenceWarning: Objective did not converge. You might want to increase the number of iterations. Duality gap: 5958.187409902457, tolerance: 709.4335184750681\n",
      "  positive)\n",
      "/usr/local/lib/python3.7/site-packages/sklearn/linear_model/_coordinate_descent.py:532: ConvergenceWarning: Objective did not converge. You might want to increase the number of iterations. Duality gap: 1123.8804379245266, tolerance: 540.0547\n",
      "  positive)\n",
      "/usr/local/lib/python3.7/site-packages/sklearn/linear_model/_coordinate_descent.py:532: ConvergenceWarning: Objective did not converge. You might want to increase the number of iterations. Duality gap: 13144.443210996687, tolerance: 9705.872\n",
      "  positive)\n",
      "/usr/local/lib/python3.7/site-packages/sklearn/linear_model/_coordinate_descent.py:532: ConvergenceWarning: Objective did not converge. You might want to increase the number of iterations. Duality gap: 3860.7194120781496, tolerance: 970.5872\n",
      "  positive)\n",
      "/usr/local/lib/python3.7/site-packages/sklearn/linear_model/_coordinate_descent.py:532: ConvergenceWarning: Objective did not converge. You might want to increase the number of iterations. Duality gap: 5088.584162006155, tolerance: 995.365\n",
      "  positive)\n",
      "/usr/local/lib/python3.7/site-packages/sklearn/linear_model/_coordinate_descent.py:532: ConvergenceWarning: Objective did not converge. You might want to increase the number of iterations. Duality gap: 6286.158711452037, tolerance: 1080.1094\n",
      "  positive)\n",
      "/usr/local/lib/python3.7/site-packages/sklearn/linear_model/_coordinate_descent.py:532: ConvergenceWarning: Objective did not converge. You might want to increase the number of iterations. Duality gap: 3791.00948343426, tolerance: 485.2936\n",
      "  positive)\n",
      "/usr/local/lib/python3.7/site-packages/sklearn/linear_model/_coordinate_descent.py:532: ConvergenceWarning: Objective did not converge. You might want to increase the number of iterations. Duality gap: 4010.642728447914, tolerance: 497.6825\n",
      "  positive)\n",
      "/usr/local/lib/python3.7/site-packages/sklearn/linear_model/_coordinate_descent.py:532: ConvergenceWarning: Objective did not converge. You might want to increase the number of iterations. Duality gap: 4340.641154875979, tolerance: 540.0547\n",
      "  positive)\n",
      "/usr/local/lib/python3.7/site-packages/sklearn/linear_model/_coordinate_descent.py:532: ConvergenceWarning: Objective did not converge. You might want to increase the number of iterations. Duality gap: 1205.5896894503385, tolerance: 354.71675923753406\n",
      "  positive)\n",
      "/usr/local/lib/python3.7/site-packages/sklearn/linear_model/_coordinate_descent.py:532: ConvergenceWarning: Objective did not converge. You might want to increase the number of iterations. Duality gap: 2185.4810314057395, tolerance: 331.2954854349948\n",
      "  positive)\n",
      "/usr/local/lib/python3.7/site-packages/sklearn/linear_model/_coordinate_descent.py:532: ConvergenceWarning: Objective did not converge. You might want to increase the number of iterations. Duality gap: 4133.394810441881, tolerance: 354.71675923753406\n",
      "  positive)\n",
      "/usr/local/lib/python3.7/site-packages/sklearn/linear_model/_coordinate_descent.py:532: ConvergenceWarning: Objective did not converge. You might want to increase the number of iterations. Duality gap: 5970.269310327247, tolerance: 378.3652110242198\n",
      "  positive)\n",
      "/usr/local/lib/python3.7/site-packages/sklearn/linear_model/_coordinate_descent.py:532: ConvergenceWarning: Objective did not converge. You might want to increase the number of iterations. Duality gap: 906.1120419576764, tolerance: 497.6825\n",
      "  positive)\n",
      "/usr/local/lib/python3.7/site-packages/sklearn/linear_model/_coordinate_descent.py:532: ConvergenceWarning: Objective did not converge. You might want to increase the number of iterations. Duality gap: 6725.32930014655, tolerance: 4852.936\n",
      "  positive)\n",
      "/usr/local/lib/python3.7/site-packages/sklearn/linear_model/_coordinate_descent.py:532: ConvergenceWarning: Objective did not converge. You might want to increase the number of iterations. Duality gap: 7158.852285004221, tolerance: 4976.825\n",
      "  positive)\n",
      "/usr/local/lib/python3.7/site-packages/sklearn/linear_model/_coordinate_descent.py:532: ConvergenceWarning: Objective did not converge. You might want to increase the number of iterations. Duality gap: 67118.23632152472, tolerance: 19907.3\n",
      "  positive)\n",
      "/usr/local/lib/python3.7/site-packages/sklearn/linear_model/_coordinate_descent.py:532: ConvergenceWarning: Objective did not converge. You might want to increase the number of iterations. Duality gap: 7210.13027383294, tolerance: 4976.825\n",
      "  positive)\n",
      "/usr/local/lib/python3.7/site-packages/sklearn/linear_model/_coordinate_descent.py:532: ConvergenceWarning: Objective did not converge. You might want to increase the number of iterations. Duality gap: 8738.052581419237, tolerance: 5400.5470000000005\n",
      "  positive)\n"
     ]
    },
    {
     "name": "stdout",
     "output_type": "stream",
     "text": [
      "bag_dt is done in  22.12  minutes\n",
      "bag_lr is done in  10.66  minutes\n",
      "ada_dt is done in  7.0  minutes\n",
      "ada_lr is done in  0.86  minutes\n"
     ]
    }
   ],
   "source": [
    "## scoring\n",
    "## https://scikit-learn.org/stable/modules/model_evaluation.html#scoring-parameter\n",
    "best_clf = {}\n",
    "best_scr = {}\n",
    "sla_model = {}\n",
    "for mdl in all_model.keys():\n",
    "    L1 = time.time()\n",
    "    clf = all_model[mdl]\n",
    "    parm = param_options[mdl]\n",
    "    if 'bag' in mdl or 'ada' in mdl:\n",
    "        RS = RandomizedSearchCV(clf, parm, n_iter = 50, cv = 4, scoring = 'neg_mean_absolute_error',n_jobs = 5)\n",
    "    else:\n",
    "        RS = RandomizedSearchCV(clf, parm, n_iter = 100, cv = 4, scoring = 'neg_mean_absolute_error',n_jobs = 4)\n",
    "        \n",
    "    RS.fit(X_tr,y_train)\n",
    "    \n",
    "    best_clf[mdl] = RS.best_estimator_\n",
    "    best_scr[mdl] = RS.best_score_\n",
    "    diff_time = round((time.time()-L1)/60, 2)\n",
    "    \n",
    "    joblib.dump(best_clf[mdl],PATH_MODEL+mdl+'.pkl')\n",
    "    \n",
    "    print(mdl, 'is done in ',diff_time, ' minutes')\n",
    "    sla_model[mdl] = diff_time"
   ]
  },
  {
   "cell_type": "code",
   "execution_count": 20,
   "id": "e0ed9c47",
   "metadata": {
    "execution": {
     "iopub.execute_input": "2022-09-04T10:53:25.368243Z",
     "iopub.status.busy": "2022-09-04T10:53:25.365995Z",
     "iopub.status.idle": "2022-09-04T10:53:25.382703Z",
     "shell.execute_reply": "2022-09-04T10:53:25.381185Z"
    },
    "papermill": {
     "duration": 0.065615,
     "end_time": "2022-09-04T10:53:25.384769",
     "exception": false,
     "start_time": "2022-09-04T10:53:25.319154",
     "status": "completed"
    },
    "tags": []
   },
   "outputs": [
    {
     "data": {
      "text/plain": [
       "{'reg': 0.02,\n",
       " 'lrd': 0.07,\n",
       " 'llo': 0.27,\n",
       " 'eln': 0.38,\n",
       " 'dtr': 0.35,\n",
       " 'rfr': 2.37,\n",
       " 'bag_dt': 22.12,\n",
       " 'bag_lr': 10.66,\n",
       " 'ada_dt': 7.0,\n",
       " 'ada_lr': 0.86}"
      ]
     },
     "execution_count": 20,
     "metadata": {},
     "output_type": "execute_result"
    }
   ],
   "source": [
    "sla_model"
   ]
  },
  {
   "cell_type": "code",
   "execution_count": 21,
   "id": "a99293da",
   "metadata": {
    "execution": {
     "iopub.execute_input": "2022-09-04T10:53:25.403955Z",
     "iopub.status.busy": "2022-09-04T10:53:25.403361Z",
     "iopub.status.idle": "2022-09-04T10:53:25.410610Z",
     "shell.execute_reply": "2022-09-04T10:53:25.409619Z"
    },
    "papermill": {
     "duration": 0.018724,
     "end_time": "2022-09-04T10:53:25.413077",
     "exception": false,
     "start_time": "2022-09-04T10:53:25.394353",
     "status": "completed"
    },
    "tags": []
   },
   "outputs": [
    {
     "data": {
      "text/plain": [
       "{'reg': -9.442845709202292,\n",
       " 'lrd': -9.415076520613074,\n",
       " 'llo': -9.164994967397636,\n",
       " 'eln': -9.120358682178045,\n",
       " 'dtr': -9.75751445268725,\n",
       " 'rfr': -10.602962260167885,\n",
       " 'bag_dt': -9.794535959771716,\n",
       " 'bag_lr': -9.34256417179956,\n",
       " 'ada_dt': -15.10308734304264,\n",
       " 'ada_lr': -11.853100501859414}"
      ]
     },
     "execution_count": 21,
     "metadata": {},
     "output_type": "execute_result"
    }
   ],
   "source": [
    "best_scr"
   ]
  },
  {
   "cell_type": "code",
   "execution_count": 22,
   "id": "86826376",
   "metadata": {
    "execution": {
     "iopub.execute_input": "2022-09-04T10:53:25.432513Z",
     "iopub.status.busy": "2022-09-04T10:53:25.431304Z",
     "iopub.status.idle": "2022-09-04T10:53:25.444552Z",
     "shell.execute_reply": "2022-09-04T10:53:25.443555Z"
    },
    "papermill": {
     "duration": 0.02534,
     "end_time": "2022-09-04T10:53:25.446253",
     "exception": false,
     "start_time": "2022-09-04T10:53:25.420913",
     "status": "completed"
    },
    "tags": []
   },
   "outputs": [
    {
     "data": {
      "text/plain": [
       "{'reg': LinearRegression(),\n",
       " 'lrd': Ridge(alpha=0.9632671829430663, max_iter=1000),\n",
       " 'llo': Lasso(alpha=0.5022595740623403, max_iter=5000, tol=5e-05),\n",
       " 'eln': ElasticNet(alpha=0.5064237029438007, l1_ratio=0.5176527372798125, max_iter=3000,\n",
       "            tol=0.05),\n",
       " 'dtr': DecisionTreeRegressor(max_depth=4, max_features=0.9725079349399351,\n",
       "                       min_samples_split=8),\n",
       " 'rfr': RandomForestRegressor(max_depth=17, max_features=0.9427935937943268,\n",
       "                       max_samples=0.95, min_samples_split=6,\n",
       "                       min_weight_fraction_leaf=0.20132746764485396,\n",
       "                       n_estimators=62, n_jobs=3),\n",
       " 'bag_dt': BaggingRegressor(max_features=0.9332405696695212,\n",
       "                  max_samples=0.8641894952795036, n_estimators=363, n_jobs=3),\n",
       " 'bag_lr': BaggingRegressor(base_estimator=LinearRegression(),\n",
       "                  max_features=0.904536370811343, max_samples=0.9612635187524665,\n",
       "                  n_estimators=158, n_jobs=3),\n",
       " 'ada_dt': AdaBoostRegressor(learning_rate=0.7685273935890953, n_estimators=289),\n",
       " 'ada_lr': AdaBoostRegressor(base_estimator=LinearRegression(),\n",
       "                   learning_rate=0.9042304864571834, n_estimators=200)}"
      ]
     },
     "execution_count": 22,
     "metadata": {},
     "output_type": "execute_result"
    }
   ],
   "source": [
    "best_clf"
   ]
  },
  {
   "cell_type": "code",
   "execution_count": null,
   "id": "bb023acb",
   "metadata": {
    "papermill": {
     "duration": 0.007946,
     "end_time": "2022-09-04T10:53:25.462361",
     "exception": false,
     "start_time": "2022-09-04T10:53:25.454415",
     "status": "completed"
    },
    "tags": []
   },
   "outputs": [],
   "source": []
  },
  {
   "cell_type": "markdown",
   "id": "23d10722",
   "metadata": {
    "papermill": {
     "duration": 0.007387,
     "end_time": "2022-09-04T10:53:25.477585",
     "exception": false,
     "start_time": "2022-09-04T10:53:25.470198",
     "status": "completed"
    },
    "tags": []
   },
   "source": [
    "## Evaluations\n"
   ]
  },
  {
   "cell_type": "code",
   "execution_count": 23,
   "id": "16de3ba1",
   "metadata": {
    "execution": {
     "iopub.execute_input": "2022-09-04T10:53:25.494370Z",
     "iopub.status.busy": "2022-09-04T10:53:25.494040Z",
     "iopub.status.idle": "2022-09-04T10:53:27.499066Z",
     "shell.execute_reply": "2022-09-04T10:53:27.497736Z"
    },
    "papermill": {
     "duration": 2.017508,
     "end_time": "2022-09-04T10:53:27.502589",
     "exception": false,
     "start_time": "2022-09-04T10:53:25.485081",
     "status": "completed"
    },
    "tags": []
   },
   "outputs": [],
   "source": [
    "all_val = []\n",
    "\n",
    "for ml in best_clf.keys():\n",
    "    Y_prob_pred = best_clf[ml].predict(X_te)\n",
    "    eval_temp = eval_model(y_test,Y_prob_pred)\n",
    "    eval_temp['model_name'] = ml\n",
    "    all_val.append(eval_temp)"
   ]
  },
  {
   "cell_type": "code",
   "execution_count": 24,
   "id": "189d6938",
   "metadata": {
    "execution": {
     "iopub.execute_input": "2022-09-04T10:53:27.538299Z",
     "iopub.status.busy": "2022-09-04T10:53:27.536818Z",
     "iopub.status.idle": "2022-09-04T10:53:27.555297Z",
     "shell.execute_reply": "2022-09-04T10:53:27.554244Z"
    },
    "papermill": {
     "duration": 0.041496,
     "end_time": "2022-09-04T10:53:27.557529",
     "exception": false,
     "start_time": "2022-09-04T10:53:27.516033",
     "status": "completed"
    },
    "tags": []
   },
   "outputs": [
    {
     "data": {
      "text/html": [
       "<div>\n",
       "<style scoped>\n",
       "    .dataframe tbody tr th:only-of-type {\n",
       "        vertical-align: middle;\n",
       "    }\n",
       "\n",
       "    .dataframe tbody tr th {\n",
       "        vertical-align: top;\n",
       "    }\n",
       "\n",
       "    .dataframe thead th {\n",
       "        text-align: right;\n",
       "    }\n",
       "</style>\n",
       "<table border=\"1\" class=\"dataframe\">\n",
       "  <thead>\n",
       "    <tr style=\"text-align: right;\">\n",
       "      <th></th>\n",
       "      <th>model_name</th>\n",
       "      <th>MAE</th>\n",
       "      <th>R2</th>\n",
       "    </tr>\n",
       "  </thead>\n",
       "  <tbody>\n",
       "    <tr>\n",
       "      <th>0</th>\n",
       "      <td>reg</td>\n",
       "      <td>11.455454</td>\n",
       "      <td>0.619078</td>\n",
       "    </tr>\n",
       "    <tr>\n",
       "      <th>1</th>\n",
       "      <td>lrd</td>\n",
       "      <td>11.438412</td>\n",
       "      <td>0.619362</td>\n",
       "    </tr>\n",
       "    <tr>\n",
       "      <th>2</th>\n",
       "      <td>llo</td>\n",
       "      <td>11.178993</td>\n",
       "      <td>0.636057</td>\n",
       "    </tr>\n",
       "    <tr>\n",
       "      <th>3</th>\n",
       "      <td>eln</td>\n",
       "      <td>11.238896</td>\n",
       "      <td>0.629846</td>\n",
       "    </tr>\n",
       "    <tr>\n",
       "      <th>4</th>\n",
       "      <td>dtr</td>\n",
       "      <td>11.546309</td>\n",
       "      <td>0.591492</td>\n",
       "    </tr>\n",
       "    <tr>\n",
       "      <th>5</th>\n",
       "      <td>rfr</td>\n",
       "      <td>13.735414</td>\n",
       "      <td>0.282431</td>\n",
       "    </tr>\n",
       "    <tr>\n",
       "      <th>6</th>\n",
       "      <td>bag_dt</td>\n",
       "      <td>11.897736</td>\n",
       "      <td>0.586301</td>\n",
       "    </tr>\n",
       "    <tr>\n",
       "      <th>7</th>\n",
       "      <td>bag_lr</td>\n",
       "      <td>11.439928</td>\n",
       "      <td>0.618966</td>\n",
       "    </tr>\n",
       "    <tr>\n",
       "      <th>8</th>\n",
       "      <td>ada_dt</td>\n",
       "      <td>15.717410</td>\n",
       "      <td>0.463325</td>\n",
       "    </tr>\n",
       "    <tr>\n",
       "      <th>9</th>\n",
       "      <td>ada_lr</td>\n",
       "      <td>13.042229</td>\n",
       "      <td>0.495981</td>\n",
       "    </tr>\n",
       "  </tbody>\n",
       "</table>\n",
       "</div>"
      ],
      "text/plain": [
       "  model_name        MAE        R2\n",
       "0        reg  11.455454  0.619078\n",
       "1        lrd  11.438412  0.619362\n",
       "2        llo  11.178993  0.636057\n",
       "3        eln  11.238896  0.629846\n",
       "4        dtr  11.546309  0.591492\n",
       "5        rfr  13.735414  0.282431\n",
       "6     bag_dt  11.897736  0.586301\n",
       "7     bag_lr  11.439928  0.618966\n",
       "8     ada_dt  15.717410  0.463325\n",
       "9     ada_lr  13.042229  0.495981"
      ]
     },
     "execution_count": 24,
     "metadata": {},
     "output_type": "execute_result"
    }
   ],
   "source": [
    "pd.DataFrame(all_val)[['model_name','MAE','R2']]"
   ]
  },
  {
   "cell_type": "code",
   "execution_count": null,
   "id": "d8d165c1",
   "metadata": {
    "papermill": {
     "duration": 0.011979,
     "end_time": "2022-09-04T10:53:27.580827",
     "exception": false,
     "start_time": "2022-09-04T10:53:27.568848",
     "status": "completed"
    },
    "tags": []
   },
   "outputs": [],
   "source": []
  },
  {
   "cell_type": "code",
   "execution_count": null,
   "id": "7fc7d26f",
   "metadata": {
    "execution": {
     "iopub.execute_input": "2022-09-04T10:53:27.600892Z",
     "iopub.status.busy": "2022-09-04T10:53:27.600481Z",
     "iopub.status.idle": "2022-09-04T10:53:27.626925Z",
     "shell.execute_reply": "2022-09-04T10:53:27.625600Z"
    },
    "papermill": {
     "duration": 0.039096,
     "end_time": "2022-09-04T10:53:27.629554",
     "exception": false,
     "start_time": "2022-09-04T10:53:27.590458",
     "status": "completed"
    },
    "tags": []
   },
   "outputs": [],
   "source": []
  },
  {
   "cell_type": "code",
   "execution_count": null,
   "id": "a1b65b0d",
   "metadata": {
    "papermill": {
     "duration": 0.008208,
     "end_time": "2022-09-04T10:53:27.647464",
     "exception": false,
     "start_time": "2022-09-04T10:53:27.639256",
     "status": "completed"
    },
    "tags": []
   },
   "outputs": [],
   "source": []
  }
 ],
 "metadata": {
  "instance_type": "ml.t3.medium",
  "kernelspec": {
   "display_name": "Python 3 (ipykernel)",
   "language": "python",
   "name": "python3"
  },
  "language_info": {
   "codemirror_mode": {
    "name": "ipython",
    "version": 3
   },
   "file_extension": ".py",
   "mimetype": "text/x-python",
   "name": "python",
   "nbconvert_exporter": "python",
   "pygments_lexer": "ipython3",
   "version": "3.7.13"
  },
  "papermill": {
   "default_parameters": {},
   "duration": 2655.994055,
   "end_time": "2022-09-04T10:53:30.284359",
   "environment_variables": {},
   "exception": null,
   "input_path": "5_2_ML_train.ipynb",
   "output_path": "5_2_ML_train_output.ipynb",
   "parameters": {},
   "start_time": "2022-09-04T10:09:14.290304",
   "version": "2.3.4"
  }
 },
 "nbformat": 4,
 "nbformat_minor": 5
}
