{
 "cells": [
  {
   "cell_type": "markdown",
   "metadata": {},
   "source": [
    "[20220924]\n",
    "\n",
    "# 2. Model 2\n",
    "\n",
    "After Preparation ready. Build and train the model in here. its using LSTM one layer. with data gen2"
   ]
  },
  {
   "cell_type": "markdown",
   "metadata": {},
   "source": [
    "## Goal\n",
    "Find patterns on the features for target\n",
    "\n",
    "## Plan\n",
    "Checklist what will be done on the notebook :\n",
    "\n",
    "        [ ] Get Data\n",
    "        [ ] Modelling\n",
    "        [ ] Evaluation"
   ]
  },
  {
   "cell_type": "code",
   "execution_count": 1,
   "metadata": {},
   "outputs": [],
   "source": [
    "import yaml\n",
    "import pandas as pd\n",
    "import matplotlib.pyplot as plt\n",
    "import os\n",
    "import joblib\n",
    "from statsmodels.tsa.arima.model import ARIMA\n",
    "import sys\n",
    "sys.path.insert(1,'../../src/')\n",
    "\n",
    "## import myfunc inside src folder\n",
    "from ramal import eval_model, jampi"
   ]
  },
  {
   "cell_type": "code",
   "execution_count": 2,
   "metadata": {},
   "outputs": [
    {
     "name": "stderr",
     "output_type": "stream",
     "text": [
      "2022-09-25 02:28:48.789602: W tensorflow/stream_executor/platform/default/dso_loader.cc:64] Could not load dynamic library 'libcudart.so.11.0'; dlerror: libcudart.so.11.0: cannot open shared object file: No such file or directory\n",
      "2022-09-25 02:28:48.789658: I tensorflow/stream_executor/cuda/cudart_stub.cc:29] Ignore above cudart dlerror if you do not have a GPU set up on your machine.\n",
      "/usr/local/lib/python3.7/site-packages/requests/__init__.py:104: RequestsDependencyWarning: urllib3 (1.26.11) or chardet (5.0.0)/charset_normalizer (2.0.12) doesn't match a supported version!\n",
      "  RequestsDependencyWarning)\n"
     ]
    }
   ],
   "source": [
    "from keras.models import Sequential\n",
    "from keras.layers import LSTM, Dropout, Flatten, Dense\n",
    "from keras.preprocessing.image import ImageDataGenerator\n",
    "from keras import metrics, optimizers\n",
    "import keras\n",
    "import tensorflow as tf\n",
    "from keras.models import load_model\n",
    "\n",
    "from sklearn.model_selection import train_test_split"
   ]
  },
  {
   "cell_type": "code",
   "execution_count": 3,
   "metadata": {},
   "outputs": [],
   "source": [
    "with open(\"../../config.yaml\", \"r\") as f:\n",
    "    config = yaml.load(f, Loader=yaml.FullLoader)\n",
    "\n",
    "PATH_RAW = config['path']['raw']\n",
    "PATH_INTERIM = config['path']['interim']\n",
    "PATH_PROCESSED = config['path']['processed']\n",
    "# PATH_MODEL = config['path']['artifact']+os.getcwd().split('\\\\')[-1]+'/'\n",
    "PATH_MODEL = config['path']['artifact']+'iteration_3'+'/'\n",
    "PATH_UDF = config['path']['udf']"
   ]
  },
  {
   "cell_type": "markdown",
   "metadata": {},
   "source": [
    "## Get Data"
   ]
  },
  {
   "cell_type": "code",
   "execution_count": 4,
   "metadata": {},
   "outputs": [],
   "source": [
    "Xt, yt, Xo, yo = joblib.load(PATH_INTERIM+'feat_target_gen2_iter3.pkl')\n",
    "Xt = Xt.astype(\"float32\")\n",
    "yt = yt.astype(\"float32\")\n",
    "\n",
    "Xo = Xo.astype(\"float32\")\n",
    "yo = yo.astype(\"float32\")"
   ]
  },
  {
   "cell_type": "code",
   "execution_count": 5,
   "metadata": {},
   "outputs": [
    {
     "data": {
      "text/plain": [
       "(426368, 10, 1)"
      ]
     },
     "execution_count": 5,
     "metadata": {},
     "output_type": "execute_result"
    }
   ],
   "source": [
    "Xt.shape"
   ]
  },
  {
   "cell_type": "code",
   "execution_count": 6,
   "metadata": {},
   "outputs": [
    {
     "data": {
      "text/plain": [
       "(426368, 1)"
      ]
     },
     "execution_count": 6,
     "metadata": {},
     "output_type": "execute_result"
    }
   ],
   "source": [
    "yt.shape"
   ]
  },
  {
   "cell_type": "code",
   "execution_count": 7,
   "metadata": {},
   "outputs": [],
   "source": [
    "SEQ = Xt.shape[1]"
   ]
  },
  {
   "cell_type": "code",
   "execution_count": 8,
   "metadata": {},
   "outputs": [],
   "source": [
    "## not the best way to split time series dataset\n",
    "x_tr, x_test, y_tr, y_test = train_test_split(\n",
    "    Xt, yt, test_size=0.25, random_state=42)\n",
    "\n",
    "x_train, x_val, y_train, y_val = train_test_split(\n",
    "    x_tr, y_tr, test_size=0.2, random_state=42)"
   ]
  },
  {
   "cell_type": "code",
   "execution_count": null,
   "metadata": {},
   "outputs": [],
   "source": []
  },
  {
   "cell_type": "markdown",
   "metadata": {
    "tags": []
   },
   "source": [
    "## Model 1"
   ]
  },
  {
   "cell_type": "code",
   "execution_count": 9,
   "metadata": {},
   "outputs": [],
   "source": [
    "# os.environ[\"CUDA_VISIBLE_DEVICES\"] "
   ]
  },
  {
   "cell_type": "code",
   "execution_count": 10,
   "metadata": {},
   "outputs": [
    {
     "name": "stdout",
     "output_type": "stream",
     "text": [
      "Num GPUs Available:  0\n"
     ]
    },
    {
     "name": "stderr",
     "output_type": "stream",
     "text": [
      "2022-09-25 02:28:56.411199: W tensorflow/stream_executor/platform/default/dso_loader.cc:64] Could not load dynamic library 'libcuda.so.1'; dlerror: libcuda.so.1: cannot open shared object file: No such file or directory\n",
      "2022-09-25 02:28:56.411265: W tensorflow/stream_executor/cuda/cuda_driver.cc:269] failed call to cuInit: UNKNOWN ERROR (303)\n",
      "2022-09-25 02:28:56.411287: I tensorflow/stream_executor/cuda/cuda_diagnostics.cc:156] kernel driver does not appear to be running on this host (62cd00eaf0b9): /proc/driver/nvidia/version does not exist\n"
     ]
    }
   ],
   "source": [
    "print(\"Num GPUs Available: \", len(tf.config.experimental.list_physical_devices('GPU')))"
   ]
  },
  {
   "cell_type": "code",
   "execution_count": 11,
   "metadata": {},
   "outputs": [
    {
     "name": "stderr",
     "output_type": "stream",
     "text": [
      "2022-09-25 02:28:57.133085: I tensorflow/core/platform/cpu_feature_guard.cc:151] This TensorFlow binary is optimized with oneAPI Deep Neural Network Library (oneDNN) to use the following CPU instructions in performance-critical operations:  AVX2 FMA\n",
      "To enable them in other operations, rebuild TensorFlow with the appropriate compiler flags.\n"
     ]
    }
   ],
   "source": [
    "mod_ts = Sequential()\n",
    "# mod_ts.add(LSTM(5, input_shape=(SEQ, 1)))\n",
    "mod_ts.add(LSTM(128, input_shape=(SEQ, 1), return_sequences=True))\n",
    "mod_ts.add(LSTM(64))\n",
    "# mod_ts.add(LSTM(8))\n",
    "mod_ts.add(Dense(32))\n",
    "mod_ts.add(Dense(16))\n",
    "mod_ts.add(Dense(1))\n"
   ]
  },
  {
   "cell_type": "code",
   "execution_count": 12,
   "metadata": {},
   "outputs": [],
   "source": [
    "early_stop = keras.callbacks.EarlyStopping(\n",
    "        monitor='val_loss',mode='min', patience=6) \n",
    "\n",
    "check_p = keras.callbacks.ModelCheckpoint(\n",
    "        filepath=PATH_MODEL+'ws_data_model2_iter3.h5',\n",
    "        monitor='val_loss',\n",
    "        mode='min',\n",
    "        save_best_only=True)\n",
    "\n",
    "opt = tf.keras.optimizers.Adam(learning_rate=0.0005)\n",
    "\n",
    "mod_ts.compile(loss='mean_squared_error', optimizer=opt, metrics=[\n",
    "        tf.keras.metrics.RootMeanSquaredError(name='the_rmse'),\n",
    "        tf.keras.metrics.MeanAbsolutePercentageError(name='the_mape'),\n",
    "    ])"
   ]
  },
  {
   "cell_type": "code",
   "execution_count": null,
   "metadata": {},
   "outputs": [],
   "source": []
  },
  {
   "cell_type": "code",
   "execution_count": 13,
   "metadata": {},
   "outputs": [
    {
     "name": "stdout",
     "output_type": "stream",
     "text": [
      "Epoch 1/50\n",
      "1999/1999 [==============================] - 82s 40ms/step - loss: 0.6673 - the_rmse: 0.8169 - the_mape: 96083.4375 - val_loss: 0.6481 - val_the_rmse: 0.8051 - val_the_mape: 105335.2188\n",
      "Epoch 2/50\n",
      "1999/1999 [==============================] - 77s 39ms/step - loss: 0.6141 - the_rmse: 0.7836 - the_mape: 76075.0234 - val_loss: 0.6230 - val_the_rmse: 0.7893 - val_the_mape: 26477.5918\n",
      "Epoch 3/50\n",
      "1999/1999 [==============================] - 80s 40ms/step - loss: 0.5963 - the_rmse: 0.7722 - the_mape: 61403.8164 - val_loss: 0.6084 - val_the_rmse: 0.7800 - val_the_mape: 31552.0898\n",
      "Epoch 4/50\n",
      "1999/1999 [==============================] - 72s 36ms/step - loss: 0.5867 - the_rmse: 0.7660 - the_mape: 57081.0508 - val_loss: 0.6024 - val_the_rmse: 0.7761 - val_the_mape: 53895.7578\n",
      "Epoch 5/50\n",
      "1999/1999 [==============================] - 70s 35ms/step - loss: 0.5814 - the_rmse: 0.7625 - the_mape: 64000.7500 - val_loss: 0.6025 - val_the_rmse: 0.7762 - val_the_mape: 21216.1797\n",
      "Epoch 6/50\n",
      "1999/1999 [==============================] - 71s 35ms/step - loss: 0.5768 - the_rmse: 0.7594 - the_mape: 59768.2383 - val_loss: 0.5942 - val_the_rmse: 0.7709 - val_the_mape: 67186.7031\n",
      "Epoch 7/50\n",
      "1999/1999 [==============================] - 69s 35ms/step - loss: 0.5729 - the_rmse: 0.7569 - the_mape: 65420.1953 - val_loss: 0.5913 - val_the_rmse: 0.7690 - val_the_mape: 84319.3359\n",
      "Epoch 8/50\n",
      "1999/1999 [==============================] - 70s 35ms/step - loss: 0.5692 - the_rmse: 0.7544 - the_mape: 65289.3281 - val_loss: 0.5880 - val_the_rmse: 0.7668 - val_the_mape: 50316.2461\n",
      "Epoch 9/50\n",
      "1999/1999 [==============================] - 70s 35ms/step - loss: 0.5659 - the_rmse: 0.7522 - the_mape: 71168.8438 - val_loss: 0.5902 - val_the_rmse: 0.7683 - val_the_mape: 24250.1055\n",
      "Epoch 10/50\n",
      "1999/1999 [==============================] - 69s 35ms/step - loss: 0.5630 - the_rmse: 0.7503 - the_mape: 64248.1016 - val_loss: 0.5873 - val_the_rmse: 0.7663 - val_the_mape: 30996.9199\n",
      "Epoch 11/50\n",
      "1999/1999 [==============================] - 70s 35ms/step - loss: 0.5601 - the_rmse: 0.7484 - the_mape: 65472.4414 - val_loss: 0.5886 - val_the_rmse: 0.7672 - val_the_mape: 80895.7109\n",
      "Epoch 12/50\n",
      "1999/1999 [==============================] - 70s 35ms/step - loss: 0.5570 - the_rmse: 0.7464 - the_mape: 76000.7500 - val_loss: 0.5842 - val_the_rmse: 0.7643 - val_the_mape: 130039.1562\n",
      "Epoch 13/50\n",
      "1999/1999 [==============================] - 69s 35ms/step - loss: 0.5537 - the_rmse: 0.7441 - the_mape: 81083.9375 - val_loss: 0.5903 - val_the_rmse: 0.7683 - val_the_mape: 98376.9609\n",
      "Epoch 14/50\n",
      "1999/1999 [==============================] - 69s 34ms/step - loss: 0.5506 - the_rmse: 0.7420 - the_mape: 77795.3906 - val_loss: 0.5861 - val_the_rmse: 0.7655 - val_the_mape: 56141.5117\n",
      "Epoch 15/50\n",
      "1999/1999 [==============================] - 70s 35ms/step - loss: 0.5478 - the_rmse: 0.7401 - the_mape: 71627.3359 - val_loss: 0.5845 - val_the_rmse: 0.7645 - val_the_mape: 56656.2383\n",
      "Epoch 16/50\n",
      "1999/1999 [==============================] - 70s 35ms/step - loss: 0.5445 - the_rmse: 0.7379 - the_mape: 70001.0312 - val_loss: 0.5906 - val_the_rmse: 0.7685 - val_the_mape: 40088.9766\n",
      "Epoch 17/50\n",
      "1999/1999 [==============================] - 70s 35ms/step - loss: 0.5420 - the_rmse: 0.7362 - the_mape: 64432.7891 - val_loss: 0.5863 - val_the_rmse: 0.7657 - val_the_mape: 86673.9609\n",
      "Epoch 18/50\n",
      "1999/1999 [==============================] - 69s 35ms/step - loss: 0.5377 - the_rmse: 0.7333 - the_mape: 69336.4609 - val_loss: 0.5889 - val_the_rmse: 0.7674 - val_the_mape: 33941.4375\n"
     ]
    }
   ],
   "source": [
    "history = mod_ts.fit(\n",
    "    x_train,\n",
    "    y_train,\n",
    "    batch_size=128,\n",
    "    epochs=50,\n",
    "    # We pass some validation for\n",
    "    # monitoring validation loss and metrics\n",
    "    # at the end of each epoch\n",
    "    validation_data=(x_val, y_val),\n",
    "    callbacks=[early_stop,check_p]\n",
    ")"
   ]
  },
  {
   "cell_type": "code",
   "execution_count": null,
   "metadata": {},
   "outputs": [],
   "source": []
  },
  {
   "cell_type": "code",
   "execution_count": null,
   "metadata": {},
   "outputs": [],
   "source": []
  },
  {
   "cell_type": "markdown",
   "metadata": {},
   "source": [
    "## Eval"
   ]
  },
  {
   "cell_type": "code",
   "execution_count": 14,
   "metadata": {},
   "outputs": [
    {
     "data": {
      "text/plain": [
       "<AxesSubplot:>"
      ]
     },
     "execution_count": 14,
     "metadata": {},
     "output_type": "execute_result"
    },
    {
     "data": {
      "image/png": "[encoded data removed]",
      "text/plain": [
       "<Figure size 432x288 with 1 Axes>"
      ]
     },
     "metadata": {
      "needs_background": "light"
     },
     "output_type": "display_data"
    }
   ],
   "source": [
    "df_epoch_hist = pd.DataFrame(history.history)\n",
    "df_epoch_hist[['loss','val_loss']].plot()"
   ]
  },
  {
   "cell_type": "code",
   "execution_count": null,
   "metadata": {},
   "outputs": [],
   "source": []
  },
  {
   "cell_type": "code",
   "execution_count": 15,
   "metadata": {},
   "outputs": [],
   "source": [
    "# depd = {'auc_1' : metrics.AUC}\n",
    "model_load = load_model(PATH_MODEL + 'ws_data_model2_iter3.h5',compile=False)"
   ]
  },
  {
   "cell_type": "code",
   "execution_count": 16,
   "metadata": {},
   "outputs": [
    {
     "name": "stdout",
     "output_type": "stream",
     "text": [
      "Model: \"sequential\"\n",
      "_________________________________________________________________\n",
      " Layer (type)                Output Shape              Param #   \n",
      "=================================================================\n",
      " lstm (LSTM)                 (None, 10, 128)           66560     \n",
      "                                                                 \n",
      " lstm_1 (LSTM)               (None, 64)                49408     \n",
      "                                                                 \n",
      " dense (Dense)               (None, 32)                2080      \n",
      "                                                                 \n",
      " dense_1 (Dense)             (None, 16)                528       \n",
      "                                                                 \n",
      " dense_2 (Dense)             (None, 1)                 17        \n",
      "                                                                 \n",
      "=================================================================\n",
      "Total params: 118,593\n",
      "Trainable params: 118,593\n",
      "Non-trainable params: 0\n",
      "_________________________________________________________________\n"
     ]
    }
   ],
   "source": [
    "model_load.summary()"
   ]
  },
  {
   "cell_type": "code",
   "execution_count": 17,
   "metadata": {},
   "outputs": [],
   "source": [
    "model_load.compile(loss='mean_squared_error', optimizer=opt, metrics=[\n",
    "        tf.keras.metrics.RootMeanSquaredError(name='the_rmse'),\n",
    "        tf.keras.metrics.MeanAbsolutePercentageError(name='the_mape'),\n",
    "    ])"
   ]
  },
  {
   "cell_type": "code",
   "execution_count": 18,
   "metadata": {},
   "outputs": [
    {
     "name": "stdout",
     "output_type": "stream",
     "text": [
      "3331/3331 [==============================] - 24s 7ms/step - loss: 0.5820 - the_rmse: 0.7629 - the_mape: 128246.4141\n"
     ]
    },
    {
     "data": {
      "text/plain": [
       "[0.5819903016090393, 0.7628828883171082, 128246.4140625]"
      ]
     },
     "execution_count": 18,
     "metadata": {},
     "output_type": "execute_result"
    }
   ],
   "source": [
    "model_load.evaluate(x_test,y_test)"
   ]
  },
  {
   "cell_type": "code",
   "execution_count": 19,
   "metadata": {},
   "outputs": [
    {
     "name": "stdout",
     "output_type": "stream",
     "text": [
      "521/521 [==============================] - 5s 8ms/step - loss: 0.4547 - the_rmse: 0.6743 - the_mape: 149604.4062\n"
     ]
    },
    {
     "data": {
      "text/plain": [
       "[0.4547171890735626, 0.6743271946907043, 149604.40625]"
      ]
     },
     "execution_count": 19,
     "metadata": {},
     "output_type": "execute_result"
    }
   ],
   "source": [
    "model_load.evaluate(Xo,yo)"
   ]
  },
  {
   "cell_type": "code",
   "execution_count": null,
   "metadata": {},
   "outputs": [],
   "source": []
  }
 ],
 "metadata": {
  "kernelspec": {
   "display_name": "Python 3 (ipykernel)",
   "language": "python",
   "name": "python3"
  },
  "language_info": {
   "codemirror_mode": {
    "name": "ipython",
    "version": 3
   },
   "file_extension": ".py",
   "mimetype": "text/x-python",
   "name": "python",
   "nbconvert_exporter": "python",
   "pygments_lexer": "ipython3",
   "version": "3.7.13"
  },
  "vscode": {
   "interpreter": {
    "hash": "6fde994876131bc9f65527873aa4b87e75053d151a689996c7611049218b8dee"
   }
  }
 },
 "nbformat": 4,
 "nbformat_minor": 4
}
