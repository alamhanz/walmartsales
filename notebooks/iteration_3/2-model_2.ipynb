{
 "cells": [
  {
   "cell_type": "markdown",
   "metadata": {},
   "source": [
    "[20220924]\n",
    "\n",
    "# 2. Model 2\n",
    "\n",
    "After Preparation ready. Build and train the model in here. its using LSTM one layer. with data gen2"
   ]
  },
  {
   "cell_type": "markdown",
   "metadata": {},
   "source": [
    "## Goal\n",
    "Find patterns on the features for target\n",
    "\n",
    "## Plan\n",
    "Checklist what will be done on the notebook :\n",
    "\n",
    "        [ ] Get Data\n",
    "        [ ] Modelling\n",
    "        [ ] Evaluation"
   ]
  },
  {
   "cell_type": "code",
   "execution_count": 4,
   "metadata": {},
   "outputs": [],
   "source": [
    "import yaml\n",
    "import pandas as pd\n",
    "import matplotlib.pyplot as plt\n",
    "import os\n",
    "import joblib\n",
    "from statsmodels.tsa.arima.model import ARIMA\n",
    "import sys\n",
    "sys.path.insert(1,'../../src/')"
   ]
  },
  {
   "cell_type": "code",
   "execution_count": 5,
   "metadata": {},
   "outputs": [],
   "source": [
    "from keras.models import Sequential\n",
    "from keras.layers import LSTM, Dropout, Flatten, Dense\n",
    "from keras.preprocessing.image import ImageDataGenerator\n",
    "from keras import metrics, optimizers\n",
    "import keras\n",
    "import tensorflow as tf\n",
    "from keras.models import load_model\n",
    "\n",
    "from sklearn.model_selection import train_test_split"
   ]
  },
  {
   "cell_type": "code",
   "execution_count": 6,
   "metadata": {},
   "outputs": [],
   "source": [
    "with open(\"../../config.yaml\", \"r\") as f:\n",
    "    config = yaml.load(f, Loader=yaml.FullLoader)\n",
    "\n",
    "PATH_RAW = config['path']['raw']\n",
    "PATH_INTERIM = config['path']['interim']\n",
    "PATH_PROCESSED = config['path']['processed']\n",
    "# PATH_MODEL = config['path']['artifact']+os.getcwd().split('\\\\')[-1]+'/'\n",
    "PATH_MODEL = config['path']['artifact']+'iteration_3'+'/'\n",
    "PATH_UDF = config['path']['udf']"
   ]
  },
  {
   "cell_type": "markdown",
   "metadata": {},
   "source": [
    "## Get Data"
   ]
  },
  {
   "cell_type": "code",
   "execution_count": 7,
   "metadata": {},
   "outputs": [],
   "source": [
    "Xt, yt, Xo, yo = joblib.load(PATH_INTERIM+'feat_target_gen2_iter3.pkl')\n",
    "Xt = Xt.astype(\"float32\")\n",
    "yt = yt.astype(\"float32\")\n",
    "\n",
    "Xo = Xo.astype(\"float32\")\n",
    "yo = yo.astype(\"float32\")"
   ]
  },
  {
   "cell_type": "code",
   "execution_count": 8,
   "metadata": {},
   "outputs": [
    {
     "data": {
      "text/plain": [
       "(403051, 10, 1)"
      ]
     },
     "execution_count": 8,
     "metadata": {},
     "output_type": "execute_result"
    }
   ],
   "source": [
    "Xt.shape"
   ]
  },
  {
   "cell_type": "code",
   "execution_count": 9,
   "metadata": {},
   "outputs": [
    {
     "data": {
      "text/plain": [
       "(403051, 1)"
      ]
     },
     "execution_count": 9,
     "metadata": {},
     "output_type": "execute_result"
    }
   ],
   "source": [
    "yt.shape"
   ]
  },
  {
   "cell_type": "code",
   "execution_count": 10,
   "metadata": {},
   "outputs": [],
   "source": [
    "SEQ = Xt.shape[1]"
   ]
  },
  {
   "cell_type": "code",
   "execution_count": 11,
   "metadata": {},
   "outputs": [],
   "source": [
    "## not the best way to split time series dataset\n",
    "x_tr, x_test, y_tr, y_test = train_test_split(\n",
    "    Xt, yt, test_size=0.25, random_state=42)\n",
    "\n",
    "x_train, x_val, y_train, y_val = train_test_split(\n",
    "    x_tr, y_tr, test_size=0.2, random_state=42)"
   ]
  },
  {
   "cell_type": "code",
   "execution_count": 18,
   "metadata": {},
   "outputs": [],
   "source": [
    "%matplotlib inline"
   ]
  },
  {
   "cell_type": "markdown",
   "metadata": {
    "tags": []
   },
   "source": [
    "## Model"
   ]
  },
  {
   "cell_type": "code",
   "execution_count": 1,
   "metadata": {},
   "outputs": [],
   "source": [
    "# os.environ[\"CUDA_VISIBLE_DEVICES\"] "
   ]
  },
  {
   "cell_type": "code",
   "execution_count": 13,
   "metadata": {},
   "outputs": [
    {
     "name": "stdout",
     "output_type": "stream",
     "text": [
      "Num GPUs Available:  1\n"
     ]
    }
   ],
   "source": [
    "print(\"Num GPUs Available: \", len(tf.config.experimental.list_physical_devices('GPU')))"
   ]
  },
  {
   "cell_type": "code",
   "execution_count": 14,
   "metadata": {},
   "outputs": [],
   "source": [
    "mod_ts = Sequential()\n",
    "# mod_ts.add(LSTM(5, input_shape=(SEQ, 1)))\n",
    "mod_ts.add(LSTM(128, input_shape=(SEQ, 1), return_sequences=True))\n",
    "mod_ts.add(LSTM(64))\n",
    "# mod_ts.add(LSTM(8))\n",
    "mod_ts.add(Dense(32))\n",
    "mod_ts.add(Dense(16))\n",
    "mod_ts.add(Dense(1))\n"
   ]
  },
  {
   "cell_type": "code",
   "execution_count": 15,
   "metadata": {},
   "outputs": [],
   "source": [
    "early_stop = keras.callbacks.EarlyStopping(\n",
    "        monitor='val_loss',mode='min', patience=6) \n",
    "\n",
    "check_p = keras.callbacks.ModelCheckpoint(\n",
    "        filepath=PATH_MODEL+'ws_data_model2_iter3.h5',\n",
    "        monitor='val_loss',\n",
    "        mode='min',\n",
    "        save_best_only=True)\n",
    "\n",
    "opt = tf.keras.optimizers.Adam(learning_rate=0.0005)\n",
    "\n",
    "mod_ts.compile(loss='mean_squared_error', optimizer=opt, metrics=[\n",
    "        tf.keras.metrics.RootMeanSquaredError(name='the_rmse'),\n",
    "        tf.keras.metrics.MeanAbsolutePercentageError(name='the_mape'),\n",
    "    ])"
   ]
  },
  {
   "cell_type": "code",
   "execution_count": null,
   "metadata": {},
   "outputs": [],
   "source": []
  },
  {
   "cell_type": "code",
   "execution_count": 16,
   "metadata": {},
   "outputs": [
    {
     "name": "stdout",
     "output_type": "stream",
     "text": [
      "Epoch 1/50\n",
      "1890/1890 [==============================] - 21s 11ms/step - loss: 0.6809 - the_rmse: 0.8252 - the_mape: 107457.4219 - val_loss: 0.6536 - val_the_rmse: 0.8085 - val_the_mape: 25839.3105\n",
      "Epoch 2/50\n",
      "1890/1890 [==============================] - 21s 11ms/step - loss: 0.6254 - the_rmse: 0.7909 - the_mape: 70292.1406 - val_loss: 0.6271 - val_the_rmse: 0.7919 - val_the_mape: 51177.1562\n",
      "Epoch 3/50\n",
      "1890/1890 [==============================] - 21s 11ms/step - loss: 0.6084 - the_rmse: 0.7800 - the_mape: 57840.3320 - val_loss: 0.6191 - val_the_rmse: 0.7868 - val_the_mape: 58717.1172\n",
      "Epoch 4/50\n",
      "1890/1890 [==============================] - 21s 11ms/step - loss: 0.5984 - the_rmse: 0.7736 - the_mape: 53765.0742 - val_loss: 0.6141 - val_the_rmse: 0.7836 - val_the_mape: 90036.3984\n",
      "Epoch 5/50\n",
      "1890/1890 [==============================] - 21s 11ms/step - loss: 0.5925 - the_rmse: 0.7697 - the_mape: 60970.1289 - val_loss: 0.6059 - val_the_rmse: 0.7784 - val_the_mape: 79595.8125\n",
      "Epoch 6/50\n",
      "1890/1890 [==============================] - 21s 11ms/step - loss: 0.5879 - the_rmse: 0.7667 - the_mape: 58658.8516 - val_loss: 0.6036 - val_the_rmse: 0.7769 - val_the_mape: 42053.4375\n",
      "Epoch 7/50\n",
      "1890/1890 [==============================] - 22s 12ms/step - loss: 0.5839 - the_rmse: 0.7641 - the_mape: 58396.1953 - val_loss: 0.6033 - val_the_rmse: 0.7767 - val_the_mape: 47900.6133\n",
      "Epoch 8/50\n",
      "1890/1890 [==============================] - 21s 11ms/step - loss: 0.5807 - the_rmse: 0.7620 - the_mape: 47434.5938 - val_loss: 0.6051 - val_the_rmse: 0.7779 - val_the_mape: 100238.9766\n",
      "Epoch 9/50\n",
      "1890/1890 [==============================] - 21s 11ms/step - loss: 0.5773 - the_rmse: 0.7598 - the_mape: 57951.3750 - val_loss: 0.6026 - val_the_rmse: 0.7763 - val_the_mape: 43325.1914\n",
      "Epoch 10/50\n",
      "1890/1890 [==============================] - 21s 11ms/step - loss: 0.5745 - the_rmse: 0.7579 - the_mape: 55970.2188 - val_loss: 0.6016 - val_the_rmse: 0.7756 - val_the_mape: 152460.5938\n",
      "Epoch 11/50\n",
      "1890/1890 [==============================] - 21s 11ms/step - loss: 0.5715 - the_rmse: 0.7560 - the_mape: 57517.2734 - val_loss: 0.6005 - val_the_rmse: 0.7749 - val_the_mape: 79085.4297\n",
      "Epoch 12/50\n",
      "1890/1890 [==============================] - 21s 11ms/step - loss: 0.5679 - the_rmse: 0.7536 - the_mape: 61839.1133 - val_loss: 0.5988 - val_the_rmse: 0.7738 - val_the_mape: 44982.9102\n",
      "Epoch 13/50\n",
      "1890/1890 [==============================] - 21s 11ms/step - loss: 0.5653 - the_rmse: 0.7519 - the_mape: 55582.1406 - val_loss: 0.6003 - val_the_rmse: 0.7748 - val_the_mape: 40477.7383\n",
      "Epoch 14/50\n",
      "1890/1890 [==============================] - 21s 11ms/step - loss: 0.5619 - the_rmse: 0.7496 - the_mape: 57973.1016 - val_loss: 0.6013 - val_the_rmse: 0.7754 - val_the_mape: 31943.7676\n",
      "Epoch 15/50\n",
      "1890/1890 [==============================] - 21s 11ms/step - loss: 0.5584 - the_rmse: 0.7473 - the_mape: 59060.4023 - val_loss: 0.5983 - val_the_rmse: 0.7735 - val_the_mape: 60667.1289\n",
      "Epoch 16/50\n",
      "1890/1890 [==============================] - 22s 12ms/step - loss: 0.5552 - the_rmse: 0.7451 - the_mape: 60312.3477 - val_loss: 0.6000 - val_the_rmse: 0.7746 - val_the_mape: 43101.7656\n",
      "Epoch 17/50\n",
      "1890/1890 [==============================] - 21s 11ms/step - loss: 0.5511 - the_rmse: 0.7423 - the_mape: 54833.5000 - val_loss: 0.6034 - val_the_rmse: 0.7768 - val_the_mape: 166015.6562\n",
      "Epoch 18/50\n",
      "1890/1890 [==============================] - 21s 11ms/step - loss: 0.5477 - the_rmse: 0.7401 - the_mape: 61754.1328 - val_loss: 0.6001 - val_the_rmse: 0.7747 - val_the_mape: 41988.5820\n",
      "Epoch 19/50\n",
      "1890/1890 [==============================] - 21s 11ms/step - loss: 0.5436 - the_rmse: 0.7373 - the_mape: 51193.0234 - val_loss: 0.6004 - val_the_rmse: 0.7749 - val_the_mape: 79106.2891\n",
      "Epoch 20/50\n",
      "1890/1890 [==============================] - 20s 11ms/step - loss: 0.5390 - the_rmse: 0.7342 - the_mape: 56662.6172 - val_loss: 0.6041 - val_the_rmse: 0.7773 - val_the_mape: 69572.7969\n",
      "Epoch 21/50\n",
      "1890/1890 [==============================] - 20s 11ms/step - loss: 0.5340 - the_rmse: 0.7308 - the_mape: 56794.2070 - val_loss: 0.6043 - val_the_rmse: 0.7774 - val_the_mape: 105791.5312\n"
     ]
    }
   ],
   "source": [
    "history = mod_ts.fit(\n",
    "    x_train,\n",
    "    y_train,\n",
    "    batch_size=128,\n",
    "    epochs=50,\n",
    "    # We pass some validation for\n",
    "    # monitoring validation loss and metrics\n",
    "    # at the end of each epoch\n",
    "    validation_data=(x_val, y_val),\n",
    "    callbacks=[early_stop,check_p]\n",
    ")"
   ]
  },
  {
   "cell_type": "code",
   "execution_count": null,
   "metadata": {},
   "outputs": [],
   "source": []
  },
  {
   "cell_type": "markdown",
   "metadata": {},
   "source": [
    "## Eval"
   ]
  },
  {
   "cell_type": "code",
   "execution_count": 19,
   "metadata": {},
   "outputs": [
    {
     "data": {
      "text/plain": [
       "<AxesSubplot:>"
      ]
     },
     "execution_count": 19,
     "metadata": {},
     "output_type": "execute_result"
    },
    {
     "data": {
      "image/png": "[encoded data removed]",
      "text/plain": [
       "<Figure size 432x288 with 1 Axes>"
      ]
     },
     "metadata": {
      "needs_background": "light"
     },
     "output_type": "display_data"
    }
   ],
   "source": [
    "df_epoch_hist = pd.DataFrame(history.history)\n",
    "df_epoch_hist[['loss','val_loss']].plot()"
   ]
  },
  {
   "cell_type": "code",
   "execution_count": null,
   "metadata": {},
   "outputs": [],
   "source": []
  },
  {
   "cell_type": "code",
   "execution_count": 20,
   "metadata": {},
   "outputs": [],
   "source": [
    "# depd = {'auc_1' : metrics.AUC}\n",
    "model_load = load_model(PATH_MODEL + 'ws_data_model2_iter3.h5',compile=False)"
   ]
  },
  {
   "cell_type": "code",
   "execution_count": 21,
   "metadata": {},
   "outputs": [
    {
     "name": "stdout",
     "output_type": "stream",
     "text": [
      "Model: \"sequential\"\n",
      "_________________________________________________________________\n",
      "Layer (type)                 Output Shape              Param #   \n",
      "=================================================================\n",
      "lstm (LSTM)                  (None, 10, 128)           66560     \n",
      "_________________________________________________________________\n",
      "lstm_1 (LSTM)                (None, 64)                49408     \n",
      "_________________________________________________________________\n",
      "dense (Dense)                (None, 32)                2080      \n",
      "_________________________________________________________________\n",
      "dense_1 (Dense)              (None, 16)                528       \n",
      "_________________________________________________________________\n",
      "dense_2 (Dense)              (None, 1)                 17        \n",
      "=================================================================\n",
      "Total params: 118,593\n",
      "Trainable params: 118,593\n",
      "Non-trainable params: 0\n",
      "_________________________________________________________________\n"
     ]
    }
   ],
   "source": [
    "model_load.summary()"
   ]
  },
  {
   "cell_type": "code",
   "execution_count": 22,
   "metadata": {},
   "outputs": [],
   "source": [
    "model_load.compile(loss='mean_squared_error', optimizer=opt, metrics=[\n",
    "        tf.keras.metrics.RootMeanSquaredError(name='the_rmse'),\n",
    "        tf.keras.metrics.MeanAbsolutePercentageError(name='the_mape'),\n",
    "    ])"
   ]
  },
  {
   "cell_type": "code",
   "execution_count": 23,
   "metadata": {},
   "outputs": [
    {
     "name": "stdout",
     "output_type": "stream",
     "text": [
      "3149/3149 [==============================] - 15s 5ms/step - loss: 0.5785 - the_rmse: 0.7606 - the_mape: 43185.9531\n"
     ]
    },
    {
     "data": {
      "text/plain": [
       "[0.5785248279571533, 0.7606081962585449, 43185.953125]"
      ]
     },
     "execution_count": 23,
     "metadata": {},
     "output_type": "execute_result"
    }
   ],
   "source": [
    "model_load.evaluate(x_test,y_test)"
   ]
  },
  {
   "cell_type": "code",
   "execution_count": 24,
   "metadata": {},
   "outputs": [
    {
     "name": "stdout",
     "output_type": "stream",
     "text": [
      "1250/1250 [==============================] - 6s 5ms/step - loss: 0.4536 - the_rmse: 0.6735 - the_mape: 55129.2539\n"
     ]
    },
    {
     "data": {
      "text/plain": [
       "[0.45358800888061523, 0.6734894514083862, 55129.25390625]"
      ]
     },
     "execution_count": 24,
     "metadata": {},
     "output_type": "execute_result"
    }
   ],
   "source": [
    "model_load.evaluate(Xo,yo)"
   ]
  },
  {
   "cell_type": "code",
   "execution_count": null,
   "metadata": {},
   "outputs": [],
   "source": []
  }
 ],
 "metadata": {
  "kernelspec": {
   "display_name": "Python 3.8.8 ('base')",
   "language": "python",
   "name": "python3"
  },
  "language_info": {
   "codemirror_mode": {
    "name": "ipython",
    "version": 3
   },
   "file_extension": ".py",
   "mimetype": "text/x-python",
   "name": "python",
   "nbconvert_exporter": "python",
   "pygments_lexer": "ipython3",
   "version": "3.8.8"
  },
  "vscode": {
   "interpreter": {
    "hash": "6fde994876131bc9f65527873aa4b87e75053d151a689996c7611049218b8dee"
   }
  }
 },
 "nbformat": 4,
 "nbformat_minor": 4
}
