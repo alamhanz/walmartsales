{
 "cells": [
  {
   "cell_type": "markdown",
   "metadata": {},
   "source": [
    "[20220918]\n",
    "\n",
    "# 1. Preparing\n",
    "\n",
    "prepare data for LSTM"
   ]
  },
  {
   "cell_type": "markdown",
   "metadata": {},
   "source": [
    "## Goal\n",
    "To check a summary of the data.\n",
    "\n",
    "## Plan\n",
    "Checklist what will be done on the notebook :\n",
    "\n",
    "        [ ] get the data\n",
    "        [ ] generate input ready dataset"
   ]
  },
  {
   "cell_type": "code",
   "execution_count": 1,
   "metadata": {},
   "outputs": [],
   "source": [
    "# !pip install flake8 pycodestyle_magic"
   ]
  },
  {
   "cell_type": "code",
   "execution_count": 2,
   "metadata": {},
   "outputs": [],
   "source": [
    "import yaml\n",
    "import pandas as pd\n",
    "import matplotlib.pyplot as plt\n",
    "import os\n",
    "import sys\n",
    "import numpy as np\n",
    "sys.path.insert(1,'../../src/')\n",
    "\n",
    "## import myfunc inside src folder\n",
    "import ramal\n",
    "import joblib"
   ]
  },
  {
   "cell_type": "code",
   "execution_count": 3,
   "metadata": {},
   "outputs": [],
   "source": [
    "with open(\"../../config.yaml\", \"r\") as f:\n",
    "    config = yaml.load(f, Loader=yaml.FullLoader)\n",
    "\n",
    "full_path = globals()['_dh'][0]\n",
    "folder_name = full_path.split('/')[-1]\n",
    "\n",
    "PATH_RAW = config['path']['raw_wm']\n",
    "PATH_INTERIM = config['path']['interim']\n",
    "PATH_PROCESSED = config['path']['processed']\n",
    "PATH_MODEL = config['path']['artifact']+folder_name+'/'\n",
    "PATH_UDF = config['path']['udf']"
   ]
  },
  {
   "cell_type": "code",
   "execution_count": 4,
   "metadata": {},
   "outputs": [],
   "source": [
    "%load_ext pycodestyle_magic"
   ]
  },
  {
   "cell_type": "code",
   "execution_count": 11,
   "metadata": {},
   "outputs": [],
   "source": [
    "# use latest 12 weeks data as oot\n",
    "oot_n = 12"
   ]
  },
  {
   "cell_type": "markdown",
   "metadata": {},
   "source": [
    "## Get Data"
   ]
  },
  {
   "cell_type": "code",
   "execution_count": 8,
   "metadata": {},
   "outputs": [
    {
     "data": {
      "text/html": [
       "<div>\n",
       "<style scoped>\n",
       "    .dataframe tbody tr th:only-of-type {\n",
       "        vertical-align: middle;\n",
       "    }\n",
       "\n",
       "    .dataframe tbody tr th {\n",
       "        vertical-align: top;\n",
       "    }\n",
       "\n",
       "    .dataframe thead th {\n",
       "        text-align: right;\n",
       "    }\n",
       "</style>\n",
       "<table border=\"1\" class=\"dataframe\">\n",
       "  <thead>\n",
       "    <tr style=\"text-align: right;\">\n",
       "      <th></th>\n",
       "      <th>ids</th>\n",
       "      <th>Date</th>\n",
       "      <th>sales</th>\n",
       "      <th>Store</th>\n",
       "      <th>Temperature</th>\n",
       "      <th>IsHoliday</th>\n",
       "      <th>Fuel_Price</th>\n",
       "      <th>sales_ss</th>\n",
       "      <th>is_holiday</th>\n",
       "    </tr>\n",
       "  </thead>\n",
       "  <tbody>\n",
       "    <tr>\n",
       "      <th>450241</th>\n",
       "      <td>7:52</td>\n",
       "      <td>2011-07-29</td>\n",
       "      <td>1113.39</td>\n",
       "      <td>7</td>\n",
       "      <td>56.66</td>\n",
       "      <td>False</td>\n",
       "      <td>3.547</td>\n",
       "      <td>-0.424422</td>\n",
       "      <td>0</td>\n",
       "    </tr>\n",
       "    <tr>\n",
       "      <th>155590</th>\n",
       "      <td>23:16</td>\n",
       "      <td>2010-03-19</td>\n",
       "      <td>15401.41</td>\n",
       "      <td>23</td>\n",
       "      <td>43.01</td>\n",
       "      <td>False</td>\n",
       "      <td>2.834</td>\n",
       "      <td>-0.374269</td>\n",
       "      <td>0</td>\n",
       "    </tr>\n",
       "    <tr>\n",
       "      <th>132005</th>\n",
       "      <td>20:94</td>\n",
       "      <td>2010-05-28</td>\n",
       "      <td>75326.73</td>\n",
       "      <td>20</td>\n",
       "      <td>70.97</td>\n",
       "      <td>False</td>\n",
       "      <td>2.899</td>\n",
       "      <td>1.372422</td>\n",
       "      <td>0</td>\n",
       "    </tr>\n",
       "    <tr>\n",
       "      <th>303002</th>\n",
       "      <td>35:83</td>\n",
       "      <td>2012-07-20</td>\n",
       "      <td>1926.82</td>\n",
       "      <td>35</td>\n",
       "      <td>78.64</td>\n",
       "      <td>False</td>\n",
       "      <td>3.567</td>\n",
       "      <td>-0.368536</td>\n",
       "      <td>0</td>\n",
       "    </tr>\n",
       "    <tr>\n",
       "      <th>326783</th>\n",
       "      <td>38:42</td>\n",
       "      <td>2010-08-20</td>\n",
       "      <td>49.63</td>\n",
       "      <td>38</td>\n",
       "      <td>92.81</td>\n",
       "      <td>False</td>\n",
       "      <td>3.041</td>\n",
       "      <td>-1.806033</td>\n",
       "      <td>0</td>\n",
       "    </tr>\n",
       "    <tr>\n",
       "      <th>333551</th>\n",
       "      <td>39:22</td>\n",
       "      <td>2011-07-15</td>\n",
       "      <td>13368.76</td>\n",
       "      <td>39</td>\n",
       "      <td>85.96</td>\n",
       "      <td>False</td>\n",
       "      <td>3.575</td>\n",
       "      <td>0.104957</td>\n",
       "      <td>0</td>\n",
       "    </tr>\n",
       "    <tr>\n",
       "      <th>150266</th>\n",
       "      <td>22:55</td>\n",
       "      <td>2012-04-27</td>\n",
       "      <td>6170.84</td>\n",
       "      <td>22</td>\n",
       "      <td>51.42</td>\n",
       "      <td>False</td>\n",
       "      <td>4.023</td>\n",
       "      <td>-0.557297</td>\n",
       "      <td>0</td>\n",
       "    </tr>\n",
       "    <tr>\n",
       "      <th>99516</th>\n",
       "      <td>19:1</td>\n",
       "      <td>2012-08-10</td>\n",
       "      <td>14837.51</td>\n",
       "      <td>19</td>\n",
       "      <td>74.45</td>\n",
       "      <td>False</td>\n",
       "      <td>3.863</td>\n",
       "      <td>-0.458486</td>\n",
       "      <td>0</td>\n",
       "    </tr>\n",
       "  </tbody>\n",
       "</table>\n",
       "</div>"
      ],
      "text/plain": [
       "          ids        Date     sales  Store  Temperature  IsHoliday  \\\n",
       "450241   7:52  2011-07-29   1113.39      7        56.66      False   \n",
       "155590  23:16  2010-03-19  15401.41     23        43.01      False   \n",
       "132005  20:94  2010-05-28  75326.73     20        70.97      False   \n",
       "303002  35:83  2012-07-20   1926.82     35        78.64      False   \n",
       "326783  38:42  2010-08-20     49.63     38        92.81      False   \n",
       "333551  39:22  2011-07-15  13368.76     39        85.96      False   \n",
       "150266  22:55  2012-04-27   6170.84     22        51.42      False   \n",
       "99516    19:1  2012-08-10  14837.51     19        74.45      False   \n",
       "\n",
       "        Fuel_Price  sales_ss  is_holiday  \n",
       "450241       3.547 -0.424422           0  \n",
       "155590       2.834 -0.374269           0  \n",
       "132005       2.899  1.372422           0  \n",
       "303002       3.567 -0.368536           0  \n",
       "326783       3.041 -1.806033           0  \n",
       "333551       3.575  0.104957           0  \n",
       "150266       4.023 -0.557297           0  \n",
       "99516        3.863 -0.458486           0  "
      ]
     },
     "execution_count": 8,
     "metadata": {},
     "output_type": "execute_result"
    }
   ],
   "source": [
    "# %%flake8\n",
    "df_all = pd.read_csv(PATH_INTERIM+'data_focus_iter3.csv')\n",
    "df_all['is_holiday'] = df_all.IsHoliday.astype(int)\n",
    "df_all.sample(8)"
   ]
  },
  {
   "cell_type": "code",
   "execution_count": null,
   "metadata": {},
   "outputs": [],
   "source": []
  },
  {
   "cell_type": "code",
   "execution_count": 9,
   "metadata": {},
   "outputs": [],
   "source": [
    "# %%flake8\n",
    "def ts_lookback_features(df, window_back, target_cols=None, oot_data=None,\n",
    "                         time_col='Date', feature_cols=['sales_ss']):\n",
    "\n",
    "    if target_cols is None:\n",
    "        target_cols = feature_cols\n",
    "\n",
    "    # print(target_cols)\n",
    "    df = df.sort_values(time_col).reset_index(drop=True)\n",
    "    df['Xprev'] = df.apply(lambda x: df[feature_cols][\n",
    "                    max(-1, x.name-(window_back)):int(x.name)].values, axis=1)\n",
    "    df_temp = df[window_back:]\n",
    "    df_temp['Xprev'] = df_temp['Xprev'].apply(lambda x: x.reshape(1,\n",
    "                                              window_back, len(feature_cols)))\n",
    "\n",
    "    X_temp = np.vstack(df_temp['Xprev'].values)\n",
    "    y_temp = df_temp[target_cols].values.reshape((len(df_temp),\n",
    "                                                  len(target_cols)))\n",
    "    if oot_data is None:\n",
    "        X_tr = X_temp[:]\n",
    "        y_tr = y_temp[:]\n",
    "        X_oot = []\n",
    "        y_oot = []\n",
    "    else:\n",
    "        X_tr = X_temp[:-oot_data]\n",
    "        y_tr = y_temp[:-oot_data]\n",
    "        X_oot = X_temp[-oot_data:]\n",
    "        y_oot = y_temp[-oot_data:]\n",
    "\n",
    "    return X_tr, y_tr, X_oot, y_oot"
   ]
  },
  {
   "cell_type": "code",
   "execution_count": null,
   "metadata": {},
   "outputs": [],
   "source": []
  },
  {
   "cell_type": "markdown",
   "metadata": {
    "tags": []
   },
   "source": [
    "## Generate 1\n",
    "\n",
    "Sales only (lookback 5)"
   ]
  },
  {
   "cell_type": "code",
   "execution_count": 12,
   "metadata": {},
   "outputs": [],
   "source": [
    "# s_id1 = '9:79'\n",
    "# wb = 4\n",
    "# df_temp = df_all[df_all.ids == s_id1]\n",
    "# X, y =ts_lookback_features(df_temp, window_back=wb)\n",
    "# X.shape"
   ]
  },
  {
   "cell_type": "code",
   "execution_count": null,
   "metadata": {},
   "outputs": [],
   "source": []
  },
  {
   "cell_type": "code",
   "execution_count": 13,
   "metadata": {},
   "outputs": [
    {
     "name": "stderr",
     "output_type": "stream",
     "text": [
      "/usr/local/lib/python3.7/site-packages/ipykernel_launcher.py:13: SettingWithCopyWarning: \n",
      "A value is trying to be set on a copy of a slice from a DataFrame.\n",
      "Try using .loc[row_indexer,col_indexer] = value instead\n",
      "\n",
      "See the caveats in the documentation: https://pandas.pydata.org/pandas-docs/stable/user_guide/indexing.html#returning-a-view-versus-a-copy\n",
      "  del sys.path[0]\n"
     ]
    }
   ],
   "source": [
    "# %%flake8\n",
    "X_all = []\n",
    "y_all = []\n",
    "X_oot = []\n",
    "y_oot = []\n",
    "wb = 5\n",
    "for sid in df_all['ids'].unique():\n",
    "    df_temp = df_all[df_all.ids == sid]\n",
    "    Xy = ts_lookback_features(df_temp,\n",
    "                              window_back=wb,\n",
    "                              feature_cols=['sales_ss'],\n",
    "                              oot_data=oot_n)\n",
    "    X_temp, y_temp, X_oot_temp, y_oot_temp = Xy\n",
    "    X_all.append(X_temp)\n",
    "    y_all.append(y_temp)\n",
    "    X_oot.append(X_oot_temp)\n",
    "    y_oot.append(y_oot_temp)\n",
    "\n",
    "X_all = np.vstack(X_all)\n",
    "y_all = np.vstack(y_all)\n",
    "X_oot = np.vstack(X_oot)\n",
    "y_oot = np.vstack(y_oot)"
   ]
  },
  {
   "cell_type": "code",
   "execution_count": 14,
   "metadata": {},
   "outputs": [
    {
     "data": {
      "text/plain": [
       "['../../data/interim/feat_target_gen1_iter3.pkl']"
      ]
     },
     "execution_count": 14,
     "metadata": {},
     "output_type": "execute_result"
    }
   ],
   "source": [
    "joblib.dump((X_all,y_all, X_oot, y_oot),PATH_INTERIM+'feat_target_gen1_iter3.pkl')"
   ]
  },
  {
   "cell_type": "code",
   "execution_count": null,
   "metadata": {},
   "outputs": [],
   "source": []
  },
  {
   "cell_type": "markdown",
   "metadata": {
    "tags": []
   },
   "source": [
    "## Generate 2\n",
    "\n",
    "Sales only (lookback 10)"
   ]
  },
  {
   "cell_type": "code",
   "execution_count": 15,
   "metadata": {},
   "outputs": [
    {
     "name": "stderr",
     "output_type": "stream",
     "text": [
      "/usr/local/lib/python3.7/site-packages/ipykernel_launcher.py:13: SettingWithCopyWarning: \n",
      "A value is trying to be set on a copy of a slice from a DataFrame.\n",
      "Try using .loc[row_indexer,col_indexer] = value instead\n",
      "\n",
      "See the caveats in the documentation: https://pandas.pydata.org/pandas-docs/stable/user_guide/indexing.html#returning-a-view-versus-a-copy\n",
      "  del sys.path[0]\n"
     ]
    }
   ],
   "source": [
    "X_all = []\n",
    "y_all = []\n",
    "X_oot = []\n",
    "y_oot = []\n",
    "wb = 10\n",
    "for sid in df_all['ids'].unique():\n",
    "    df_temp = df_all[df_all.ids == sid]\n",
    "    Xy = ts_lookback_features(df_temp, window_back=wb, \n",
    "                              feature_cols=['sales_ss'],\n",
    "                              oot_data = oot_n)\n",
    "\n",
    "    X_temp, y_temp, X_oot_temp, y_oot_temp = Xy\n",
    "    \n",
    "    X_all.append(X_temp)\n",
    "    y_all.append(y_temp)\n",
    "    X_oot.append(X_oot_temp)\n",
    "    y_oot.append(y_oot_temp)\n",
    "    \n",
    "X_all = np.vstack(X_all)\n",
    "y_all = np.vstack(y_all)\n",
    "X_oot = np.vstack(X_oot)\n",
    "y_oot = np.vstack(y_oot)"
   ]
  },
  {
   "cell_type": "code",
   "execution_count": 16,
   "metadata": {},
   "outputs": [
    {
     "data": {
      "text/plain": [
       "['../../data/interim/feat_target_gen2_iter3.pkl']"
      ]
     },
     "execution_count": 16,
     "metadata": {},
     "output_type": "execute_result"
    }
   ],
   "source": [
    "joblib.dump((X_all,y_all, X_oot, y_oot),PATH_INTERIM+'feat_target_gen2_iter3.pkl')"
   ]
  },
  {
   "cell_type": "code",
   "execution_count": null,
   "metadata": {},
   "outputs": [],
   "source": []
  },
  {
   "cell_type": "markdown",
   "metadata": {
    "tags": []
   },
   "source": [
    "## Generate 3\n",
    "\n",
    "Sales only (lookback 15)"
   ]
  },
  {
   "cell_type": "code",
   "execution_count": 17,
   "metadata": {},
   "outputs": [
    {
     "name": "stderr",
     "output_type": "stream",
     "text": [
      "/usr/local/lib/python3.7/site-packages/ipykernel_launcher.py:13: SettingWithCopyWarning: \n",
      "A value is trying to be set on a copy of a slice from a DataFrame.\n",
      "Try using .loc[row_indexer,col_indexer] = value instead\n",
      "\n",
      "See the caveats in the documentation: https://pandas.pydata.org/pandas-docs/stable/user_guide/indexing.html#returning-a-view-versus-a-copy\n",
      "  del sys.path[0]\n"
     ]
    }
   ],
   "source": [
    "X_all = []\n",
    "y_all = []\n",
    "X_oot = []\n",
    "y_oot = []\n",
    "wb = 15\n",
    "for sid in df_all['ids'].unique():\n",
    "    df_temp = df_all[df_all.ids == sid]\n",
    "    X_temp, y_temp, X_oot_temp, y_oot_temp = ts_lookback_features(df_temp, window_back=wb, \n",
    "                                          feature_cols=['sales_ss'],\n",
    "                                          oot_data = oot_n)\n",
    "    X_all.append(X_temp)\n",
    "    y_all.append(y_temp)\n",
    "    X_oot.append(X_oot_temp)\n",
    "    y_oot.append(y_oot_temp)\n",
    "    \n",
    "X_all = np.vstack(X_all)\n",
    "y_all = np.vstack(y_all)\n",
    "X_oot = np.vstack(X_oot)\n",
    "y_oot = np.vstack(y_oot)"
   ]
  },
  {
   "cell_type": "code",
   "execution_count": 18,
   "metadata": {},
   "outputs": [
    {
     "data": {
      "text/plain": [
       "['../../data/interim/feat_target_gen3_iter3.pkl']"
      ]
     },
     "execution_count": 18,
     "metadata": {},
     "output_type": "execute_result"
    }
   ],
   "source": [
    "joblib.dump((X_all,y_all, X_oot, y_oot),PATH_INTERIM+'feat_target_gen3_iter3.pkl')"
   ]
  },
  {
   "cell_type": "code",
   "execution_count": null,
   "metadata": {},
   "outputs": [],
   "source": []
  },
  {
   "cell_type": "markdown",
   "metadata": {
    "tags": []
   },
   "source": [
    "## Generate 4\n",
    "\n",
    "Sales and Temperature (lookback 15)"
   ]
  },
  {
   "cell_type": "code",
   "execution_count": 19,
   "metadata": {},
   "outputs": [
    {
     "name": "stderr",
     "output_type": "stream",
     "text": [
      "/usr/local/lib/python3.7/site-packages/ipykernel_launcher.py:13: SettingWithCopyWarning: \n",
      "A value is trying to be set on a copy of a slice from a DataFrame.\n",
      "Try using .loc[row_indexer,col_indexer] = value instead\n",
      "\n",
      "See the caveats in the documentation: https://pandas.pydata.org/pandas-docs/stable/user_guide/indexing.html#returning-a-view-versus-a-copy\n",
      "  del sys.path[0]\n"
     ]
    }
   ],
   "source": [
    "X_all = []\n",
    "y_all = []\n",
    "X_oot = []\n",
    "y_oot = []\n",
    "wb = 15\n",
    "for sid in df_all['ids'].unique():\n",
    "    df_temp = df_all[df_all.ids == sid]\n",
    "    X_temp, y_temp, X_oot_temp, y_oot_temp = ts_lookback_features(df_temp, window_back=wb, \n",
    "                                          feature_cols=['sales_ss','Temperature'], \n",
    "                                          target_cols = ['sales_ss'],\n",
    "                                          oot_data = oot_n)\n",
    "    X_all.append(X_temp)\n",
    "    y_all.append(y_temp)\n",
    "    X_oot.append(X_oot_temp)\n",
    "    y_oot.append(y_oot_temp)\n",
    "    \n",
    "X_all = np.vstack(X_all)\n",
    "y_all = np.vstack(y_all)\n",
    "X_oot = np.vstack(X_oot)\n",
    "y_oot = np.vstack(y_oot)"
   ]
  },
  {
   "cell_type": "code",
   "execution_count": 20,
   "metadata": {},
   "outputs": [
    {
     "data": {
      "text/plain": [
       "['../../data/interim/feat_target_gen4_iter3.pkl']"
      ]
     },
     "execution_count": 20,
     "metadata": {},
     "output_type": "execute_result"
    }
   ],
   "source": [
    "joblib.dump((X_all,y_all, X_oot, y_oot),PATH_INTERIM+'feat_target_gen4_iter3.pkl')"
   ]
  },
  {
   "cell_type": "code",
   "execution_count": null,
   "metadata": {},
   "outputs": [],
   "source": []
  },
  {
   "cell_type": "markdown",
   "metadata": {
    "tags": []
   },
   "source": [
    "## Generate 5\n",
    "\n",
    "Sales, Temperature, and is_holiday  (lookback 15)"
   ]
  },
  {
   "cell_type": "code",
   "execution_count": 21,
   "metadata": {},
   "outputs": [
    {
     "name": "stderr",
     "output_type": "stream",
     "text": [
      "/usr/local/lib/python3.7/site-packages/ipykernel_launcher.py:13: SettingWithCopyWarning: \n",
      "A value is trying to be set on a copy of a slice from a DataFrame.\n",
      "Try using .loc[row_indexer,col_indexer] = value instead\n",
      "\n",
      "See the caveats in the documentation: https://pandas.pydata.org/pandas-docs/stable/user_guide/indexing.html#returning-a-view-versus-a-copy\n",
      "  del sys.path[0]\n"
     ]
    }
   ],
   "source": [
    "X_all = []\n",
    "y_all = []\n",
    "X_oot = []\n",
    "y_oot = []\n",
    "wb = 15\n",
    "for sid in df_all['ids'].unique():\n",
    "    df_temp = df_all[df_all.ids == sid]\n",
    "    X_temp, y_temp, X_oot_temp, y_oot_temp = ts_lookback_features(df_temp, window_back=wb, \n",
    "                                          feature_cols=['sales_ss','Temperature','is_holiday'], \n",
    "                                          target_cols = ['sales_ss'],\n",
    "                                          oot_data = oot_n)\n",
    "    X_all.append(X_temp)\n",
    "    y_all.append(y_temp)\n",
    "    X_oot.append(X_oot_temp)\n",
    "    y_oot.append(y_oot_temp)\n",
    "    \n",
    "X_all = np.vstack(X_all)\n",
    "y_all = np.vstack(y_all)\n",
    "X_oot = np.vstack(X_oot)\n",
    "y_oot = np.vstack(y_oot)"
   ]
  },
  {
   "cell_type": "code",
   "execution_count": 22,
   "metadata": {},
   "outputs": [
    {
     "data": {
      "text/plain": [
       "['../../data/interim/feat_target_gen5_iter3.pkl']"
      ]
     },
     "execution_count": 22,
     "metadata": {},
     "output_type": "execute_result"
    }
   ],
   "source": [
    "joblib.dump((X_all,y_all, X_oot, y_oot),PATH_INTERIM+'feat_target_gen5_iter3.pkl')"
   ]
  },
  {
   "cell_type": "code",
   "execution_count": null,
   "metadata": {},
   "outputs": [],
   "source": []
  },
  {
   "cell_type": "markdown",
   "metadata": {
    "tags": []
   },
   "source": [
    "## Generate 6\n",
    "\n",
    "Sales, Temperature, and is_holiday  (lookback 15) + current temp and is_holiday"
   ]
  },
  {
   "cell_type": "code",
   "execution_count": 23,
   "metadata": {},
   "outputs": [
    {
     "name": "stderr",
     "output_type": "stream",
     "text": [
      "/usr/local/lib/python3.7/site-packages/ipykernel_launcher.py:13: SettingWithCopyWarning: \n",
      "A value is trying to be set on a copy of a slice from a DataFrame.\n",
      "Try using .loc[row_indexer,col_indexer] = value instead\n",
      "\n",
      "See the caveats in the documentation: https://pandas.pydata.org/pandas-docs/stable/user_guide/indexing.html#returning-a-view-versus-a-copy\n",
      "  del sys.path[0]\n"
     ]
    }
   ],
   "source": [
    "X_all = []\n",
    "X_all2 = []\n",
    "y_all = []\n",
    "X_oot = []\n",
    "X_oot2 = []\n",
    "y_oot = []\n",
    "wb = 15\n",
    "for sid in df_all['ids'].unique():\n",
    "    df_temp = df_all[df_all.ids == sid]\n",
    "    X_temp, y_temp, X_oot_temp, y_oot_temp = ts_lookback_features(df_temp, window_back=wb, \n",
    "                                          feature_cols=['sales_ss','Temperature','is_holiday'], \n",
    "                                          target_cols = ['sales_ss'],\n",
    "                                          oot_data = oot_n)\n",
    "    X_all.append(X_temp)\n",
    "    y_all.append(y_temp)\n",
    "    \n",
    "    X_oot.append(X_oot_temp)\n",
    "    y_oot.append(y_oot_temp)\n",
    "    \n",
    "    \n",
    "    X2 = df_temp[wb:][['Temperature','is_holiday']].values\n",
    "    X_all2.append(X2[:-oot_n])\n",
    "    X_oot2.append(X2[-oot_n:])\n",
    "    \n",
    "X_all = np.vstack(X_all)\n",
    "X_all2 = np.vstack(X_all2)\n",
    "y_all = np.vstack(y_all)\n",
    "X_oot = np.vstack(X_oot)\n",
    "X_oot2 = np.vstack(X_oot2)\n",
    "y_oot = np.vstack(y_oot)"
   ]
  },
  {
   "cell_type": "code",
   "execution_count": 24,
   "metadata": {},
   "outputs": [
    {
     "data": {
      "text/plain": [
       "(386396, 15, 3)"
      ]
     },
     "execution_count": 24,
     "metadata": {},
     "output_type": "execute_result"
    }
   ],
   "source": [
    "X_all.shape"
   ]
  },
  {
   "cell_type": "code",
   "execution_count": 25,
   "metadata": {},
   "outputs": [
    {
     "data": {
      "text/plain": [
       "(386396, 2)"
      ]
     },
     "execution_count": 25,
     "metadata": {},
     "output_type": "execute_result"
    }
   ],
   "source": [
    "X_all2.shape"
   ]
  },
  {
   "cell_type": "code",
   "execution_count": 26,
   "metadata": {},
   "outputs": [
    {
     "data": {
      "text/plain": [
       "(39972, 15, 3)"
      ]
     },
     "execution_count": 26,
     "metadata": {},
     "output_type": "execute_result"
    }
   ],
   "source": [
    "X_oot.shape"
   ]
  },
  {
   "cell_type": "code",
   "execution_count": 27,
   "metadata": {},
   "outputs": [
    {
     "data": {
      "text/plain": [
       "(39972, 2)"
      ]
     },
     "execution_count": 27,
     "metadata": {},
     "output_type": "execute_result"
    }
   ],
   "source": [
    "X_oot2.shape"
   ]
  },
  {
   "cell_type": "code",
   "execution_count": null,
   "metadata": {},
   "outputs": [],
   "source": []
  },
  {
   "cell_type": "code",
   "execution_count": 28,
   "metadata": {},
   "outputs": [
    {
     "data": {
      "text/plain": [
       "['../../data/interim/feat_target_gen6_iter3.pkl']"
      ]
     },
     "execution_count": 28,
     "metadata": {},
     "output_type": "execute_result"
    }
   ],
   "source": [
    "joblib.dump((X_all,X_all2,y_all, X_oot,X_oot2, y_oot),PATH_INTERIM+'feat_target_gen6_iter3.pkl')"
   ]
  },
  {
   "cell_type": "code",
   "execution_count": null,
   "metadata": {},
   "outputs": [],
   "source": []
  }
 ],
 "metadata": {
  "kernelspec": {
   "display_name": "Python 3 (ipykernel)",
   "language": "python",
   "name": "python3"
  },
  "language_info": {
   "codemirror_mode": {
    "name": "ipython",
    "version": 3
   },
   "file_extension": ".py",
   "mimetype": "text/x-python",
   "name": "python",
   "nbconvert_exporter": "python",
   "pygments_lexer": "ipython3",
   "version": "3.7.13"
  },
  "vscode": {
   "interpreter": {
    "hash": "6fde994876131bc9f65527873aa4b87e75053d151a689996c7611049218b8dee"
   }
  }
 },
 "nbformat": 4,
 "nbformat_minor": 4
}
