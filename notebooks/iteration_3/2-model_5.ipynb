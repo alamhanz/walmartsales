{
 "cells": [
  {
   "cell_type": "markdown",
   "metadata": {},
   "source": [
    "[20220924]\n",
    "\n",
    "# 2. Model 5\n",
    "\n",
    "After Preparation ready. Build and train the model in here. its using LSTM one layer. with data gen3 (new structure)"
   ]
  },
  {
   "cell_type": "markdown",
   "metadata": {},
   "source": [
    "## Goal\n",
    "Find patterns on the features for target\n",
    "\n",
    "## Plan\n",
    "Checklist what will be done on the notebook :\n",
    "\n",
    "        [ ] Get Data\n",
    "        [ ] Modelling\n",
    "        [ ] Evaluation"
   ]
  },
  {
   "cell_type": "code",
   "execution_count": 1,
   "metadata": {},
   "outputs": [],
   "source": [
    "import yaml\n",
    "import pandas as pd\n",
    "import matplotlib.pyplot as plt\n",
    "import os\n",
    "import joblib\n",
    "from statsmodels.tsa.arima.model import ARIMA\n",
    "import sys\n",
    "sys.path.insert(1,'../../src/')\n"
   ]
  },
  {
   "cell_type": "code",
   "execution_count": 2,
   "metadata": {},
   "outputs": [],
   "source": [
    "from keras.models import Sequential\n",
    "from keras.layers import LSTM, Dropout, Flatten, Dense\n",
    "from keras.preprocessing.image import ImageDataGenerator\n",
    "from keras import metrics, optimizers\n",
    "import keras\n",
    "import tensorflow as tf\n",
    "from keras.models import load_model\n",
    "\n",
    "from sklearn.model_selection import train_test_split"
   ]
  },
  {
   "cell_type": "code",
   "execution_count": 3,
   "metadata": {},
   "outputs": [],
   "source": [
    "with open(\"../../config.yaml\", \"r\") as f:\n",
    "    config = yaml.load(f, Loader=yaml.FullLoader)\n",
    "\n",
    "PATH_RAW = config['path']['raw']\n",
    "PATH_INTERIM = config['path']['interim']\n",
    "PATH_PROCESSED = config['path']['processed']\n",
    "# PATH_MODEL = config['path']['artifact']+os.getcwd().split('\\\\')[-1]+'/'\n",
    "PATH_MODEL = config['path']['artifact']+'iteration_3'+'/'\n",
    "PATH_UDF = config['path']['udf']"
   ]
  },
  {
   "cell_type": "code",
   "execution_count": 4,
   "metadata": {},
   "outputs": [],
   "source": [
    "%matplotlib inline"
   ]
  },
  {
   "cell_type": "markdown",
   "metadata": {},
   "source": [
    "## Get Data"
   ]
  },
  {
   "cell_type": "code",
   "execution_count": 5,
   "metadata": {},
   "outputs": [],
   "source": [
    "Xt, yt, Xo, yo = joblib.load(PATH_INTERIM+'feat_target_gen3_iter3.pkl')\n",
    "Xt = Xt.astype(\"float32\")\n",
    "yt = yt.astype(\"float32\")\n",
    "\n",
    "Xo = Xo.astype(\"float32\")\n",
    "yo = yo.astype(\"float32\")"
   ]
  },
  {
   "cell_type": "code",
   "execution_count": 6,
   "metadata": {},
   "outputs": [
    {
     "data": {
      "text/plain": [
       "(386396, 15, 1)"
      ]
     },
     "execution_count": 6,
     "metadata": {},
     "output_type": "execute_result"
    }
   ],
   "source": [
    "Xt.shape"
   ]
  },
  {
   "cell_type": "code",
   "execution_count": 7,
   "metadata": {},
   "outputs": [
    {
     "data": {
      "text/plain": [
       "(386396, 1)"
      ]
     },
     "execution_count": 7,
     "metadata": {},
     "output_type": "execute_result"
    }
   ],
   "source": [
    "yt.shape"
   ]
  },
  {
   "cell_type": "code",
   "execution_count": 8,
   "metadata": {},
   "outputs": [],
   "source": [
    "SEQ = Xt.shape[1]"
   ]
  },
  {
   "cell_type": "code",
   "execution_count": 9,
   "metadata": {},
   "outputs": [],
   "source": [
    "## not the best way to split time series dataset\n",
    "x_tr, x_test, y_tr, y_test = train_test_split(\n",
    "    Xt, yt, test_size=0.25, random_state=42)\n",
    "\n",
    "x_train, x_val, y_train, y_val = train_test_split(\n",
    "    x_tr, y_tr, test_size=0.2, random_state=42)"
   ]
  },
  {
   "cell_type": "code",
   "execution_count": null,
   "metadata": {},
   "outputs": [],
   "source": []
  },
  {
   "cell_type": "markdown",
   "metadata": {
    "tags": []
   },
   "source": [
    "## Model"
   ]
  },
  {
   "cell_type": "code",
   "execution_count": 10,
   "metadata": {},
   "outputs": [],
   "source": [
    "# os.environ[\"CUDA_VISIBLE_DEVICES\"] "
   ]
  },
  {
   "cell_type": "code",
   "execution_count": 11,
   "metadata": {},
   "outputs": [
    {
     "name": "stdout",
     "output_type": "stream",
     "text": [
      "Num GPUs Available:  1\n"
     ]
    }
   ],
   "source": [
    "print(\"Num GPUs Available: \", len(tf.config.experimental.list_physical_devices('GPU')))"
   ]
  },
  {
   "cell_type": "code",
   "execution_count": 24,
   "metadata": {},
   "outputs": [],
   "source": [
    "mod_ts = Sequential()\n",
    "# mod_ts.add(LSTM(5, input_shape=(SEQ, 1)))\n",
    "mod_ts.add(LSTM(256, input_shape=(SEQ, 1), return_sequences=True))\n",
    "mod_ts.add(LSTM(128, return_sequences=True))\n",
    "mod_ts.add(LSTM(64))\n",
    "mod_ts.add(Dense(32))\n",
    "mod_ts.add(Dense(16))\n",
    "mod_ts.add(Dense(8))\n",
    "mod_ts.add(Dense(1))\n"
   ]
  },
  {
   "cell_type": "code",
   "execution_count": 25,
   "metadata": {},
   "outputs": [],
   "source": [
    "early_stop = keras.callbacks.EarlyStopping(\n",
    "        monitor='val_loss',mode='min', patience=6) \n",
    "\n",
    "check_p = keras.callbacks.ModelCheckpoint(\n",
    "        filepath=PATH_MODEL+'ws_data_model5_iter3.h5',\n",
    "        monitor='val_loss',\n",
    "        mode='min',\n",
    "        save_best_only=True)\n",
    "\n",
    "opt = tf.keras.optimizers.Adam(learning_rate=0.0002)\n",
    "\n",
    "mod_ts.compile(loss='mean_squared_error', optimizer=opt, metrics=[\n",
    "        tf.keras.metrics.RootMeanSquaredError(name='the_rmse'),\n",
    "        tf.keras.metrics.MeanAbsolutePercentageError(name='the_mape'),\n",
    "    ])"
   ]
  },
  {
   "cell_type": "code",
   "execution_count": null,
   "metadata": {},
   "outputs": [],
   "source": []
  },
  {
   "cell_type": "code",
   "execution_count": 26,
   "metadata": {},
   "outputs": [
    {
     "name": "stdout",
     "output_type": "stream",
     "text": [
      "Epoch 1/50\n",
      "1812/1812 [==============================] - 36s 20ms/step - loss: 0.7050 - the_rmse: 0.8396 - the_mape: 125128.6562 - val_loss: 0.6606 - val_the_rmse: 0.8128 - val_the_mape: 75829.1406\n",
      "Epoch 2/50\n",
      "1812/1812 [==============================] - 34s 19ms/step - loss: 0.6389 - the_rmse: 0.7993 - the_mape: 85518.4219 - val_loss: 0.6230 - val_the_rmse: 0.7893 - val_the_mape: 51408.7578\n",
      "Epoch 3/50\n",
      "1812/1812 [==============================] - 34s 19ms/step - loss: 0.6150 - the_rmse: 0.7842 - the_mape: 68643.1484 - val_loss: 0.6023 - val_the_rmse: 0.7761 - val_the_mape: 69753.8203\n",
      "Epoch 4/50\n",
      "1812/1812 [==============================] - 34s 19ms/step - loss: 0.5998 - the_rmse: 0.7745 - the_mape: 64972.8906 - val_loss: 0.5917 - val_the_rmse: 0.7692 - val_the_mape: 20067.8242\n",
      "Epoch 5/50\n",
      "1812/1812 [==============================] - 34s 19ms/step - loss: 0.5900 - the_rmse: 0.7681 - the_mape: 53813.8164 - val_loss: 0.5829 - val_the_rmse: 0.7635 - val_the_mape: 10099.3887\n",
      "Epoch 6/50\n",
      "1812/1812 [==============================] - 34s 19ms/step - loss: 0.5821 - the_rmse: 0.7630 - the_mape: 56576.5977 - val_loss: 0.5775 - val_the_rmse: 0.7599 - val_the_mape: 39221.3984\n",
      "Epoch 7/50\n",
      "1812/1812 [==============================] - 35s 19ms/step - loss: 0.5763 - the_rmse: 0.7591 - the_mape: 64531.1875 - val_loss: 0.5739 - val_the_rmse: 0.7575 - val_the_mape: 69491.3672\n",
      "Epoch 8/50\n",
      "1812/1812 [==============================] - 35s 19ms/step - loss: 0.5704 - the_rmse: 0.7552 - the_mape: 67384.5312 - val_loss: 0.5788 - val_the_rmse: 0.7608 - val_the_mape: 94220.5000\n",
      "Epoch 9/50\n",
      "1812/1812 [==============================] - 35s 19ms/step - loss: 0.5657 - the_rmse: 0.7521 - the_mape: 69235.0781 - val_loss: 0.5651 - val_the_rmse: 0.7517 - val_the_mape: 45927.3672\n",
      "Epoch 10/50\n",
      "1812/1812 [==============================] - 34s 19ms/step - loss: 0.5610 - the_rmse: 0.7490 - the_mape: 69882.8984 - val_loss: 0.5688 - val_the_rmse: 0.7542 - val_the_mape: 79259.5547\n",
      "Epoch 11/50\n",
      "1812/1812 [==============================] - 35s 19ms/step - loss: 0.5562 - the_rmse: 0.7458 - the_mape: 67923.9766 - val_loss: 0.5646 - val_the_rmse: 0.7514 - val_the_mape: 101075.3359\n",
      "Epoch 12/50\n",
      "1812/1812 [==============================] - 34s 19ms/step - loss: 0.5513 - the_rmse: 0.7425 - the_mape: 72547.3125 - val_loss: 0.5610 - val_the_rmse: 0.7490 - val_the_mape: 58683.0312\n",
      "Epoch 13/50\n",
      "1812/1812 [==============================] - 34s 19ms/step - loss: 0.5466 - the_rmse: 0.7393 - the_mape: 65458.2617 - val_loss: 0.5572 - val_the_rmse: 0.7464 - val_the_mape: 32102.8750\n",
      "Epoch 14/50\n",
      "1812/1812 [==============================] - 34s 19ms/step - loss: 0.5417 - the_rmse: 0.7360 - the_mape: 71740.7969 - val_loss: 0.5600 - val_the_rmse: 0.7483 - val_the_mape: 30551.7578\n",
      "Epoch 15/50\n",
      "1812/1812 [==============================] - 35s 19ms/step - loss: 0.5366 - the_rmse: 0.7325 - the_mape: 85212.1953 - val_loss: 0.5545 - val_the_rmse: 0.7447 - val_the_mape: 77880.5625\n",
      "Epoch 16/50\n",
      "1812/1812 [==============================] - 39s 21ms/step - loss: 0.5309 - the_rmse: 0.7286 - the_mape: 83916.8672 - val_loss: 0.5551 - val_the_rmse: 0.7451 - val_the_mape: 53650.2070\n",
      "Epoch 17/50\n",
      "1812/1812 [==============================] - 38s 21ms/step - loss: 0.5250 - the_rmse: 0.7245 - the_mape: 78086.5859 - val_loss: 0.5586 - val_the_rmse: 0.7474 - val_the_mape: 24066.3555\n",
      "Epoch 18/50\n",
      "1812/1812 [==============================] - 39s 21ms/step - loss: 0.5196 - the_rmse: 0.7209 - the_mape: 92737.5391 - val_loss: 0.5555 - val_the_rmse: 0.7453 - val_the_mape: 82569.7422\n",
      "Epoch 19/50\n",
      "1812/1812 [==============================] - 31s 17ms/step - loss: 0.5133 - the_rmse: 0.7164 - the_mape: 74137.1875 - val_loss: 0.5663 - val_the_rmse: 0.7525 - val_the_mape: 46079.3789\n",
      "Epoch 20/50\n",
      "1812/1812 [==============================] - 29s 16ms/step - loss: 0.5069 - the_rmse: 0.7119 - the_mape: 87543.1172 - val_loss: 0.5616 - val_the_rmse: 0.7494 - val_the_mape: 101882.3203\n",
      "Epoch 21/50\n",
      "1812/1812 [==============================] - 29s 16ms/step - loss: 0.4993 - the_rmse: 0.7066 - the_mape: 79066.7891 - val_loss: 0.5628 - val_the_rmse: 0.7502 - val_the_mape: 93801.7266\n"
     ]
    }
   ],
   "source": [
    "history = mod_ts.fit(\n",
    "    x_train,\n",
    "    y_train,\n",
    "    batch_size=128,\n",
    "    epochs=50,\n",
    "    # We pass some validation for\n",
    "    # monitoring validation loss and metrics\n",
    "    # at the end of each epoch\n",
    "    validation_data=(x_val, y_val),\n",
    "    callbacks=[early_stop,check_p]\n",
    ")"
   ]
  },
  {
   "cell_type": "code",
   "execution_count": null,
   "metadata": {},
   "outputs": [],
   "source": []
  },
  {
   "cell_type": "code",
   "execution_count": null,
   "metadata": {},
   "outputs": [],
   "source": []
  },
  {
   "cell_type": "markdown",
   "metadata": {},
   "source": [
    "## Eval"
   ]
  },
  {
   "cell_type": "code",
   "execution_count": 33,
   "metadata": {},
   "outputs": [
    {
     "data": {
      "text/plain": [
       "<AxesSubplot:>"
      ]
     },
     "execution_count": 33,
     "metadata": {},
     "output_type": "execute_result"
    },
    {
     "data": {
      "image/png": "[encoded data removed]",
      "text/plain": [
       "<Figure size 432x288 with 1 Axes>"
      ]
     },
     "metadata": {
      "needs_background": "light"
     },
     "output_type": "display_data"
    }
   ],
   "source": [
    "df_epoch_hist = pd.DataFrame(history.history)\n",
    "df_epoch_hist[['loss','val_loss']].plot()"
   ]
  },
  {
   "cell_type": "code",
   "execution_count": null,
   "metadata": {},
   "outputs": [],
   "source": []
  },
  {
   "cell_type": "code",
   "execution_count": 34,
   "metadata": {},
   "outputs": [],
   "source": [
    "# depd = {'auc_1' : metrics.AUC}\n",
    "model_load = load_model(PATH_MODEL + 'ws_data_model5_iter3.h5',compile=False)"
   ]
  },
  {
   "cell_type": "code",
   "execution_count": 35,
   "metadata": {},
   "outputs": [
    {
     "name": "stdout",
     "output_type": "stream",
     "text": [
      "Model: \"sequential_3\"\n",
      "_________________________________________________________________\n",
      "Layer (type)                 Output Shape              Param #   \n",
      "=================================================================\n",
      "lstm_8 (LSTM)                (None, 15, 256)           264192    \n",
      "_________________________________________________________________\n",
      "lstm_9 (LSTM)                (None, 15, 128)           197120    \n",
      "_________________________________________________________________\n",
      "lstm_10 (LSTM)               (None, 64)                49408     \n",
      "_________________________________________________________________\n",
      "dense_6 (Dense)              (None, 32)                2080      \n",
      "_________________________________________________________________\n",
      "dense_7 (Dense)              (None, 16)                528       \n",
      "_________________________________________________________________\n",
      "dense_8 (Dense)              (None, 8)                 136       \n",
      "_________________________________________________________________\n",
      "dense_9 (Dense)              (None, 1)                 9         \n",
      "=================================================================\n",
      "Total params: 513,473\n",
      "Trainable params: 513,473\n",
      "Non-trainable params: 0\n",
      "_________________________________________________________________\n"
     ]
    }
   ],
   "source": [
    "model_load.summary()"
   ]
  },
  {
   "cell_type": "code",
   "execution_count": 36,
   "metadata": {},
   "outputs": [],
   "source": [
    "model_load.compile(loss='mean_squared_error', optimizer=opt, metrics=[\n",
    "        tf.keras.metrics.RootMeanSquaredError(name='the_rmse'),\n",
    "        tf.keras.metrics.MeanAbsolutePercentageError(name='the_mape'),\n",
    "    ])"
   ]
  },
  {
   "cell_type": "code",
   "execution_count": 37,
   "metadata": {},
   "outputs": [
    {
     "name": "stdout",
     "output_type": "stream",
     "text": [
      "3019/3019 [==============================] - 19s 6ms/step - loss: 0.5700 - the_rmse: 0.7550 - the_mape: 89684.8516\n"
     ]
    },
    {
     "data": {
      "text/plain": [
       "[0.5700282454490662, 0.7550021409988403, 89684.8515625]"
      ]
     },
     "execution_count": 37,
     "metadata": {},
     "output_type": "execute_result"
    }
   ],
   "source": [
    "model_load.evaluate(x_test,y_test)"
   ]
  },
  {
   "cell_type": "code",
   "execution_count": 38,
   "metadata": {},
   "outputs": [
    {
     "name": "stdout",
     "output_type": "stream",
     "text": [
      "1250/1250 [==============================] - 9s 7ms/step - loss: 0.4470 - the_rmse: 0.6685 - the_mape: 88552.1406\n"
     ]
    },
    {
     "data": {
      "text/plain": [
       "[0.4469590187072754, 0.6685499548912048, 88552.140625]"
      ]
     },
     "execution_count": 38,
     "metadata": {},
     "output_type": "execute_result"
    },
    {
     "ename": "",
     "evalue": "",
     "output_type": "error",
     "traceback": [
      "\u001b[1;31mThe Kernel crashed while executing code in the the current cell or a previous cell. Please review the code in the cell(s) to identify a possible cause of the failure. Click <a href='https://aka.ms/vscodeJupyterKernelCrash'>here</a> for more info. View Jupyter <a href='command:jupyter.viewOutput'>log</a> for further details."
     ]
    }
   ],
   "source": [
    "model_load.evaluate(Xo,yo)"
   ]
  },
  {
   "cell_type": "code",
   "execution_count": null,
   "metadata": {},
   "outputs": [],
   "source": []
  }
 ],
 "metadata": {
  "kernelspec": {
   "display_name": "Python 3.7.10 ('droid1')",
   "language": "python",
   "name": "python3"
  },
  "language_info": {
   "codemirror_mode": {
    "name": "ipython",
    "version": 3
   },
   "file_extension": ".py",
   "mimetype": "text/x-python",
   "name": "python",
   "nbconvert_exporter": "python",
   "pygments_lexer": "ipython3",
   "version": "3.7.10"
  },
  "vscode": {
   "interpreter": {
    "hash": "cfaee8345a7381c4d4eb2d178d3529454f9688cb724b599027e029325603d2a6"
   }
  }
 },
 "nbformat": 4,
 "nbformat_minor": 4
}
