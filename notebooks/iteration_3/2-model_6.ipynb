{
 "cells": [
  {
   "cell_type": "markdown",
   "metadata": {},
   "source": [
    "[20220924]\n",
    "\n",
    "# 2. Model 6\n",
    "\n",
    "After Preparation ready. Build and train the model in here. its using LSTM one layer. with data gen4"
   ]
  },
  {
   "cell_type": "markdown",
   "metadata": {},
   "source": [
    "## Goal\n",
    "Find patterns on the features for target\n",
    "\n",
    "## Plan\n",
    "Checklist what will be done on the notebook :\n",
    "\n",
    "        [ ] Get Data\n",
    "        [ ] Modelling\n",
    "        [ ] Evaluation"
   ]
  },
  {
   "cell_type": "code",
   "execution_count": 1,
   "metadata": {},
   "outputs": [],
   "source": [
    "import yaml\n",
    "import pandas as pd\n",
    "import matplotlib.pyplot as plt\n",
    "import os\n",
    "import joblib\n",
    "from statsmodels.tsa.arima.model import ARIMA\n",
    "import sys\n",
    "sys.path.insert(1,'../../src/')\n"
   ]
  },
  {
   "cell_type": "code",
   "execution_count": 2,
   "metadata": {},
   "outputs": [],
   "source": [
    "from keras.models import Sequential\n",
    "from keras.layers import LSTM, Dropout, Flatten, Dense\n",
    "from keras.preprocessing.image import ImageDataGenerator\n",
    "from keras import metrics, optimizers\n",
    "import keras\n",
    "import tensorflow as tf\n",
    "from keras.models import load_model\n",
    "\n",
    "from sklearn.model_selection import train_test_split"
   ]
  },
  {
   "cell_type": "code",
   "execution_count": 3,
   "metadata": {},
   "outputs": [],
   "source": [
    "with open(\"../../config.yaml\", \"r\") as f:\n",
    "    config = yaml.load(f, Loader=yaml.FullLoader)\n",
    "\n",
    "PATH_RAW = config['path']['raw']\n",
    "PATH_INTERIM = config['path']['interim']\n",
    "PATH_PROCESSED = config['path']['processed']\n",
    "# PATH_MODEL = config['path']['artifact']+os.getcwd().split('\\\\')[-1]+'/'\n",
    "PATH_MODEL = config['path']['artifact']+'iteration_3'+'/'\n",
    "PATH_UDF = config['path']['udf']"
   ]
  },
  {
   "cell_type": "code",
   "execution_count": 4,
   "metadata": {},
   "outputs": [],
   "source": [
    "%matplotlib inline"
   ]
  },
  {
   "cell_type": "markdown",
   "metadata": {},
   "source": [
    "## Get Data"
   ]
  },
  {
   "cell_type": "code",
   "execution_count": 5,
   "metadata": {},
   "outputs": [],
   "source": [
    "Xt, yt, Xo, yo = joblib.load(PATH_INTERIM+'feat_target_gen4_iter3.pkl')\n",
    "Xt = Xt.astype(\"float32\")\n",
    "yt = yt.astype(\"float32\")\n",
    "\n",
    "Xo = Xo.astype(\"float32\")\n",
    "yo = yo.astype(\"float32\")"
   ]
  },
  {
   "cell_type": "code",
   "execution_count": 6,
   "metadata": {},
   "outputs": [
    {
     "data": {
      "text/plain": [
       "(386396, 15, 2)"
      ]
     },
     "execution_count": 6,
     "metadata": {},
     "output_type": "execute_result"
    }
   ],
   "source": [
    "Xt.shape"
   ]
  },
  {
   "cell_type": "code",
   "execution_count": 7,
   "metadata": {},
   "outputs": [
    {
     "data": {
      "text/plain": [
       "(386396, 1)"
      ]
     },
     "execution_count": 7,
     "metadata": {},
     "output_type": "execute_result"
    }
   ],
   "source": [
    "yt.shape"
   ]
  },
  {
   "cell_type": "code",
   "execution_count": 8,
   "metadata": {},
   "outputs": [],
   "source": [
    "SEQ = Xt.shape[1]"
   ]
  },
  {
   "cell_type": "code",
   "execution_count": 9,
   "metadata": {},
   "outputs": [],
   "source": [
    "## not the best way to split time series dataset\n",
    "x_tr, x_test, y_tr, y_test = train_test_split(\n",
    "    Xt, yt, test_size=0.25, random_state=42)\n",
    "\n",
    "x_train, x_val, y_train, y_val = train_test_split(\n",
    "    x_tr, y_tr, test_size=0.2, random_state=42)"
   ]
  },
  {
   "cell_type": "code",
   "execution_count": null,
   "metadata": {},
   "outputs": [],
   "source": []
  },
  {
   "cell_type": "markdown",
   "metadata": {
    "tags": []
   },
   "source": [
    "## Model 1"
   ]
  },
  {
   "cell_type": "code",
   "execution_count": 10,
   "metadata": {},
   "outputs": [],
   "source": [
    "# os.environ[\"CUDA_VISIBLE_DEVICES\"] "
   ]
  },
  {
   "cell_type": "code",
   "execution_count": 11,
   "metadata": {},
   "outputs": [
    {
     "name": "stdout",
     "output_type": "stream",
     "text": [
      "Num GPUs Available:  1\n"
     ]
    }
   ],
   "source": [
    "print(\"Num GPUs Available: \", len(tf.config.experimental.list_physical_devices('GPU')))"
   ]
  },
  {
   "cell_type": "code",
   "execution_count": 12,
   "metadata": {},
   "outputs": [
    {
     "data": {
      "text/plain": [
       "15"
      ]
     },
     "execution_count": 12,
     "metadata": {},
     "output_type": "execute_result"
    }
   ],
   "source": [
    "SEQ"
   ]
  },
  {
   "cell_type": "code",
   "execution_count": null,
   "metadata": {},
   "outputs": [],
   "source": []
  },
  {
   "cell_type": "code",
   "execution_count": 13,
   "metadata": {},
   "outputs": [],
   "source": [
    "mod_ts = Sequential()\n",
    "mod_ts.add(LSTM(128, input_shape=(SEQ, 2), return_sequences=True))\n",
    "mod_ts.add(LSTM(64))\n",
    "mod_ts.add(Dense(32, activation='relu'))\n",
    "mod_ts.add(Dense(16, activation='relu'))\n",
    "mod_ts.add(Dense(8, activation='relu'))\n",
    "mod_ts.add(Dense(4, activation='relu'))\n",
    "mod_ts.add(Dense(1, activation='linear'))\n"
   ]
  },
  {
   "cell_type": "code",
   "execution_count": 14,
   "metadata": {},
   "outputs": [],
   "source": [
    "early_stop = keras.callbacks.EarlyStopping(\n",
    "        monitor='val_loss',mode='min', patience=6) \n",
    "\n",
    "check_p = keras.callbacks.ModelCheckpoint(\n",
    "        filepath=PATH_MODEL+'ws_data_model6_iter3.h5',\n",
    "        monitor='val_loss',\n",
    "        mode='min',\n",
    "        save_best_only=True)\n",
    "\n",
    "opt = tf.keras.optimizers.Adam(learning_rate=0.0004)\n",
    "\n",
    "mod_ts.compile(loss='mean_squared_error', optimizer=opt, metrics=[\n",
    "        tf.keras.metrics.RootMeanSquaredError(name='the_rmse'),\n",
    "        tf.keras.metrics.MeanAbsolutePercentageError(name='the_mape'),\n",
    "    ])"
   ]
  },
  {
   "cell_type": "code",
   "execution_count": null,
   "metadata": {},
   "outputs": [],
   "source": []
  },
  {
   "cell_type": "code",
   "execution_count": 15,
   "metadata": {},
   "outputs": [
    {
     "name": "stdout",
     "output_type": "stream",
     "text": [
      "Epoch 1/50\n",
      "1812/1812 [==============================] - 21s 12ms/step - loss: 0.7287 - the_rmse: 0.8536 - the_mape: 144171.4375 - val_loss: 0.6877 - val_the_rmse: 0.8293 - val_the_mape: 81826.9922\n",
      "Epoch 2/50\n",
      "1812/1812 [==============================] - 20s 11ms/step - loss: 0.6666 - the_rmse: 0.8165 - the_mape: 132146.8594 - val_loss: 0.6445 - val_the_rmse: 0.8028 - val_the_mape: 84060.5234\n",
      "Epoch 3/50\n",
      "1812/1812 [==============================] - 20s 11ms/step - loss: 0.6200 - the_rmse: 0.7874 - the_mape: 142198.2344 - val_loss: 0.6120 - val_the_rmse: 0.7823 - val_the_mape: 128231.4141\n",
      "Epoch 4/50\n",
      "1812/1812 [==============================] - 21s 11ms/step - loss: 0.5943 - the_rmse: 0.7709 - the_mape: 134888.7969 - val_loss: 0.5928 - val_the_rmse: 0.7700 - val_the_mape: 100964.6250\n",
      "Epoch 5/50\n",
      "1812/1812 [==============================] - 20s 11ms/step - loss: 0.5735 - the_rmse: 0.7573 - the_mape: 137392.9219 - val_loss: 0.5690 - val_the_rmse: 0.7543 - val_the_mape: 137615.7344\n",
      "Epoch 6/50\n",
      "1812/1812 [==============================] - 20s 11ms/step - loss: 0.5573 - the_rmse: 0.7465 - the_mape: 141890.5469 - val_loss: 0.5568 - val_the_rmse: 0.7462 - val_the_mape: 153473.3281\n",
      "Epoch 7/50\n",
      "1812/1812 [==============================] - 21s 11ms/step - loss: 0.5445 - the_rmse: 0.7379 - the_mape: 138539.7812 - val_loss: 0.5495 - val_the_rmse: 0.7413 - val_the_mape: 102370.1406\n",
      "Epoch 8/50\n",
      "1812/1812 [==============================] - 21s 11ms/step - loss: 0.5354 - the_rmse: 0.7317 - the_mape: 130955.5547 - val_loss: 0.5426 - val_the_rmse: 0.7366 - val_the_mape: 161254.9844\n",
      "Epoch 9/50\n",
      "1812/1812 [==============================] - 21s 11ms/step - loss: 0.5277 - the_rmse: 0.7264 - the_mape: 130848.1406 - val_loss: 0.5308 - val_the_rmse: 0.7285 - val_the_mape: 113125.6719\n",
      "Epoch 10/50\n",
      "1812/1812 [==============================] - 21s 11ms/step - loss: 0.5209 - the_rmse: 0.7217 - the_mape: 124874.4766 - val_loss: 0.5250 - val_the_rmse: 0.7246 - val_the_mape: 105409.9766\n",
      "Epoch 11/50\n",
      "1812/1812 [==============================] - 21s 11ms/step - loss: 0.5145 - the_rmse: 0.7173 - the_mape: 109623.8672 - val_loss: 0.5140 - val_the_rmse: 0.7169 - val_the_mape: 139276.7969\n",
      "Epoch 12/50\n",
      "1812/1812 [==============================] - 21s 12ms/step - loss: 0.5087 - the_rmse: 0.7132 - the_mape: 109370.1797 - val_loss: 0.5161 - val_the_rmse: 0.7184 - val_the_mape: 117621.3906\n",
      "Epoch 13/50\n",
      "1812/1812 [==============================] - 21s 11ms/step - loss: 0.5033 - the_rmse: 0.7094 - the_mape: 111445.9531 - val_loss: 0.5152 - val_the_rmse: 0.7178 - val_the_mape: 140956.1406\n",
      "Epoch 14/50\n",
      "1812/1812 [==============================] - 21s 11ms/step - loss: 0.4978 - the_rmse: 0.7055 - the_mape: 109090.9922 - val_loss: 0.5046 - val_the_rmse: 0.7103 - val_the_mape: 118002.8125\n",
      "Epoch 15/50\n",
      "1812/1812 [==============================] - 21s 12ms/step - loss: 0.4925 - the_rmse: 0.7018 - the_mape: 106596.6328 - val_loss: 0.5064 - val_the_rmse: 0.7116 - val_the_mape: 135280.5469\n",
      "Epoch 16/50\n",
      "1812/1812 [==============================] - 20s 11ms/step - loss: 0.4884 - the_rmse: 0.6989 - the_mape: 102328.8047 - val_loss: 0.4975 - val_the_rmse: 0.7053 - val_the_mape: 110984.9688\n",
      "Epoch 17/50\n",
      "1812/1812 [==============================] - 20s 11ms/step - loss: 0.4835 - the_rmse: 0.6954 - the_mape: 106150.0000 - val_loss: 0.4997 - val_the_rmse: 0.7069 - val_the_mape: 118605.7578\n",
      "Epoch 18/50\n",
      "1812/1812 [==============================] - 20s 11ms/step - loss: 0.4792 - the_rmse: 0.6922 - the_mape: 114837.8750 - val_loss: 0.5060 - val_the_rmse: 0.7114 - val_the_mape: 118852.3359\n",
      "Epoch 19/50\n",
      "1812/1812 [==============================] - 20s 11ms/step - loss: 0.4759 - the_rmse: 0.6898 - the_mape: 102522.8359 - val_loss: 0.4994 - val_the_rmse: 0.7067 - val_the_mape: 160800.8750\n",
      "Epoch 20/50\n",
      "1812/1812 [==============================] - 21s 12ms/step - loss: 0.4718 - the_rmse: 0.6869 - the_mape: 110732.6406 - val_loss: 0.4929 - val_the_rmse: 0.7021 - val_the_mape: 92710.7734\n",
      "Epoch 21/50\n",
      "1812/1812 [==============================] - 20s 11ms/step - loss: 0.4677 - the_rmse: 0.6839 - the_mape: 106949.5781 - val_loss: 0.4960 - val_the_rmse: 0.7042 - val_the_mape: 124986.9922\n",
      "Epoch 22/50\n",
      "1812/1812 [==============================] - 20s 11ms/step - loss: 0.4649 - the_rmse: 0.6818 - the_mape: 108339.1016 - val_loss: 0.4903 - val_the_rmse: 0.7002 - val_the_mape: 139327.9062\n",
      "Epoch 23/50\n",
      "1812/1812 [==============================] - 20s 11ms/step - loss: 0.4598 - the_rmse: 0.6781 - the_mape: 96865.5703 - val_loss: 0.4884 - val_the_rmse: 0.6988 - val_the_mape: 143957.5156\n",
      "Epoch 24/50\n",
      "1812/1812 [==============================] - 20s 11ms/step - loss: 0.4572 - the_rmse: 0.6762 - the_mape: 102134.0938 - val_loss: 0.4867 - val_the_rmse: 0.6977 - val_the_mape: 148879.5156\n",
      "Epoch 25/50\n",
      "1812/1812 [==============================] - 20s 11ms/step - loss: 0.4525 - the_rmse: 0.6727 - the_mape: 110896.3672 - val_loss: 0.4867 - val_the_rmse: 0.6976 - val_the_mape: 171050.0469\n",
      "Epoch 26/50\n",
      "1812/1812 [==============================] - 20s 11ms/step - loss: 0.4501 - the_rmse: 0.6709 - the_mape: 108588.5938 - val_loss: 0.4898 - val_the_rmse: 0.6999 - val_the_mape: 147373.2188\n",
      "Epoch 27/50\n",
      "1812/1812 [==============================] - 20s 11ms/step - loss: 0.4470 - the_rmse: 0.6686 - the_mape: 119415.4609 - val_loss: 0.4846 - val_the_rmse: 0.6962 - val_the_mape: 147886.5312\n",
      "Epoch 28/50\n",
      "1812/1812 [==============================] - 20s 11ms/step - loss: 0.4435 - the_rmse: 0.6660 - the_mape: 109930.3125 - val_loss: 0.4828 - val_the_rmse: 0.6949 - val_the_mape: 139117.0000\n",
      "Epoch 29/50\n",
      "1812/1812 [==============================] - 20s 11ms/step - loss: 0.4404 - the_rmse: 0.6636 - the_mape: 107182.6406 - val_loss: 0.4969 - val_the_rmse: 0.7049 - val_the_mape: 175377.2969\n",
      "Epoch 30/50\n",
      "1812/1812 [==============================] - 20s 11ms/step - loss: 0.4376 - the_rmse: 0.6615 - the_mape: 104240.5391 - val_loss: 0.4872 - val_the_rmse: 0.6980 - val_the_mape: 196087.0000\n",
      "Epoch 31/50\n",
      "1812/1812 [==============================] - 20s 11ms/step - loss: 0.4336 - the_rmse: 0.6585 - the_mape: 106668.3125 - val_loss: 0.4877 - val_the_rmse: 0.6983 - val_the_mape: 138952.5938\n",
      "Epoch 32/50\n",
      "1812/1812 [==============================] - 20s 11ms/step - loss: 0.4313 - the_rmse: 0.6567 - the_mape: 115059.2812 - val_loss: 0.4904 - val_the_rmse: 0.7003 - val_the_mape: 176283.8750\n",
      "Epoch 33/50\n",
      "1812/1812 [==============================] - 21s 11ms/step - loss: 0.4275 - the_rmse: 0.6538 - the_mape: 124415.6641 - val_loss: 0.4860 - val_the_rmse: 0.6971 - val_the_mape: 131516.2656\n",
      "Epoch 34/50\n",
      "1812/1812 [==============================] - 20s 11ms/step - loss: 0.4238 - the_rmse: 0.6510 - the_mape: 109914.4062 - val_loss: 0.4865 - val_the_rmse: 0.6975 - val_the_mape: 178289.4062\n"
     ]
    }
   ],
   "source": [
    "history = mod_ts.fit(\n",
    "    x_train,\n",
    "    y_train,\n",
    "    batch_size=128,\n",
    "    epochs=50,\n",
    "    validation_data=(x_val, y_val),\n",
    "    callbacks=[early_stop,check_p]\n",
    ")"
   ]
  },
  {
   "cell_type": "code",
   "execution_count": null,
   "metadata": {},
   "outputs": [],
   "source": []
  },
  {
   "cell_type": "code",
   "execution_count": null,
   "metadata": {},
   "outputs": [],
   "source": []
  },
  {
   "cell_type": "markdown",
   "metadata": {},
   "source": [
    "## Eval"
   ]
  },
  {
   "cell_type": "code",
   "execution_count": 16,
   "metadata": {},
   "outputs": [
    {
     "data": {
      "text/plain": [
       "<AxesSubplot:>"
      ]
     },
     "execution_count": 16,
     "metadata": {},
     "output_type": "execute_result"
    },
    {
     "data": {
      "image/png": "[encoded data removed]",
      "text/plain": [
       "<Figure size 432x288 with 1 Axes>"
      ]
     },
     "metadata": {
      "needs_background": "light"
     },
     "output_type": "display_data"
    }
   ],
   "source": [
    "df_epoch_hist = pd.DataFrame(history.history)\n",
    "df_epoch_hist[['loss','val_loss']].plot()"
   ]
  },
  {
   "cell_type": "code",
   "execution_count": null,
   "metadata": {},
   "outputs": [],
   "source": []
  },
  {
   "cell_type": "code",
   "execution_count": 17,
   "metadata": {},
   "outputs": [],
   "source": [
    "# depd = {'auc_1' : metrics.AUC}\n",
    "model_load = load_model(PATH_MODEL + 'ws_data_model6_iter3.h5',compile=False)"
   ]
  },
  {
   "cell_type": "code",
   "execution_count": 18,
   "metadata": {},
   "outputs": [
    {
     "name": "stdout",
     "output_type": "stream",
     "text": [
      "Model: \"sequential\"\n",
      "_________________________________________________________________\n",
      "Layer (type)                 Output Shape              Param #   \n",
      "=================================================================\n",
      "lstm (LSTM)                  (None, 15, 128)           67072     \n",
      "_________________________________________________________________\n",
      "lstm_1 (LSTM)                (None, 64)                49408     \n",
      "_________________________________________________________________\n",
      "dense (Dense)                (None, 32)                2080      \n",
      "_________________________________________________________________\n",
      "dense_1 (Dense)              (None, 16)                528       \n",
      "_________________________________________________________________\n",
      "dense_2 (Dense)              (None, 8)                 136       \n",
      "_________________________________________________________________\n",
      "dense_3 (Dense)              (None, 4)                 36        \n",
      "_________________________________________________________________\n",
      "dense_4 (Dense)              (None, 1)                 5         \n",
      "=================================================================\n",
      "Total params: 119,265\n",
      "Trainable params: 119,265\n",
      "Non-trainable params: 0\n",
      "_________________________________________________________________\n"
     ]
    }
   ],
   "source": [
    "model_load.summary()"
   ]
  },
  {
   "cell_type": "code",
   "execution_count": 19,
   "metadata": {},
   "outputs": [],
   "source": [
    "model_load.compile(loss='mean_squared_error', optimizer=opt, metrics=[\n",
    "        tf.keras.metrics.RootMeanSquaredError(name='the_rmse'),\n",
    "        tf.keras.metrics.MeanAbsolutePercentageError(name='the_mape'),\n",
    "    ])"
   ]
  },
  {
   "cell_type": "code",
   "execution_count": 20,
   "metadata": {},
   "outputs": [
    {
     "name": "stdout",
     "output_type": "stream",
     "text": [
      "3019/3019 [==============================] - 15s 5ms/step - loss: 0.4888 - the_rmse: 0.6992 - the_mape: 105501.2812\n"
     ]
    },
    {
     "data": {
      "text/plain": [
       "[0.4888346493244171, 0.6991671323776245, 105501.28125]"
      ]
     },
     "execution_count": 20,
     "metadata": {},
     "output_type": "execute_result"
    }
   ],
   "source": [
    "model_load.evaluate(x_test,y_test)"
   ]
  },
  {
   "cell_type": "code",
   "execution_count": 21,
   "metadata": {},
   "outputs": [
    {
     "name": "stdout",
     "output_type": "stream",
     "text": [
      "1250/1250 [==============================] - 6s 5ms/step - loss: 0.4490 - the_rmse: 0.6700 - the_mape: 110937.8203\n"
     ]
    },
    {
     "data": {
      "text/plain": [
       "[0.44896388053894043, 0.6700476408004761, 110937.8203125]"
      ]
     },
     "execution_count": 21,
     "metadata": {},
     "output_type": "execute_result"
    }
   ],
   "source": [
    "model_load.evaluate(Xo,yo)"
   ]
  },
  {
   "cell_type": "code",
   "execution_count": null,
   "metadata": {},
   "outputs": [],
   "source": []
  }
 ],
 "metadata": {
  "kernelspec": {
   "display_name": "Python 3.7.10 ('droid1')",
   "language": "python",
   "name": "python3"
  },
  "language_info": {
   "codemirror_mode": {
    "name": "ipython",
    "version": 3
   },
   "file_extension": ".py",
   "mimetype": "text/x-python",
   "name": "python",
   "nbconvert_exporter": "python",
   "pygments_lexer": "ipython3",
   "version": "3.7.10"
  },
  "vscode": {
   "interpreter": {
    "hash": "cfaee8345a7381c4d4eb2d178d3529454f9688cb724b599027e029325603d2a6"
   }
  }
 },
 "nbformat": 4,
 "nbformat_minor": 4
}
