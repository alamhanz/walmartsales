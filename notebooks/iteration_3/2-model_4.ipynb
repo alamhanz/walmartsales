{
 "cells": [
  {
   "cell_type": "markdown",
   "metadata": {},
   "source": [
    "[20220924]\n",
    "\n",
    "# 2. Model 4\n",
    "\n",
    "After Preparation ready. Build and train the model in here. its using LSTM one layer. with data gen2"
   ]
  },
  {
   "cell_type": "markdown",
   "metadata": {},
   "source": [
    "## Goal\n",
    "Find patterns on the features for target\n",
    "\n",
    "## Plan\n",
    "Checklist what will be done on the notebook :\n",
    "\n",
    "        [ ] Get Data\n",
    "        [ ] Modelling\n",
    "        [ ] Evaluation"
   ]
  },
  {
   "cell_type": "code",
   "execution_count": 1,
   "metadata": {},
   "outputs": [],
   "source": [
    "import yaml\n",
    "import pandas as pd\n",
    "import matplotlib.pyplot as plt\n",
    "import os\n",
    "import joblib\n",
    "import sys\n",
    "sys.path.insert(1,'../../src/')\n",
    "\n",
    "## import myfunc inside src folder\n",
    "from ramal import eval_model, jampi"
   ]
  },
  {
   "cell_type": "code",
   "execution_count": 2,
   "metadata": {},
   "outputs": [
    {
     "name": "stderr",
     "output_type": "stream",
     "text": [
      "2022-09-28 15:50:05.310795: W tensorflow/stream_executor/platform/default/dso_loader.cc:64] Could not load dynamic library 'libcudart.so.11.0'; dlerror: libcudart.so.11.0: cannot open shared object file: No such file or directory\n",
      "2022-09-28 15:50:05.310859: I tensorflow/stream_executor/cuda/cudart_stub.cc:29] Ignore above cudart dlerror if you do not have a GPU set up on your machine.\n",
      "/usr/local/lib/python3.7/site-packages/requests/__init__.py:104: RequestsDependencyWarning: urllib3 (1.26.11) or chardet (5.0.0)/charset_normalizer (2.0.12) doesn't match a supported version!\n",
      "  RequestsDependencyWarning)\n"
     ]
    }
   ],
   "source": [
    "from keras.models import Sequential\n",
    "from keras.layers import LSTM, Dropout, Flatten, Dense\n",
    "from keras.preprocessing.image import ImageDataGenerator\n",
    "from keras import metrics, optimizers\n",
    "import keras\n",
    "import tensorflow as tf\n",
    "from keras.models import load_model\n",
    "\n",
    "from sklearn.model_selection import train_test_split"
   ]
  },
  {
   "cell_type": "code",
   "execution_count": 3,
   "metadata": {},
   "outputs": [],
   "source": [
    "with open(\"../../config.yaml\", \"r\") as f:\n",
    "    config = yaml.load(f, Loader=yaml.FullLoader)\n",
    "\n",
    "PATH_RAW = config['path']['raw']\n",
    "PATH_INTERIM = config['path']['interim']\n",
    "PATH_PROCESSED = config['path']['processed']\n",
    "# PATH_MODEL = config['path']['artifact']+os.getcwd().split('\\\\')[-1]+'/'\n",
    "PATH_MODEL = config['path']['artifact']+'iteration_3'+'/'\n",
    "PATH_UDF = config['path']['udf']"
   ]
  },
  {
   "cell_type": "markdown",
   "metadata": {},
   "source": [
    "## Get Data"
   ]
  },
  {
   "cell_type": "code",
   "execution_count": 4,
   "metadata": {},
   "outputs": [],
   "source": [
    "Xt, yt, Xo, yo = joblib.load(PATH_INTERIM+'feat_target_gen2_iter3.pkl')\n",
    "Xt = Xt.astype(\"float32\")\n",
    "yt = yt.astype(\"float32\")\n",
    "\n",
    "Xo = Xo.astype(\"float32\")\n",
    "yo = yo.astype(\"float32\")"
   ]
  },
  {
   "cell_type": "code",
   "execution_count": 5,
   "metadata": {},
   "outputs": [
    {
     "data": {
      "text/plain": [
       "(426368, 10, 1)"
      ]
     },
     "execution_count": 5,
     "metadata": {},
     "output_type": "execute_result"
    }
   ],
   "source": [
    "Xt.shape"
   ]
  },
  {
   "cell_type": "code",
   "execution_count": 6,
   "metadata": {},
   "outputs": [
    {
     "data": {
      "text/plain": [
       "(426368, 1)"
      ]
     },
     "execution_count": 6,
     "metadata": {},
     "output_type": "execute_result"
    }
   ],
   "source": [
    "yt.shape"
   ]
  },
  {
   "cell_type": "code",
   "execution_count": 7,
   "metadata": {},
   "outputs": [],
   "source": [
    "SEQ = Xt.shape[1]"
   ]
  },
  {
   "cell_type": "code",
   "execution_count": 8,
   "metadata": {},
   "outputs": [],
   "source": [
    "## not the best way to split time series dataset\n",
    "x_tr, x_test, y_tr, y_test = train_test_split(\n",
    "    Xt, yt, test_size=0.25, random_state=42)\n",
    "\n",
    "x_train, x_val, y_train, y_val = train_test_split(\n",
    "    x_tr, y_tr, test_size=0.2, random_state=42)"
   ]
  },
  {
   "cell_type": "code",
   "execution_count": null,
   "metadata": {},
   "outputs": [],
   "source": []
  },
  {
   "cell_type": "markdown",
   "metadata": {
    "tags": []
   },
   "source": [
    "## Model 1"
   ]
  },
  {
   "cell_type": "code",
   "execution_count": 9,
   "metadata": {},
   "outputs": [],
   "source": [
    "# os.environ[\"CUDA_VISIBLE_DEVICES\"] "
   ]
  },
  {
   "cell_type": "code",
   "execution_count": 10,
   "metadata": {},
   "outputs": [
    {
     "name": "stdout",
     "output_type": "stream",
     "text": [
      "Num GPUs Available:  0\n"
     ]
    },
    {
     "name": "stderr",
     "output_type": "stream",
     "text": [
      "2022-09-28 15:50:06.938572: W tensorflow/stream_executor/platform/default/dso_loader.cc:64] Could not load dynamic library 'libcuda.so.1'; dlerror: libcuda.so.1: cannot open shared object file: No such file or directory\n",
      "2022-09-28 15:50:06.938676: W tensorflow/stream_executor/cuda/cuda_driver.cc:269] failed call to cuInit: UNKNOWN ERROR (303)\n",
      "2022-09-28 15:50:06.938703: I tensorflow/stream_executor/cuda/cuda_diagnostics.cc:156] kernel driver does not appear to be running on this host (62cd00eaf0b9): /proc/driver/nvidia/version does not exist\n"
     ]
    }
   ],
   "source": [
    "print(\"Num GPUs Available: \", len(tf.config.experimental.list_physical_devices('GPU')))"
   ]
  },
  {
   "cell_type": "code",
   "execution_count": 11,
   "metadata": {},
   "outputs": [
    {
     "name": "stderr",
     "output_type": "stream",
     "text": [
      "2022-09-28 15:50:07.196236: I tensorflow/core/platform/cpu_feature_guard.cc:151] This TensorFlow binary is optimized with oneAPI Deep Neural Network Library (oneDNN) to use the following CPU instructions in performance-critical operations:  AVX2 FMA\n",
      "To enable them in other operations, rebuild TensorFlow with the appropriate compiler flags.\n"
     ]
    }
   ],
   "source": [
    "mod_ts = Sequential()\n",
    "# mod_ts.add(LSTM(5, input_shape=(SEQ, 1)))\n",
    "mod_ts.add(LSTM(256, input_shape=(SEQ, 1), return_sequences=True))\n",
    "mod_ts.add(LSTM(128))\n",
    "mod_ts.add(Dense(64))\n",
    "mod_ts.add(Dense(16))\n",
    "mod_ts.add(Dense(8))\n",
    "mod_ts.add(Dense(1))\n"
   ]
  },
  {
   "cell_type": "code",
   "execution_count": 12,
   "metadata": {},
   "outputs": [
    {
     "name": "stdout",
     "output_type": "stream",
     "text": [
      "Model: \"sequential\"\n",
      "_________________________________________________________________\n",
      " Layer (type)                Output Shape              Param #   \n",
      "=================================================================\n",
      " lstm (LSTM)                 (None, 10, 256)           264192    \n",
      "                                                                 \n",
      " lstm_1 (LSTM)               (None, 128)               197120    \n",
      "                                                                 \n",
      " dense (Dense)               (None, 64)                8256      \n",
      "                                                                 \n",
      " dense_1 (Dense)             (None, 16)                1040      \n",
      "                                                                 \n",
      " dense_2 (Dense)             (None, 8)                 136       \n",
      "                                                                 \n",
      " dense_3 (Dense)             (None, 1)                 9         \n",
      "                                                                 \n",
      "=================================================================\n",
      "Total params: 470,753\n",
      "Trainable params: 470,753\n",
      "Non-trainable params: 0\n",
      "_________________________________________________________________\n"
     ]
    }
   ],
   "source": [
    "mod_ts.summary()"
   ]
  },
  {
   "cell_type": "code",
   "execution_count": 13,
   "metadata": {},
   "outputs": [],
   "source": [
    "early_stop = keras.callbacks.EarlyStopping(\n",
    "        monitor='val_loss',mode='min', patience=6) \n",
    "\n",
    "check_p = keras.callbacks.ModelCheckpoint(\n",
    "        filepath=PATH_MODEL+'ws_data_model4_iter3.h5',\n",
    "        monitor='val_loss',\n",
    "        mode='min',\n",
    "        save_best_only=True)\n",
    "\n",
    "\n",
    "# # initial_learning_rate * decay_rate ^ (step / decay_steps)\n",
    "# lr_schedule = tf.keras.optimizers.schedules.ExponentialDecay(\n",
    "#     0.0003,\n",
    "#     decay_steps=15,\n",
    "#     decay_rate=0.4,\n",
    "#     staircase=True)\n",
    "\n",
    "\n",
    "opt = tf.keras.optimizers.Adam(learning_rate=0.00035)\n",
    "\n",
    "mod_ts.compile(loss='mean_squared_error', optimizer=opt, metrics=[\n",
    "        tf.keras.metrics.RootMeanSquaredError(name='the_rmse'),\n",
    "        tf.keras.metrics.MeanAbsolutePercentageError(name='the_mape'),\n",
    "    ])"
   ]
  },
  {
   "cell_type": "code",
   "execution_count": 14,
   "metadata": {},
   "outputs": [
    {
     "name": "stdout",
     "output_type": "stream",
     "text": [
      "Epoch 1/50\n",
      "1999/1999 [==============================] - 138s 67ms/step - loss: 0.6699 - the_rmse: 0.8185 - the_mape: 104935.6562 - val_loss: 0.6415 - val_the_rmse: 0.8009 - val_the_mape: 112115.3125\n",
      "Epoch 2/50\n",
      "1999/1999 [==============================] - 129s 65ms/step - loss: 0.6106 - the_rmse: 0.7814 - the_mape: 78417.4609 - val_loss: 0.6198 - val_the_rmse: 0.7873 - val_the_mape: 65726.0078\n",
      "Epoch 3/50\n",
      "1999/1999 [==============================] - 129s 64ms/step - loss: 0.5930 - the_rmse: 0.7701 - the_mape: 70073.7891 - val_loss: 0.6039 - val_the_rmse: 0.7771 - val_the_mape: 14827.6494\n",
      "Epoch 4/50\n",
      "1999/1999 [==============================] - 130s 65ms/step - loss: 0.5833 - the_rmse: 0.7638 - the_mape: 64058.3594 - val_loss: 0.5977 - val_the_rmse: 0.7731 - val_the_mape: 42176.9336\n",
      "Epoch 5/50\n",
      "1999/1999 [==============================] - 137s 68ms/step - loss: 0.5775 - the_rmse: 0.7600 - the_mape: 67374.8125 - val_loss: 0.5963 - val_the_rmse: 0.7722 - val_the_mape: 82353.1328\n",
      "Epoch 6/50\n",
      "1999/1999 [==============================] - 136s 68ms/step - loss: 0.5732 - the_rmse: 0.7571 - the_mape: 62942.7031 - val_loss: 0.5917 - val_the_rmse: 0.7692 - val_the_mape: 82607.9609\n",
      "Epoch 7/50\n",
      "1999/1999 [==============================] - 127s 63ms/step - loss: 0.5696 - the_rmse: 0.7547 - the_mape: 56326.5430 - val_loss: 0.5882 - val_the_rmse: 0.7669 - val_the_mape: 71210.9141\n",
      "Epoch 8/50\n",
      "1999/1999 [==============================] - 127s 64ms/step - loss: 0.5662 - the_rmse: 0.7525 - the_mape: 69770.0391 - val_loss: 0.5908 - val_the_rmse: 0.7687 - val_the_mape: 53977.2344\n",
      "Epoch 9/50\n",
      "1999/1999 [==============================] - 127s 64ms/step - loss: 0.5625 - the_rmse: 0.7500 - the_mape: 64414.8320 - val_loss: 0.5859 - val_the_rmse: 0.7654 - val_the_mape: 68342.6641\n",
      "Epoch 10/50\n",
      "1999/1999 [==============================] - 126s 63ms/step - loss: 0.5597 - the_rmse: 0.7481 - the_mape: 61057.8867 - val_loss: 0.5854 - val_the_rmse: 0.7651 - val_the_mape: 64215.1094\n",
      "Epoch 11/50\n",
      "1999/1999 [==============================] - 126s 63ms/step - loss: 0.5563 - the_rmse: 0.7459 - the_mape: 57333.5938 - val_loss: 0.5860 - val_the_rmse: 0.7655 - val_the_mape: 47713.9766\n",
      "Epoch 12/50\n",
      "1999/1999 [==============================] - 126s 63ms/step - loss: 0.5531 - the_rmse: 0.7437 - the_mape: 61226.0391 - val_loss: 0.5845 - val_the_rmse: 0.7646 - val_the_mape: 41945.9805\n",
      "Epoch 13/50\n",
      "1999/1999 [==============================] - 126s 63ms/step - loss: 0.5495 - the_rmse: 0.7413 - the_mape: 55383.5273 - val_loss: 0.5841 - val_the_rmse: 0.7643 - val_the_mape: 54642.9805\n",
      "Epoch 14/50\n",
      "1999/1999 [==============================] - 126s 63ms/step - loss: 0.5465 - the_rmse: 0.7393 - the_mape: 64180.6641 - val_loss: 0.5854 - val_the_rmse: 0.7651 - val_the_mape: 38555.0938\n",
      "Epoch 15/50\n",
      "1999/1999 [==============================] - 126s 63ms/step - loss: 0.5418 - the_rmse: 0.7361 - the_mape: 65397.7031 - val_loss: 0.5864 - val_the_rmse: 0.7658 - val_the_mape: 104423.0703\n",
      "Epoch 16/50\n",
      "1999/1999 [==============================] - 126s 63ms/step - loss: 0.5374 - the_rmse: 0.7331 - the_mape: 64760.5195 - val_loss: 0.5872 - val_the_rmse: 0.7663 - val_the_mape: 43574.5156\n",
      "Epoch 17/50\n",
      "1999/1999 [==============================] - 126s 63ms/step - loss: 0.5321 - the_rmse: 0.7294 - the_mape: 56868.4102 - val_loss: 0.5881 - val_the_rmse: 0.7669 - val_the_mape: 111159.8906\n",
      "Epoch 18/50\n",
      "1999/1999 [==============================] - 126s 63ms/step - loss: 0.5274 - the_rmse: 0.7263 - the_mape: 65260.6602 - val_loss: 0.5866 - val_the_rmse: 0.7659 - val_the_mape: 19585.1016\n",
      "Epoch 19/50\n",
      "1999/1999 [==============================] - 130s 65ms/step - loss: 0.5212 - the_rmse: 0.7219 - the_mape: 66310.4531 - val_loss: 0.5940 - val_the_rmse: 0.7707 - val_the_mape: 33921.3125\n"
     ]
    }
   ],
   "source": [
    "history = mod_ts.fit(\n",
    "    x_train,\n",
    "    y_train,\n",
    "    batch_size=128,\n",
    "    epochs=50,\n",
    "    # We pass some validation for\n",
    "    # monitoring validation loss and metrics\n",
    "    # at the end of each epoch\n",
    "    validation_data=(x_val, y_val),\n",
    "    callbacks=[early_stop,check_p]\n",
    ")"
   ]
  },
  {
   "cell_type": "code",
   "execution_count": null,
   "metadata": {},
   "outputs": [],
   "source": []
  },
  {
   "cell_type": "code",
   "execution_count": null,
   "metadata": {},
   "outputs": [],
   "source": []
  },
  {
   "cell_type": "markdown",
   "metadata": {},
   "source": [
    "## Eval"
   ]
  },
  {
   "cell_type": "code",
   "execution_count": 15,
   "metadata": {},
   "outputs": [
    {
     "data": {
      "text/plain": [
       "<AxesSubplot:>"
      ]
     },
     "execution_count": 15,
     "metadata": {},
     "output_type": "execute_result"
    },
    {
     "data": {
      "image/png": "[encoded data removed]",
      "text/plain": [
       "<Figure size 432x288 with 1 Axes>"
      ]
     },
     "metadata": {
      "needs_background": "light"
     },
     "output_type": "display_data"
    }
   ],
   "source": [
    "df_epoch_hist = pd.DataFrame(history.history)\n",
    "df_epoch_hist[['loss','val_loss']].plot()"
   ]
  },
  {
   "cell_type": "code",
   "execution_count": null,
   "metadata": {},
   "outputs": [],
   "source": []
  },
  {
   "cell_type": "code",
   "execution_count": 16,
   "metadata": {},
   "outputs": [],
   "source": [
    "# depd = {'auc_1' : metrics.AUC}\n",
    "model_load = load_model(PATH_MODEL + 'ws_data_model4_iter3.h5',compile=False)"
   ]
  },
  {
   "cell_type": "code",
   "execution_count": 17,
   "metadata": {},
   "outputs": [
    {
     "name": "stdout",
     "output_type": "stream",
     "text": [
      "Model: \"sequential\"\n",
      "_________________________________________________________________\n",
      " Layer (type)                Output Shape              Param #   \n",
      "=================================================================\n",
      " lstm (LSTM)                 (None, 10, 256)           264192    \n",
      "                                                                 \n",
      " lstm_1 (LSTM)               (None, 128)               197120    \n",
      "                                                                 \n",
      " dense (Dense)               (None, 64)                8256      \n",
      "                                                                 \n",
      " dense_1 (Dense)             (None, 16)                1040      \n",
      "                                                                 \n",
      " dense_2 (Dense)             (None, 8)                 136       \n",
      "                                                                 \n",
      " dense_3 (Dense)             (None, 1)                 9         \n",
      "                                                                 \n",
      "=================================================================\n",
      "Total params: 470,753\n",
      "Trainable params: 470,753\n",
      "Non-trainable params: 0\n",
      "_________________________________________________________________\n"
     ]
    }
   ],
   "source": [
    "model_load.summary()"
   ]
  },
  {
   "cell_type": "code",
   "execution_count": 18,
   "metadata": {},
   "outputs": [],
   "source": [
    "model_load.compile(loss='mean_squared_error', optimizer=opt, metrics=[\n",
    "        tf.keras.metrics.RootMeanSquaredError(name='the_rmse'),\n",
    "        tf.keras.metrics.MeanAbsolutePercentageError(name='the_mape'),\n",
    "    ])"
   ]
  },
  {
   "cell_type": "code",
   "execution_count": 19,
   "metadata": {},
   "outputs": [
    {
     "name": "stdout",
     "output_type": "stream",
     "text": [
      "3331/3331 [==============================] - 41s 12ms/step - loss: 0.5816 - the_rmse: 0.7626 - the_mape: 63793.1484\n"
     ]
    },
    {
     "data": {
      "text/plain": [
       "[0.5816060900688171, 0.7626310586929321, 63793.1484375]"
      ]
     },
     "execution_count": 19,
     "metadata": {},
     "output_type": "execute_result"
    }
   ],
   "source": [
    "model_load.evaluate(x_test,y_test)"
   ]
  },
  {
   "cell_type": "code",
   "execution_count": 20,
   "metadata": {},
   "outputs": [
    {
     "name": "stdout",
     "output_type": "stream",
     "text": [
      "521/521 [==============================] - 8s 14ms/step - loss: 0.4540 - the_rmse: 0.6738 - the_mape: 101871.7969\n"
     ]
    },
    {
     "data": {
      "text/plain": [
       "[0.4539969265460968, 0.6737929582595825, 101871.796875]"
      ]
     },
     "execution_count": 20,
     "metadata": {},
     "output_type": "execute_result"
    }
   ],
   "source": [
    "model_load.evaluate(Xo,yo)"
   ]
  },
  {
   "cell_type": "code",
   "execution_count": null,
   "metadata": {},
   "outputs": [],
   "source": []
  }
 ],
 "metadata": {
  "kernelspec": {
   "display_name": "Python 3 (ipykernel)",
   "language": "python",
   "name": "python3"
  },
  "language_info": {
   "codemirror_mode": {
    "name": "ipython",
    "version": 3
   },
   "file_extension": ".py",
   "mimetype": "text/x-python",
   "name": "python",
   "nbconvert_exporter": "python",
   "pygments_lexer": "ipython3",
   "version": "3.7.13"
  },
  "vscode": {
   "interpreter": {
    "hash": "6fde994876131bc9f65527873aa4b87e75053d151a689996c7611049218b8dee"
   }
  }
 },
 "nbformat": 4,
 "nbformat_minor": 4
}
