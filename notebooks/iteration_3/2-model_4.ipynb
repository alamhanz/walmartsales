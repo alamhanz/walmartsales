{
 "cells": [
  {
   "cell_type": "markdown",
   "metadata": {},
   "source": [
    "[20220924]\n",
    "\n",
    "# 2. Model 4\n",
    "\n",
    "After Preparation ready. Build and train the model in here. its using two layers LSTM. with data gen2"
   ]
  },
  {
   "cell_type": "markdown",
   "metadata": {},
   "source": [
    "## Goal\n",
    "Find patterns on the features for target\n",
    "\n",
    "## Plan\n",
    "Checklist what will be done on the notebook :\n",
    "\n",
    "        [ ] Get Data\n",
    "        [ ] Modelling\n",
    "        [ ] Evaluation"
   ]
  },
  {
   "cell_type": "code",
   "execution_count": 2,
   "metadata": {},
   "outputs": [],
   "source": [
    "import yaml\n",
    "import pandas as pd\n",
    "import matplotlib.pyplot as plt\n",
    "import os\n",
    "import joblib\n",
    "import sys\n",
    "sys.path.insert(1,'../../src/')\n"
   ]
  },
  {
   "cell_type": "code",
   "execution_count": 3,
   "metadata": {},
   "outputs": [],
   "source": [
    "from keras.models import Sequential\n",
    "from keras.layers import LSTM, Dropout, Flatten, Dense\n",
    "from keras.preprocessing.image import ImageDataGenerator\n",
    "from keras import metrics, optimizers\n",
    "import keras\n",
    "import tensorflow as tf\n",
    "from keras.models import load_model\n",
    "\n",
    "from sklearn.model_selection import train_test_split"
   ]
  },
  {
   "cell_type": "code",
   "execution_count": 4,
   "metadata": {},
   "outputs": [],
   "source": [
    "with open(\"../../config.yaml\", \"r\") as f:\n",
    "    config = yaml.load(f, Loader=yaml.FullLoader)\n",
    "\n",
    "PATH_RAW = config['path']['raw']\n",
    "PATH_INTERIM = config['path']['interim']\n",
    "PATH_PROCESSED = config['path']['processed']\n",
    "# PATH_MODEL = config['path']['artifact']+os.getcwd().split('\\\\')[-1]+'/'\n",
    "PATH_MODEL = config['path']['artifact']+'iteration_3'+'/'\n",
    "PATH_UDF = config['path']['udf']"
   ]
  },
  {
   "cell_type": "code",
   "execution_count": 5,
   "metadata": {},
   "outputs": [],
   "source": [
    "%matplotlib inline"
   ]
  },
  {
   "cell_type": "markdown",
   "metadata": {},
   "source": [
    "## Get Data"
   ]
  },
  {
   "cell_type": "code",
   "execution_count": 6,
   "metadata": {},
   "outputs": [],
   "source": [
    "Xt, yt, Xo, yo = joblib.load(PATH_INTERIM+'feat_target_gen2_iter3.pkl')\n",
    "Xt = Xt.astype(\"float32\")\n",
    "yt = yt.astype(\"float32\")\n",
    "\n",
    "Xo = Xo.astype(\"float32\")\n",
    "yo = yo.astype(\"float32\")"
   ]
  },
  {
   "cell_type": "code",
   "execution_count": 7,
   "metadata": {},
   "outputs": [
    {
     "data": {
      "text/plain": [
       "(403051, 10, 1)"
      ]
     },
     "execution_count": 7,
     "metadata": {},
     "output_type": "execute_result"
    }
   ],
   "source": [
    "Xt.shape"
   ]
  },
  {
   "cell_type": "code",
   "execution_count": 8,
   "metadata": {},
   "outputs": [
    {
     "data": {
      "text/plain": [
       "(403051, 1)"
      ]
     },
     "execution_count": 8,
     "metadata": {},
     "output_type": "execute_result"
    }
   ],
   "source": [
    "yt.shape"
   ]
  },
  {
   "cell_type": "code",
   "execution_count": 9,
   "metadata": {},
   "outputs": [],
   "source": [
    "SEQ = Xt.shape[1]"
   ]
  },
  {
   "cell_type": "code",
   "execution_count": 10,
   "metadata": {},
   "outputs": [],
   "source": [
    "## not the best way to split time series dataset\n",
    "x_tr, x_test, y_tr, y_test = train_test_split(\n",
    "    Xt, yt, test_size=0.25, random_state=42)\n",
    "\n",
    "x_train, x_val, y_train, y_val = train_test_split(\n",
    "    x_tr, y_tr, test_size=0.2, random_state=42)"
   ]
  },
  {
   "cell_type": "code",
   "execution_count": null,
   "metadata": {},
   "outputs": [],
   "source": []
  },
  {
   "cell_type": "markdown",
   "metadata": {
    "tags": []
   },
   "source": [
    "## Model"
   ]
  },
  {
   "cell_type": "code",
   "execution_count": 11,
   "metadata": {},
   "outputs": [],
   "source": [
    "# os.environ[\"CUDA_VISIBLE_DEVICES\"] "
   ]
  },
  {
   "cell_type": "code",
   "execution_count": 12,
   "metadata": {},
   "outputs": [
    {
     "name": "stdout",
     "output_type": "stream",
     "text": [
      "Num GPUs Available:  1\n"
     ]
    }
   ],
   "source": [
    "print(\"Num GPUs Available: \", len(tf.config.experimental.list_physical_devices('GPU')))"
   ]
  },
  {
   "cell_type": "code",
   "execution_count": 13,
   "metadata": {},
   "outputs": [],
   "source": [
    "mod_ts = Sequential()\n",
    "# mod_ts.add(LSTM(5, input_shape=(SEQ, 1)))\n",
    "mod_ts.add(LSTM(256, input_shape=(SEQ, 1), return_sequences=True))\n",
    "mod_ts.add(LSTM(128))\n",
    "mod_ts.add(Dense(64))\n",
    "mod_ts.add(Dense(16))\n",
    "mod_ts.add(Dense(8))\n",
    "mod_ts.add(Dense(1))\n"
   ]
  },
  {
   "cell_type": "code",
   "execution_count": 14,
   "metadata": {},
   "outputs": [
    {
     "name": "stdout",
     "output_type": "stream",
     "text": [
      "Model: \"sequential\"\n",
      "_________________________________________________________________\n",
      "Layer (type)                 Output Shape              Param #   \n",
      "=================================================================\n",
      "lstm (LSTM)                  (None, 10, 256)           264192    \n",
      "_________________________________________________________________\n",
      "lstm_1 (LSTM)                (None, 128)               197120    \n",
      "_________________________________________________________________\n",
      "dense (Dense)                (None, 64)                8256      \n",
      "_________________________________________________________________\n",
      "dense_1 (Dense)              (None, 16)                1040      \n",
      "_________________________________________________________________\n",
      "dense_2 (Dense)              (None, 8)                 136       \n",
      "_________________________________________________________________\n",
      "dense_3 (Dense)              (None, 1)                 9         \n",
      "=================================================================\n",
      "Total params: 470,753\n",
      "Trainable params: 470,753\n",
      "Non-trainable params: 0\n",
      "_________________________________________________________________\n"
     ]
    }
   ],
   "source": [
    "mod_ts.summary()"
   ]
  },
  {
   "cell_type": "code",
   "execution_count": 15,
   "metadata": {},
   "outputs": [],
   "source": [
    "early_stop = keras.callbacks.EarlyStopping(\n",
    "        monitor='val_loss',mode='min', patience=6) \n",
    "\n",
    "check_p = keras.callbacks.ModelCheckpoint(\n",
    "        filepath=PATH_MODEL+'ws_data_model4_iter3.h5',\n",
    "        monitor='val_loss',\n",
    "        mode='min',\n",
    "        save_best_only=True)\n",
    "\n",
    "\n",
    "# # initial_learning_rate * decay_rate ^ (step / decay_steps)\n",
    "# lr_schedule = tf.keras.optimizers.schedules.ExponentialDecay(\n",
    "#     0.0003,\n",
    "#     decay_steps=15,\n",
    "#     decay_rate=0.4,\n",
    "#     staircase=True)\n",
    "\n",
    "\n",
    "opt = tf.keras.optimizers.Adam(learning_rate=0.0002)\n",
    "\n",
    "mod_ts.compile(loss='mean_squared_error', optimizer=opt, metrics=[\n",
    "        tf.keras.metrics.RootMeanSquaredError(name='the_rmse'),\n",
    "        tf.keras.metrics.MeanAbsolutePercentageError(name='the_mape'),\n",
    "    ])"
   ]
  },
  {
   "cell_type": "code",
   "execution_count": 16,
   "metadata": {},
   "outputs": [
    {
     "name": "stdout",
     "output_type": "stream",
     "text": [
      "Epoch 1/50\n",
      "1890/1890 [==============================] - 26s 14ms/step - loss: 0.7012 - the_rmse: 0.8374 - the_mape: 110810.6484 - val_loss: 0.6899 - val_the_rmse: 0.8306 - val_the_mape: 66009.5391\n",
      "Epoch 2/50\n",
      "1890/1890 [==============================] - 25s 13ms/step - loss: 0.6454 - the_rmse: 0.8034 - the_mape: 87590.6484 - val_loss: 0.6428 - val_the_rmse: 0.8017 - val_the_mape: 96219.5312\n",
      "Epoch 3/50\n",
      "1890/1890 [==============================] - 25s 13ms/step - loss: 0.6221 - the_rmse: 0.7887 - the_mape: 77287.4453 - val_loss: 0.6317 - val_the_rmse: 0.7948 - val_the_mape: 57970.5742\n",
      "Epoch 4/50\n",
      "1890/1890 [==============================] - 25s 13ms/step - loss: 0.6116 - the_rmse: 0.7821 - the_mape: 63410.2773 - val_loss: 0.6221 - val_the_rmse: 0.7887 - val_the_mape: 62571.0977\n",
      "Epoch 5/50\n",
      "1890/1890 [==============================] - 25s 13ms/step - loss: 0.6033 - the_rmse: 0.7767 - the_mape: 64457.0820 - val_loss: 0.6180 - val_the_rmse: 0.7861 - val_the_mape: 67320.0078\n",
      "Epoch 6/50\n",
      "1890/1890 [==============================] - 24s 13ms/step - loss: 0.5973 - the_rmse: 0.7729 - the_mape: 54778.8867 - val_loss: 0.6162 - val_the_rmse: 0.7850 - val_the_mape: 188056.2812\n",
      "Epoch 7/50\n",
      "1890/1890 [==============================] - 25s 13ms/step - loss: 0.5924 - the_rmse: 0.7697 - the_mape: 63969.4570 - val_loss: 0.6117 - val_the_rmse: 0.7821 - val_the_mape: 66803.7422\n",
      "Epoch 8/50\n",
      "1890/1890 [==============================] - 25s 13ms/step - loss: 0.5890 - the_rmse: 0.7675 - the_mape: 67110.3203 - val_loss: 0.6115 - val_the_rmse: 0.7820 - val_the_mape: 43740.1406\n",
      "Epoch 9/50\n",
      "1890/1890 [==============================] - 25s 13ms/step - loss: 0.5860 - the_rmse: 0.7655 - the_mape: 56303.6562 - val_loss: 0.6037 - val_the_rmse: 0.7770 - val_the_mape: 38493.0820\n",
      "Epoch 10/50\n",
      "1890/1890 [==============================] - 25s 13ms/step - loss: 0.5830 - the_rmse: 0.7635 - the_mape: 54891.5430 - val_loss: 0.6026 - val_the_rmse: 0.7763 - val_the_mape: 72555.8672\n",
      "Epoch 11/50\n",
      "1890/1890 [==============================] - 25s 13ms/step - loss: 0.5799 - the_rmse: 0.7615 - the_mape: 56502.5234 - val_loss: 0.6025 - val_the_rmse: 0.7762 - val_the_mape: 46835.0039\n",
      "Epoch 12/50\n",
      "1890/1890 [==============================] - 25s 13ms/step - loss: 0.5771 - the_rmse: 0.7597 - the_mape: 63804.2930 - val_loss: 0.6023 - val_the_rmse: 0.7761 - val_the_mape: 71590.4531\n",
      "Epoch 13/50\n",
      "1890/1890 [==============================] - 25s 13ms/step - loss: 0.5748 - the_rmse: 0.7582 - the_mape: 59586.0547 - val_loss: 0.6005 - val_the_rmse: 0.7749 - val_the_mape: 57828.1758\n",
      "Epoch 14/50\n",
      "1890/1890 [==============================] - 24s 13ms/step - loss: 0.5719 - the_rmse: 0.7562 - the_mape: 58071.8359 - val_loss: 0.6014 - val_the_rmse: 0.7755 - val_the_mape: 109732.6172\n",
      "Epoch 15/50\n",
      "1890/1890 [==============================] - 25s 13ms/step - loss: 0.5694 - the_rmse: 0.7546 - the_mape: 64567.2812 - val_loss: 0.5981 - val_the_rmse: 0.7734 - val_the_mape: 74970.2109\n",
      "Epoch 16/50\n",
      "1890/1890 [==============================] - 25s 13ms/step - loss: 0.5674 - the_rmse: 0.7533 - the_mape: 63004.7383 - val_loss: 0.5970 - val_the_rmse: 0.7727 - val_the_mape: 106641.5312\n",
      "Epoch 17/50\n",
      "1890/1890 [==============================] - 25s 13ms/step - loss: 0.5641 - the_rmse: 0.7511 - the_mape: 58870.1250 - val_loss: 0.6004 - val_the_rmse: 0.7749 - val_the_mape: 108602.9375\n",
      "Epoch 18/50\n",
      "1890/1890 [==============================] - 24s 13ms/step - loss: 0.5613 - the_rmse: 0.7492 - the_mape: 60012.0469 - val_loss: 0.5988 - val_the_rmse: 0.7738 - val_the_mape: 45767.3789\n",
      "Epoch 19/50\n",
      "1890/1890 [==============================] - 24s 13ms/step - loss: 0.5582 - the_rmse: 0.7471 - the_mape: 62729.2891 - val_loss: 0.5996 - val_the_rmse: 0.7743 - val_the_mape: 59619.4180\n",
      "Epoch 20/50\n",
      "1890/1890 [==============================] - 25s 13ms/step - loss: 0.5547 - the_rmse: 0.7448 - the_mape: 66691.3828 - val_loss: 0.5987 - val_the_rmse: 0.7738 - val_the_mape: 75686.8750\n",
      "Epoch 21/50\n",
      "1890/1890 [==============================] - 27s 14ms/step - loss: 0.5520 - the_rmse: 0.7430 - the_mape: 73135.5859 - val_loss: 0.5985 - val_the_rmse: 0.7736 - val_the_mape: 59707.3047\n",
      "Epoch 22/50\n",
      "1890/1890 [==============================] - 27s 14ms/step - loss: 0.5489 - the_rmse: 0.7409 - the_mape: 63044.3438 - val_loss: 0.6006 - val_the_rmse: 0.7750 - val_the_mape: 45472.1289\n"
     ]
    }
   ],
   "source": [
    "history = mod_ts.fit(\n",
    "    x_train,\n",
    "    y_train,\n",
    "    batch_size=128,\n",
    "    epochs=50,\n",
    "    validation_data=(x_val, y_val),\n",
    "    callbacks=[early_stop,check_p]\n",
    ")"
   ]
  },
  {
   "cell_type": "code",
   "execution_count": null,
   "metadata": {},
   "outputs": [],
   "source": []
  },
  {
   "cell_type": "code",
   "execution_count": null,
   "metadata": {},
   "outputs": [],
   "source": []
  },
  {
   "cell_type": "markdown",
   "metadata": {},
   "source": [
    "## Eval"
   ]
  },
  {
   "cell_type": "code",
   "execution_count": 17,
   "metadata": {},
   "outputs": [
    {
     "data": {
      "text/plain": [
       "<AxesSubplot:>"
      ]
     },
     "execution_count": 17,
     "metadata": {},
     "output_type": "execute_result"
    },
    {
     "data": {
      "image/png": "[encoded data removed]",
      "text/plain": [
       "<Figure size 432x288 with 1 Axes>"
      ]
     },
     "metadata": {
      "needs_background": "light"
     },
     "output_type": "display_data"
    }
   ],
   "source": [
    "df_epoch_hist = pd.DataFrame(history.history)\n",
    "df_epoch_hist[['loss','val_loss']].plot()"
   ]
  },
  {
   "cell_type": "code",
   "execution_count": null,
   "metadata": {},
   "outputs": [],
   "source": []
  },
  {
   "cell_type": "code",
   "execution_count": 18,
   "metadata": {},
   "outputs": [],
   "source": [
    "# depd = {'auc_1' : metrics.AUC}\n",
    "model_load = load_model(PATH_MODEL + 'ws_data_model4_iter3.h5',compile=False)"
   ]
  },
  {
   "cell_type": "code",
   "execution_count": 19,
   "metadata": {},
   "outputs": [
    {
     "name": "stdout",
     "output_type": "stream",
     "text": [
      "Model: \"sequential\"\n",
      "_________________________________________________________________\n",
      "Layer (type)                 Output Shape              Param #   \n",
      "=================================================================\n",
      "lstm (LSTM)                  (None, 10, 256)           264192    \n",
      "_________________________________________________________________\n",
      "lstm_1 (LSTM)                (None, 128)               197120    \n",
      "_________________________________________________________________\n",
      "dense (Dense)                (None, 64)                8256      \n",
      "_________________________________________________________________\n",
      "dense_1 (Dense)              (None, 16)                1040      \n",
      "_________________________________________________________________\n",
      "dense_2 (Dense)              (None, 8)                 136       \n",
      "_________________________________________________________________\n",
      "dense_3 (Dense)              (None, 1)                 9         \n",
      "=================================================================\n",
      "Total params: 470,753\n",
      "Trainable params: 470,753\n",
      "Non-trainable params: 0\n",
      "_________________________________________________________________\n"
     ]
    }
   ],
   "source": [
    "model_load.summary()"
   ]
  },
  {
   "cell_type": "code",
   "execution_count": 20,
   "metadata": {},
   "outputs": [],
   "source": [
    "model_load.compile(loss='mean_squared_error', optimizer=opt, metrics=[\n",
    "        tf.keras.metrics.RootMeanSquaredError(name='the_rmse'),\n",
    "        tf.keras.metrics.MeanAbsolutePercentageError(name='the_mape'),\n",
    "    ])"
   ]
  },
  {
   "cell_type": "code",
   "execution_count": 21,
   "metadata": {},
   "outputs": [
    {
     "name": "stdout",
     "output_type": "stream",
     "text": [
      "3149/3149 [==============================] - 18s 6ms/step - loss: 0.5777 - the_rmse: 0.7601 - the_mape: 110668.3125\n"
     ]
    },
    {
     "data": {
      "text/plain": [
       "[0.5777102112770081, 0.7600725293159485, 110668.3125]"
      ]
     },
     "execution_count": 21,
     "metadata": {},
     "output_type": "execute_result"
    }
   ],
   "source": [
    "model_load.evaluate(x_test,y_test)"
   ]
  },
  {
   "cell_type": "code",
   "execution_count": 22,
   "metadata": {},
   "outputs": [
    {
     "name": "stdout",
     "output_type": "stream",
     "text": [
      "1250/1250 [==============================] - 8s 7ms/step - loss: 0.4532 - the_rmse: 0.6732 - the_mape: 130984.5312\n"
     ]
    },
    {
     "data": {
      "text/plain": [
       "[0.4531659483909607, 0.6731759905815125, 130984.53125]"
      ]
     },
     "execution_count": 22,
     "metadata": {},
     "output_type": "execute_result"
    }
   ],
   "source": [
    "model_load.evaluate(Xo,yo)"
   ]
  },
  {
   "cell_type": "code",
   "execution_count": null,
   "metadata": {},
   "outputs": [],
   "source": []
  }
 ],
 "metadata": {
  "kernelspec": {
   "display_name": "Python 3.7.10 ('droid1')",
   "language": "python",
   "name": "python3"
  },
  "language_info": {
   "codemirror_mode": {
    "name": "ipython",
    "version": 3
   },
   "file_extension": ".py",
   "mimetype": "text/x-python",
   "name": "python",
   "nbconvert_exporter": "python",
   "pygments_lexer": "ipython3",
   "version": "3.7.10"
  },
  "vscode": {
   "interpreter": {
    "hash": "cfaee8345a7381c4d4eb2d178d3529454f9688cb724b599027e029325603d2a6"
   }
  }
 },
 "nbformat": 4,
 "nbformat_minor": 4
}
