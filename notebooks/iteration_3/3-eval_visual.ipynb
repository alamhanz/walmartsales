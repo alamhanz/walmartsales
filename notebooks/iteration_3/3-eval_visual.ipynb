{
 "cells": [
  {
   "cell_type": "markdown",
   "metadata": {},
   "source": [
    "[20220918]\n",
    "\n",
    "# 3. Eval Visual\n",
    "\n",
    "prepare data for LSTM"
   ]
  },
  {
   "cell_type": "markdown",
   "metadata": {},
   "source": [
    "## Goal\n",
    "To check a summary of the data.\n",
    "\n",
    "## Plan\n",
    "Checklist what will be done on the notebook :\n",
    "\n",
    "        [ ] get the data\n",
    "        [ ] generate input ready dataset"
   ]
  },
  {
   "cell_type": "code",
   "execution_count": 1,
   "metadata": {},
   "outputs": [],
   "source": [
    "# !pip install flake8 pycodestyle_magic"
   ]
  },
  {
   "cell_type": "code",
   "execution_count": 2,
   "metadata": {},
   "outputs": [],
   "source": [
    "import yaml\n",
    "import pandas as pd\n",
    "import matplotlib.pyplot as plt\n",
    "import os\n",
    "import sys\n",
    "import numpy as np\n",
    "sys.path.insert(1,'../../src/')\n",
    "\n",
    "## import myfunc inside src folder\n",
    "import ramal\n",
    "import joblib"
   ]
  },
  {
   "cell_type": "code",
   "execution_count": 3,
   "metadata": {},
   "outputs": [],
   "source": [
    "with open(\"../../config.yaml\", \"r\") as f:\n",
    "    config = yaml.load(f, Loader=yaml.FullLoader)\n",
    "\n",
    "full_path = globals()['_dh'][0]\n",
    "folder_name = full_path.split('/')[-1]\n",
    "\n",
    "PATH_RAW = config['path']['raw_wm']\n",
    "PATH_INTERIM = config['path']['interim']\n",
    "PATH_PROCESSED = config['path']['processed']\n",
    "PATH_MODEL = config['path']['artifact']+folder_name+'/'\n",
    "PATH_UDF = config['path']['udf']"
   ]
  },
  {
   "cell_type": "code",
   "execution_count": 4,
   "metadata": {},
   "outputs": [
    {
     "name": "stderr",
     "output_type": "stream",
     "text": [
      "2022-09-29 15:28:33.729564: W tensorflow/stream_executor/platform/default/dso_loader.cc:64] Could not load dynamic library 'libcudart.so.11.0'; dlerror: libcudart.so.11.0: cannot open shared object file: No such file or directory\n",
      "2022-09-29 15:28:33.729657: I tensorflow/stream_executor/cuda/cudart_stub.cc:29] Ignore above cudart dlerror if you do not have a GPU set up on your machine.\n",
      "/usr/local/lib/python3.7/site-packages/requests/__init__.py:104: RequestsDependencyWarning: urllib3 (1.26.11) or chardet (5.0.0)/charset_normalizer (2.0.12) doesn't match a supported version!\n",
      "  RequestsDependencyWarning)\n"
     ]
    }
   ],
   "source": [
    "from keras.models import load_model\n",
    "import tensorflow as tf"
   ]
  },
  {
   "cell_type": "code",
   "execution_count": 5,
   "metadata": {},
   "outputs": [],
   "source": [
    "%load_ext pycodestyle_magic"
   ]
  },
  {
   "cell_type": "code",
   "execution_count": null,
   "metadata": {},
   "outputs": [],
   "source": []
  },
  {
   "cell_type": "markdown",
   "metadata": {},
   "source": [
    "## Get Data"
   ]
  },
  {
   "cell_type": "code",
   "execution_count": 6,
   "metadata": {},
   "outputs": [
    {
     "data": {
      "text/html": [
       "<div>\n",
       "<style scoped>\n",
       "    .dataframe tbody tr th:only-of-type {\n",
       "        vertical-align: middle;\n",
       "    }\n",
       "\n",
       "    .dataframe tbody tr th {\n",
       "        vertical-align: top;\n",
       "    }\n",
       "\n",
       "    .dataframe thead th {\n",
       "        text-align: right;\n",
       "    }\n",
       "</style>\n",
       "<table border=\"1\" class=\"dataframe\">\n",
       "  <thead>\n",
       "    <tr style=\"text-align: right;\">\n",
       "      <th></th>\n",
       "      <th>ids</th>\n",
       "      <th>Date</th>\n",
       "      <th>sales</th>\n",
       "      <th>Store</th>\n",
       "      <th>Temperature</th>\n",
       "      <th>IsHoliday</th>\n",
       "      <th>Fuel_Price</th>\n",
       "      <th>sales_ss</th>\n",
       "      <th>is_holiday</th>\n",
       "    </tr>\n",
       "  </thead>\n",
       "  <tbody>\n",
       "    <tr>\n",
       "      <th>333425</th>\n",
       "      <td>39:21</td>\n",
       "      <td>2011-11-11</td>\n",
       "      <td>7457.52</td>\n",
       "      <td>39</td>\n",
       "      <td>63.11</td>\n",
       "      <td>False</td>\n",
       "      <td>3.297</td>\n",
       "      <td>0.158432</td>\n",
       "      <td>0</td>\n",
       "    </tr>\n",
       "    <tr>\n",
       "      <th>325285</th>\n",
       "      <td>38:28</td>\n",
       "      <td>2012-01-27</td>\n",
       "      <td>72.02</td>\n",
       "      <td>38</td>\n",
       "      <td>50.43</td>\n",
       "      <td>False</td>\n",
       "      <td>3.675</td>\n",
       "      <td>-0.456924</td>\n",
       "      <td>0</td>\n",
       "    </tr>\n",
       "    <tr>\n",
       "      <th>305485</th>\n",
       "      <td>36:14</td>\n",
       "      <td>2010-10-22</td>\n",
       "      <td>1853.49</td>\n",
       "      <td>36</td>\n",
       "      <td>72.24</td>\n",
       "      <td>False</td>\n",
       "      <td>2.698</td>\n",
       "      <td>0.063855</td>\n",
       "      <td>0</td>\n",
       "    </tr>\n",
       "    <tr>\n",
       "      <th>301789</th>\n",
       "      <td>35:74</td>\n",
       "      <td>2011-03-25</td>\n",
       "      <td>17962.63</td>\n",
       "      <td>35</td>\n",
       "      <td>40.11</td>\n",
       "      <td>False</td>\n",
       "      <td>3.625</td>\n",
       "      <td>-0.944787</td>\n",
       "      <td>0</td>\n",
       "    </tr>\n",
       "    <tr>\n",
       "      <th>99022</th>\n",
       "      <td>18:97</td>\n",
       "      <td>2011-05-13</td>\n",
       "      <td>3168.50</td>\n",
       "      <td>18</td>\n",
       "      <td>58.48</td>\n",
       "      <td>False</td>\n",
       "      <td>4.095</td>\n",
       "      <td>-0.862743</td>\n",
       "      <td>0</td>\n",
       "    </tr>\n",
       "    <tr>\n",
       "      <th>140544</th>\n",
       "      <td>21:71</td>\n",
       "      <td>2012-05-11</td>\n",
       "      <td>3934.03</td>\n",
       "      <td>21</td>\n",
       "      <td>74.14</td>\n",
       "      <td>False</td>\n",
       "      <td>3.688</td>\n",
       "      <td>-1.200882</td>\n",
       "      <td>0</td>\n",
       "    </tr>\n",
       "    <tr>\n",
       "      <th>381759</th>\n",
       "      <td>42:83</td>\n",
       "      <td>2011-11-11</td>\n",
       "      <td>3848.23</td>\n",
       "      <td>42</td>\n",
       "      <td>55.28</td>\n",
       "      <td>False</td>\n",
       "      <td>3.677</td>\n",
       "      <td>0.165962</td>\n",
       "      <td>0</td>\n",
       "    </tr>\n",
       "    <tr>\n",
       "      <th>205782</th>\n",
       "      <td>27:6</td>\n",
       "      <td>2010-03-12</td>\n",
       "      <td>7257.69</td>\n",
       "      <td>27</td>\n",
       "      <td>45.98</td>\n",
       "      <td>False</td>\n",
       "      <td>2.938</td>\n",
       "      <td>-0.114223</td>\n",
       "      <td>0</td>\n",
       "    </tr>\n",
       "  </tbody>\n",
       "</table>\n",
       "</div>"
      ],
      "text/plain": [
       "          ids        Date     sales  Store  Temperature  IsHoliday  \\\n",
       "333425  39:21  2011-11-11   7457.52     39        63.11      False   \n",
       "325285  38:28  2012-01-27     72.02     38        50.43      False   \n",
       "305485  36:14  2010-10-22   1853.49     36        72.24      False   \n",
       "301789  35:74  2011-03-25  17962.63     35        40.11      False   \n",
       "99022   18:97  2011-05-13   3168.50     18        58.48      False   \n",
       "140544  21:71  2012-05-11   3934.03     21        74.14      False   \n",
       "381759  42:83  2011-11-11   3848.23     42        55.28      False   \n",
       "205782   27:6  2010-03-12   7257.69     27        45.98      False   \n",
       "\n",
       "        Fuel_Price  sales_ss  is_holiday  \n",
       "333425       3.297  0.158432           0  \n",
       "325285       3.675 -0.456924           0  \n",
       "305485       2.698  0.063855           0  \n",
       "301789       3.625 -0.944787           0  \n",
       "99022        4.095 -0.862743           0  \n",
       "140544       3.688 -1.200882           0  \n",
       "381759       3.677  0.165962           0  \n",
       "205782       2.938 -0.114223           0  "
      ]
     },
     "execution_count": 6,
     "metadata": {},
     "output_type": "execute_result"
    }
   ],
   "source": [
    "# %%flake8\n",
    "df_all = pd.read_csv(PATH_INTERIM+'data_focus_iter3.csv')\n",
    "df_all['is_holiday'] = df_all.IsHoliday.astype(int)\n",
    "df_all.sample(8)"
   ]
  },
  {
   "cell_type": "code",
   "execution_count": null,
   "metadata": {},
   "outputs": [],
   "source": []
  },
  {
   "cell_type": "code",
   "execution_count": 7,
   "metadata": {},
   "outputs": [],
   "source": [
    "# %%flake8\n",
    "def ts_lookback_features(df, window_back, target_cols=None, oot_data=None, df_return=False,\n",
    "                         time_col='Date', feature_cols=['sales_ss']):\n",
    "\n",
    "    if target_cols is None:\n",
    "        target_cols = feature_cols\n",
    "\n",
    "    # print(target_cols)\n",
    "    df = df.sort_values(time_col).reset_index(drop=True)\n",
    "    df['Xprev'] = df.apply(lambda x: df[feature_cols][\n",
    "                    max(-1, x.name-(window_back)):int(x.name)].values, axis=1)\n",
    "    df_temp = df[window_back:]\n",
    "    df_temp['Xprev'] = df_temp['Xprev'].apply(lambda x: x.reshape(1,\n",
    "                                              window_back, len(feature_cols)))\n",
    "\n",
    "    X_temp = np.vstack(df_temp['Xprev'].values)\n",
    "    y_temp = df_temp[target_cols].values.reshape((len(df_temp),\n",
    "                                                  len(target_cols)))\n",
    "    if oot_data is None:\n",
    "        X_tr = X_temp[:]\n",
    "        y_tr = y_temp[:]\n",
    "        X_oot = []\n",
    "        y_oot = []\n",
    "    else:\n",
    "        X_tr = X_temp[:-oot_data]\n",
    "        y_tr = y_temp[:-oot_data]\n",
    "        X_oot = X_temp[-oot_data:]\n",
    "        y_oot = y_temp[-oot_data:]\n",
    "\n",
    "    if df_return:\n",
    "        return df_temp, X_tr, y_tr, X_oot, y_oot\n",
    "    else:\n",
    "        return X_tr, y_tr, X_oot, y_oot"
   ]
  },
  {
   "cell_type": "code",
   "execution_count": null,
   "metadata": {},
   "outputs": [],
   "source": []
  },
  {
   "cell_type": "markdown",
   "metadata": {},
   "source": [
    "## Get Model"
   ]
  },
  {
   "cell_type": "code",
   "execution_count": 17,
   "metadata": {},
   "outputs": [],
   "source": [
    "opt = tf.keras.optimizers.Adam(learning_rate=0.0003)\n",
    "model1 = load_model(PATH_MODEL + 'ws_data_model1_iter3.h5',compile=False)\n",
    "model1.compile(loss='mean_squared_error', optimizer=opt, metrics=[\n",
    "        tf.keras.metrics.RootMeanSquaredError(name='the_rmse'),\n",
    "        tf.keras.metrics.MeanAbsolutePercentageError(name='the_mape'),\n",
    "    ])"
   ]
  },
  {
   "cell_type": "code",
   "execution_count": 18,
   "metadata": {},
   "outputs": [],
   "source": [
    "model2 = load_model(PATH_MODEL + 'ws_data_model2_iter3.h5',compile=False)\n",
    "model2.compile(loss='mean_squared_error', optimizer=opt, metrics=[\n",
    "        tf.keras.metrics.RootMeanSquaredError(name='the_rmse'),\n",
    "        tf.keras.metrics.MeanAbsolutePercentageError(name='the_mape'),\n",
    "    ])"
   ]
  },
  {
   "cell_type": "code",
   "execution_count": 19,
   "metadata": {},
   "outputs": [],
   "source": [
    "model3 = load_model(PATH_MODEL + 'ws_data_model3_iter3.h5',compile=False)\n",
    "model3.compile(loss='mean_squared_error', optimizer=opt, metrics=[\n",
    "        tf.keras.metrics.RootMeanSquaredError(name='the_rmse'),\n",
    "        tf.keras.metrics.MeanAbsolutePercentageError(name='the_mape'),\n",
    "    ])"
   ]
  },
  {
   "cell_type": "code",
   "execution_count": 20,
   "metadata": {},
   "outputs": [],
   "source": [
    "model4 = load_model(PATH_MODEL + 'ws_data_model6_iter3.h5',compile=False)\n",
    "model4.compile(loss='mean_squared_error', optimizer=opt, metrics=[\n",
    "        tf.keras.metrics.RootMeanSquaredError(name='the_rmse'),\n",
    "        tf.keras.metrics.MeanAbsolutePercentageError(name='the_mape'),\n",
    "    ])"
   ]
  },
  {
   "cell_type": "code",
   "execution_count": 21,
   "metadata": {},
   "outputs": [],
   "source": [
    "model5 = load_model(PATH_MODEL + 'ws_data_model7_iter3.h5',compile=False)\n",
    "model5.compile(loss='mean_squared_error', optimizer=opt, metrics=[\n",
    "        tf.keras.metrics.RootMeanSquaredError(name='the_rmse'),\n",
    "        tf.keras.metrics.MeanAbsolutePercentageError(name='the_mape'),\n",
    "    ])"
   ]
  },
  {
   "cell_type": "code",
   "execution_count": null,
   "metadata": {},
   "outputs": [],
   "source": []
  },
  {
   "cell_type": "markdown",
   "metadata": {},
   "source": [
    "## Get Predict and Visual"
   ]
  },
  {
   "cell_type": "code",
   "execution_count": 40,
   "metadata": {},
   "outputs": [
    {
     "data": {
      "text/plain": [
       "36201     13:31\n",
       "278982    33:52\n",
       "63676     15:78\n",
       "199286    27:13\n",
       "68995     16:26\n",
       "Name: ids, dtype: object"
      ]
     },
     "execution_count": 40,
     "metadata": {},
     "output_type": "execute_result"
    }
   ],
   "source": [
    "df_all.sample(5)['ids']"
   ]
  },
  {
   "cell_type": "code",
   "execution_count": 41,
   "metadata": {},
   "outputs": [
    {
     "name": "stderr",
     "output_type": "stream",
     "text": [
      "/usr/local/lib/python3.7/site-packages/ipykernel_launcher.py:13: SettingWithCopyWarning: \n",
      "A value is trying to be set on a copy of a slice from a DataFrame.\n",
      "Try using .loc[row_indexer,col_indexer] = value instead\n",
      "\n",
      "See the caveats in the documentation: https://pandas.pydata.org/pandas-docs/stable/user_guide/indexing.html#returning-a-view-versus-a-copy\n",
      "  del sys.path[0]\n"
     ]
    }
   ],
   "source": [
    "p_id = '15:56'\n",
    "col_use = ['Date','sales','sales_ss']\n",
    "df_p = df_all[df_all.ids == p_id]\n",
    "\n",
    "df_p1,x1,y1,_,_ = ts_lookback_features(df_p, 5, df_return=True) # gen1\n",
    "df_p2,x2,y2,_,_ = ts_lookback_features(df_p, 10, df_return=True) # gen2\n",
    "df_p3,x3,y3,_,_ = ts_lookback_features(df_p, 15, df_return=True) # gen3\n",
    "df_p4,x4,y4,_,_ = ts_lookback_features(df_p, 15, feature_cols=['sales_ss','Temperature'], \n",
    "                                       target_cols = ['sales_ss'], df_return=True) # gen4\n",
    "df_p5,x5,y5,_,_ = ts_lookback_features(df_p, 15, feature_cols=['sales_ss','Temperature','is_holiday'], \n",
    "                                          target_cols = ['sales_ss'], df_return=True) # gen5"
   ]
  },
  {
   "cell_type": "code",
   "execution_count": 42,
   "metadata": {},
   "outputs": [],
   "source": [
    "y_pred = model1.predict(x1)\n",
    "df_p1['sales_ss_pred1'] = y_pred\n",
    "y_pred = model2.predict(x2)\n",
    "df_p2['sales_ss_pred2'] = y_pred\n",
    "y_pred = model3.predict(x3)\n",
    "df_p3['sales_ss_pred3'] = y_pred\n",
    "y_pred = model4.predict(x4)\n",
    "df_p4['sales_ss_pred4'] = y_pred\n",
    "y_pred = model5.predict(x5)\n",
    "df_p5['sales_ss_pred5'] = y_pred"
   ]
  },
  {
   "cell_type": "code",
   "execution_count": 43,
   "metadata": {},
   "outputs": [],
   "source": [
    "df_p1['sales_ss_pred2'] = df_p2['sales_ss_pred2']\n",
    "df_p1['sales_ss_pred3'] = df_p3['sales_ss_pred3']\n",
    "df_p1['sales_ss_pred4'] = df_p4['sales_ss_pred4']\n",
    "df_p1['sales_ss_pred5'] = df_p5['sales_ss_pred5']"
   ]
  },
  {
   "cell_type": "code",
   "execution_count": 44,
   "metadata": {},
   "outputs": [
    {
     "data": {
      "text/plain": [
       "<AxesSubplot:>"
      ]
     },
     "execution_count": 44,
     "metadata": {},
     "output_type": "execute_result"
    },
    {
     "data": {
      "image/png": "[encoded data removed]",
      "text/plain": [
       "<Figure size 864x576 with 1 Axes>"
      ]
     },
     "metadata": {
      "needs_background": "light"
     },
     "output_type": "display_data"
    }
   ],
   "source": [
    "df_p1[['sales_ss',\n",
    "       'sales_ss_pred1',\n",
    "       # 'sales_ss_pred2',\n",
    "       # 'sales_ss_pred3',\n",
    "       # 'sales_ss_pred4',\n",
    "       'sales_ss_pred5'\n",
    "      ]][-50:].plot(figsize=(12,8)\n",
    "                                                     )"
   ]
  },
  {
   "cell_type": "code",
   "execution_count": null,
   "metadata": {},
   "outputs": [],
   "source": []
  }
 ],
 "metadata": {
  "kernelspec": {
   "display_name": "Python 3 (ipykernel)",
   "language": "python",
   "name": "python3"
  },
  "language_info": {
   "codemirror_mode": {
    "name": "ipython",
    "version": 3
   },
   "file_extension": ".py",
   "mimetype": "text/x-python",
   "name": "python",
   "nbconvert_exporter": "python",
   "pygments_lexer": "ipython3",
   "version": "3.7.13"
  },
  "vscode": {
   "interpreter": {
    "hash": "6fde994876131bc9f65527873aa4b87e75053d151a689996c7611049218b8dee"
   }
  }
 },
 "nbformat": 4,
 "nbformat_minor": 4
}
