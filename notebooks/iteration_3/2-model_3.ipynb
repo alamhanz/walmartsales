{
 "cells": [
  {
   "cell_type": "markdown",
   "metadata": {},
   "source": [
    "[20220924]\n",
    "\n",
    "# 2. Model 3\n",
    "\n",
    "After Preparation ready. Build and train the model in here. its using two layers LSTM. with data gen3"
   ]
  },
  {
   "cell_type": "markdown",
   "metadata": {},
   "source": [
    "## Goal\n",
    "Find patterns on the features for target\n",
    "\n",
    "## Plan\n",
    "Checklist what will be done on the notebook :\n",
    "\n",
    "        [ ] Get Data\n",
    "        [ ] Modelling\n",
    "        [ ] Evaluation"
   ]
  },
  {
   "cell_type": "code",
   "execution_count": 1,
   "metadata": {},
   "outputs": [],
   "source": [
    "import yaml\n",
    "import pandas as pd\n",
    "import matplotlib.pyplot as plt\n",
    "import os\n",
    "import joblib\n",
    "from statsmodels.tsa.arima.model import ARIMA\n",
    "import sys\n",
    "sys.path.insert(1,'../../src/')\n"
   ]
  },
  {
   "cell_type": "code",
   "execution_count": 2,
   "metadata": {},
   "outputs": [],
   "source": [
    "from keras.models import Sequential\n",
    "from keras.layers import LSTM, Dropout, Flatten, Dense\n",
    "from keras.preprocessing.image import ImageDataGenerator\n",
    "from keras import metrics, optimizers\n",
    "import keras\n",
    "import tensorflow as tf\n",
    "from keras.models import load_model\n",
    "\n",
    "from sklearn.model_selection import train_test_split"
   ]
  },
  {
   "cell_type": "code",
   "execution_count": 3,
   "metadata": {},
   "outputs": [],
   "source": [
    "with open(\"../../config.yaml\", \"r\") as f:\n",
    "    config = yaml.load(f, Loader=yaml.FullLoader)\n",
    "\n",
    "PATH_RAW = config['path']['raw']\n",
    "PATH_INTERIM = config['path']['interim']\n",
    "PATH_PROCESSED = config['path']['processed']\n",
    "# PATH_MODEL = config['path']['artifact']+os.getcwd().split('\\\\')[-1]+'/'\n",
    "PATH_MODEL = config['path']['artifact']+'iteration_3'+'/'\n",
    "PATH_UDF = config['path']['udf']"
   ]
  },
  {
   "cell_type": "code",
   "execution_count": 7,
   "metadata": {},
   "outputs": [],
   "source": [
    "%matplotlib inline"
   ]
  },
  {
   "cell_type": "markdown",
   "metadata": {},
   "source": [
    "## Get Data"
   ]
  },
  {
   "cell_type": "code",
   "execution_count": 8,
   "metadata": {},
   "outputs": [],
   "source": [
    "Xt, yt, Xo, yo = joblib.load(PATH_INTERIM+'feat_target_gen3_iter3.pkl')\n",
    "Xt = Xt.astype(\"float32\")\n",
    "yt = yt.astype(\"float32\")\n",
    "\n",
    "Xo = Xo.astype(\"float32\")\n",
    "yo = yo.astype(\"float32\")"
   ]
  },
  {
   "cell_type": "code",
   "execution_count": 9,
   "metadata": {},
   "outputs": [
    {
     "data": {
      "text/plain": [
       "(386396, 15, 1)"
      ]
     },
     "execution_count": 9,
     "metadata": {},
     "output_type": "execute_result"
    }
   ],
   "source": [
    "Xt.shape"
   ]
  },
  {
   "cell_type": "code",
   "execution_count": 10,
   "metadata": {},
   "outputs": [
    {
     "data": {
      "text/plain": [
       "(386396, 1)"
      ]
     },
     "execution_count": 10,
     "metadata": {},
     "output_type": "execute_result"
    }
   ],
   "source": [
    "yt.shape"
   ]
  },
  {
   "cell_type": "code",
   "execution_count": 11,
   "metadata": {},
   "outputs": [],
   "source": [
    "SEQ = Xt.shape[1]"
   ]
  },
  {
   "cell_type": "code",
   "execution_count": 12,
   "metadata": {},
   "outputs": [],
   "source": [
    "## not the best way to split time series dataset\n",
    "x_tr, x_test, y_tr, y_test = train_test_split(\n",
    "    Xt, yt, test_size=0.25, random_state=42)\n",
    "\n",
    "x_train, x_val, y_train, y_val = train_test_split(\n",
    "    x_tr, y_tr, test_size=0.2, random_state=42)"
   ]
  },
  {
   "cell_type": "code",
   "execution_count": null,
   "metadata": {},
   "outputs": [],
   "source": []
  },
  {
   "cell_type": "markdown",
   "metadata": {
    "tags": []
   },
   "source": [
    "## Model"
   ]
  },
  {
   "cell_type": "code",
   "execution_count": 13,
   "metadata": {},
   "outputs": [],
   "source": [
    "# os.environ[\"CUDA_VISIBLE_DEVICES\"] "
   ]
  },
  {
   "cell_type": "code",
   "execution_count": 14,
   "metadata": {},
   "outputs": [
    {
     "name": "stdout",
     "output_type": "stream",
     "text": [
      "Num GPUs Available:  1\n"
     ]
    }
   ],
   "source": [
    "print(\"Num GPUs Available: \", len(tf.config.experimental.list_physical_devices('GPU')))"
   ]
  },
  {
   "cell_type": "code",
   "execution_count": 15,
   "metadata": {},
   "outputs": [],
   "source": [
    "mod_ts = Sequential()\n",
    "# mod_ts.add(LSTM(5, input_shape=(SEQ, 1)))\n",
    "mod_ts.add(LSTM(128, input_shape=(SEQ, 1), return_sequences=True))\n",
    "mod_ts.add(LSTM(64))\n",
    "# mod_ts.add(LSTM(8))\n",
    "mod_ts.add(Dense(32))\n",
    "mod_ts.add(Dense(16))\n",
    "mod_ts.add(Dense(1))\n"
   ]
  },
  {
   "cell_type": "code",
   "execution_count": 16,
   "metadata": {},
   "outputs": [],
   "source": [
    "early_stop = keras.callbacks.EarlyStopping(\n",
    "        monitor='val_loss',mode='min', patience=6) \n",
    "\n",
    "check_p = keras.callbacks.ModelCheckpoint(\n",
    "        filepath=PATH_MODEL+'ws_data_model3_iter3.h5',\n",
    "        monitor='val_loss',\n",
    "        mode='min',\n",
    "        save_best_only=True)\n",
    "\n",
    "opt = tf.keras.optimizers.Adam(learning_rate=0.0003)\n",
    "\n",
    "mod_ts.compile(loss='mean_squared_error', optimizer=opt, metrics=[\n",
    "        tf.keras.metrics.RootMeanSquaredError(name='the_rmse'),\n",
    "        tf.keras.metrics.MeanAbsolutePercentageError(name='the_mape'),\n",
    "    ])"
   ]
  },
  {
   "cell_type": "code",
   "execution_count": null,
   "metadata": {},
   "outputs": [],
   "source": []
  },
  {
   "cell_type": "code",
   "execution_count": 17,
   "metadata": {},
   "outputs": [
    {
     "name": "stdout",
     "output_type": "stream",
     "text": [
      "Epoch 1/50\n",
      "1812/1812 [==============================] - 23s 13ms/step - loss: 0.7028 - the_rmse: 0.8383 - the_mape: 111476.1250 - val_loss: 0.6676 - val_the_rmse: 0.8171 - val_the_mape: 101589.8906\n",
      "Epoch 2/50\n",
      "1812/1812 [==============================] - 23s 13ms/step - loss: 0.6503 - the_rmse: 0.8064 - the_mape: 93808.6172 - val_loss: 0.6344 - val_the_rmse: 0.7965 - val_the_mape: 108640.4219\n",
      "Epoch 3/50\n",
      "1812/1812 [==============================] - 25s 14ms/step - loss: 0.6279 - the_rmse: 0.7924 - the_mape: 81841.0078 - val_loss: 0.6222 - val_the_rmse: 0.7888 - val_the_mape: 62114.9805\n",
      "Epoch 4/50\n",
      "1812/1812 [==============================] - 24s 13ms/step - loss: 0.6129 - the_rmse: 0.7829 - the_mape: 78994.8594 - val_loss: 0.6082 - val_the_rmse: 0.7799 - val_the_mape: 49377.6289\n",
      "Epoch 5/50\n",
      "1812/1812 [==============================] - 24s 13ms/step - loss: 0.6015 - the_rmse: 0.7755 - the_mape: 68857.8750 - val_loss: 0.5967 - val_the_rmse: 0.7725 - val_the_mape: 51389.8047\n",
      "Epoch 6/50\n",
      "1812/1812 [==============================] - 24s 13ms/step - loss: 0.5937 - the_rmse: 0.7705 - the_mape: 70070.4062 - val_loss: 0.5893 - val_the_rmse: 0.7677 - val_the_mape: 34771.2461\n",
      "Epoch 7/50\n",
      "1812/1812 [==============================] - 22s 12ms/step - loss: 0.5872 - the_rmse: 0.7663 - the_mape: 56806.7070 - val_loss: 0.5872 - val_the_rmse: 0.7663 - val_the_mape: 63371.8945\n",
      "Epoch 8/50\n",
      "1812/1812 [==============================] - 22s 12ms/step - loss: 0.5821 - the_rmse: 0.7630 - the_mape: 67654.6719 - val_loss: 0.5783 - val_the_rmse: 0.7605 - val_the_mape: 86782.7969\n",
      "Epoch 9/50\n",
      "1812/1812 [==============================] - 22s 12ms/step - loss: 0.5766 - the_rmse: 0.7594 - the_mape: 66105.8281 - val_loss: 0.5728 - val_the_rmse: 0.7568 - val_the_mape: 40111.6836\n",
      "Epoch 10/50\n",
      "1812/1812 [==============================] - 22s 12ms/step - loss: 0.5716 - the_rmse: 0.7561 - the_mape: 72513.3359 - val_loss: 0.5744 - val_the_rmse: 0.7579 - val_the_mape: 26765.1738\n",
      "Epoch 11/50\n",
      "1812/1812 [==============================] - 23s 12ms/step - loss: 0.5674 - the_rmse: 0.7532 - the_mape: 87289.2969 - val_loss: 0.5697 - val_the_rmse: 0.7548 - val_the_mape: 76417.1953\n",
      "Epoch 12/50\n",
      "1812/1812 [==============================] - 22s 12ms/step - loss: 0.5627 - the_rmse: 0.7502 - the_mape: 69976.5781 - val_loss: 0.5671 - val_the_rmse: 0.7530 - val_the_mape: 66857.3125\n",
      "Epoch 13/50\n",
      "1812/1812 [==============================] - 22s 12ms/step - loss: 0.5591 - the_rmse: 0.7477 - the_mape: 89498.0938 - val_loss: 0.5623 - val_the_rmse: 0.7498 - val_the_mape: 82977.7109\n",
      "Epoch 14/50\n",
      "1812/1812 [==============================] - 22s 12ms/step - loss: 0.5558 - the_rmse: 0.7455 - the_mape: 83812.3906 - val_loss: 0.5635 - val_the_rmse: 0.7507 - val_the_mape: 48063.2227\n",
      "Epoch 15/50\n",
      "1812/1812 [==============================] - 22s 12ms/step - loss: 0.5520 - the_rmse: 0.7430 - the_mape: 74148.0078 - val_loss: 0.5612 - val_the_rmse: 0.7491 - val_the_mape: 61773.1250\n",
      "Epoch 16/50\n",
      "1812/1812 [==============================] - 22s 12ms/step - loss: 0.5487 - the_rmse: 0.7407 - the_mape: 87466.7500 - val_loss: 0.5590 - val_the_rmse: 0.7477 - val_the_mape: 24782.1895\n",
      "Epoch 17/50\n",
      "1812/1812 [==============================] - 22s 12ms/step - loss: 0.5452 - the_rmse: 0.7384 - the_mape: 93777.1875 - val_loss: 0.5592 - val_the_rmse: 0.7478 - val_the_mape: 100522.2969\n",
      "Epoch 18/50\n",
      "1812/1812 [==============================] - 22s 12ms/step - loss: 0.5415 - the_rmse: 0.7359 - the_mape: 80353.0547 - val_loss: 0.5561 - val_the_rmse: 0.7457 - val_the_mape: 40915.9219\n",
      "Epoch 19/50\n",
      "1812/1812 [==============================] - 22s 12ms/step - loss: 0.5383 - the_rmse: 0.7337 - the_mape: 70600.8125 - val_loss: 0.5581 - val_the_rmse: 0.7471 - val_the_mape: 126057.6406\n",
      "Epoch 20/50\n",
      "1812/1812 [==============================] - 22s 12ms/step - loss: 0.5346 - the_rmse: 0.7312 - the_mape: 81971.2656 - val_loss: 0.5562 - val_the_rmse: 0.7458 - val_the_mape: 41150.2852\n",
      "Epoch 21/50\n",
      "1812/1812 [==============================] - 22s 12ms/step - loss: 0.5310 - the_rmse: 0.7287 - the_mape: 75153.1094 - val_loss: 0.5568 - val_the_rmse: 0.7462 - val_the_mape: 63895.5625\n",
      "Epoch 22/50\n",
      "1812/1812 [==============================] - 22s 12ms/step - loss: 0.5275 - the_rmse: 0.7263 - the_mape: 87931.4141 - val_loss: 0.5592 - val_the_rmse: 0.7478 - val_the_mape: 37517.4141\n",
      "Epoch 23/50\n",
      "1812/1812 [==============================] - 22s 12ms/step - loss: 0.5240 - the_rmse: 0.7239 - the_mape: 84942.1719 - val_loss: 0.5584 - val_the_rmse: 0.7473 - val_the_mape: 111197.3594\n",
      "Epoch 24/50\n",
      "1812/1812 [==============================] - 22s 12ms/step - loss: 0.5198 - the_rmse: 0.7210 - the_mape: 87447.8750 - val_loss: 0.5576 - val_the_rmse: 0.7467 - val_the_mape: 98925.1875\n"
     ]
    }
   ],
   "source": [
    "history = mod_ts.fit(\n",
    "    x_train,\n",
    "    y_train,\n",
    "    batch_size=128,\n",
    "    epochs=50,\n",
    "    # We pass some validation for\n",
    "    # monitoring validation loss and metrics\n",
    "    # at the end of each epoch\n",
    "    validation_data=(x_val, y_val),\n",
    "    callbacks=[early_stop,check_p]\n",
    ")"
   ]
  },
  {
   "cell_type": "code",
   "execution_count": null,
   "metadata": {},
   "outputs": [],
   "source": []
  },
  {
   "cell_type": "code",
   "execution_count": null,
   "metadata": {},
   "outputs": [],
   "source": []
  },
  {
   "cell_type": "markdown",
   "metadata": {},
   "source": [
    "## Eval"
   ]
  },
  {
   "cell_type": "code",
   "execution_count": 15,
   "metadata": {},
   "outputs": [
    {
     "data": {
      "text/plain": [
       "<AxesSubplot:>"
      ]
     },
     "execution_count": 15,
     "metadata": {},
     "output_type": "execute_result"
    },
    {
     "data": {
      "image/png": "[encoded data removed]",
      "text/plain": [
       "<Figure size 432x288 with 1 Axes>"
      ]
     },
     "metadata": {
      "needs_background": "light"
     },
     "output_type": "display_data"
    }
   ],
   "source": [
    "df_epoch_hist = pd.DataFrame(history.history)\n",
    "df_epoch_hist[['loss','val_loss']].plot()"
   ]
  },
  {
   "cell_type": "code",
   "execution_count": null,
   "metadata": {},
   "outputs": [],
   "source": []
  },
  {
   "cell_type": "code",
   "execution_count": 18,
   "metadata": {},
   "outputs": [],
   "source": [
    "# depd = {'auc_1' : metrics.AUC}\n",
    "model_load = load_model(PATH_MODEL + 'ws_data_model3_iter3.h5',compile=False)"
   ]
  },
  {
   "cell_type": "code",
   "execution_count": 19,
   "metadata": {},
   "outputs": [
    {
     "name": "stdout",
     "output_type": "stream",
     "text": [
      "Model: \"sequential\"\n",
      "_________________________________________________________________\n",
      "Layer (type)                 Output Shape              Param #   \n",
      "=================================================================\n",
      "lstm (LSTM)                  (None, 15, 128)           66560     \n",
      "_________________________________________________________________\n",
      "lstm_1 (LSTM)                (None, 64)                49408     \n",
      "_________________________________________________________________\n",
      "dense (Dense)                (None, 32)                2080      \n",
      "_________________________________________________________________\n",
      "dense_1 (Dense)              (None, 16)                528       \n",
      "_________________________________________________________________\n",
      "dense_2 (Dense)              (None, 1)                 17        \n",
      "=================================================================\n",
      "Total params: 118,593\n",
      "Trainable params: 118,593\n",
      "Non-trainable params: 0\n",
      "_________________________________________________________________\n"
     ]
    }
   ],
   "source": [
    "model_load.summary()"
   ]
  },
  {
   "cell_type": "code",
   "execution_count": 20,
   "metadata": {},
   "outputs": [],
   "source": [
    "model_load.compile(loss='mean_squared_error', optimizer=opt, metrics=[\n",
    "        tf.keras.metrics.RootMeanSquaredError(name='the_rmse'),\n",
    "        tf.keras.metrics.MeanAbsolutePercentageError(name='the_mape'),\n",
    "    ])"
   ]
  },
  {
   "cell_type": "code",
   "execution_count": 21,
   "metadata": {},
   "outputs": [
    {
     "name": "stdout",
     "output_type": "stream",
     "text": [
      "3019/3019 [==============================] - 17s 6ms/step - loss: 0.5729 - the_rmse: 0.7569 - the_mape: 45547.6523: 1s - loss: 0.5800 - the_rmse: \n"
     ]
    },
    {
     "data": {
      "text/plain": [
       "[0.5728902220726013, 0.756895124912262, 45547.65234375]"
      ]
     },
     "execution_count": 21,
     "metadata": {},
     "output_type": "execute_result"
    }
   ],
   "source": [
    "model_load.evaluate(x_test,y_test)"
   ]
  },
  {
   "cell_type": "code",
   "execution_count": 22,
   "metadata": {},
   "outputs": [
    {
     "name": "stdout",
     "output_type": "stream",
     "text": [
      "1250/1250 [==============================] - 7s 6ms/step - loss: 0.4471 - the_rmse: 0.6686 - the_mape: 53972.6094\n"
     ]
    },
    {
     "data": {
      "text/plain": [
       "[0.44705986976623535, 0.6686253547668457, 53972.609375]"
      ]
     },
     "execution_count": 22,
     "metadata": {},
     "output_type": "execute_result"
    }
   ],
   "source": [
    "model_load.evaluate(Xo,yo)"
   ]
  },
  {
   "cell_type": "code",
   "execution_count": null,
   "metadata": {},
   "outputs": [],
   "source": []
  }
 ],
 "metadata": {
  "kernelspec": {
   "display_name": "Python 3.7.10 ('droid1')",
   "language": "python",
   "name": "python3"
  },
  "language_info": {
   "codemirror_mode": {
    "name": "ipython",
    "version": 3
   },
   "file_extension": ".py",
   "mimetype": "text/x-python",
   "name": "python",
   "nbconvert_exporter": "python",
   "pygments_lexer": "ipython3",
   "version": "3.7.10"
  },
  "vscode": {
   "interpreter": {
    "hash": "cfaee8345a7381c4d4eb2d178d3529454f9688cb724b599027e029325603d2a6"
   }
  }
 },
 "nbformat": 4,
 "nbformat_minor": 4
}
