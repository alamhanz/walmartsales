{
 "cells": [
  {
   "cell_type": "markdown",
   "metadata": {},
   "source": [
    "[20220924]\n",
    "\n",
    "# 2. Model 7\n",
    "\n",
    "After Preparation ready. Build and train the model in here. its using LSTM one layer. with data gen5"
   ]
  },
  {
   "cell_type": "markdown",
   "metadata": {},
   "source": [
    "## Goal\n",
    "Find patterns on the features for target\n",
    "\n",
    "## Plan\n",
    "Checklist what will be done on the notebook :\n",
    "\n",
    "        [ ] Get Data\n",
    "        [ ] Modelling\n",
    "        [ ] Evaluation"
   ]
  },
  {
   "cell_type": "code",
   "execution_count": 1,
   "metadata": {},
   "outputs": [],
   "source": [
    "import yaml\n",
    "import pandas as pd\n",
    "import matplotlib.pyplot as plt\n",
    "import os\n",
    "import joblib\n",
    "from statsmodels.tsa.arima.model import ARIMA\n",
    "import sys\n",
    "sys.path.insert(1,'../../src/')\n",
    "\n",
    "## import myfunc inside src folder\n",
    "from ramal import eval_model, jampi"
   ]
  },
  {
   "cell_type": "code",
   "execution_count": 2,
   "metadata": {},
   "outputs": [
    {
     "name": "stderr",
     "output_type": "stream",
     "text": [
      "2022-09-29 13:19:37.744032: W tensorflow/stream_executor/platform/default/dso_loader.cc:64] Could not load dynamic library 'libcudart.so.11.0'; dlerror: libcudart.so.11.0: cannot open shared object file: No such file or directory\n",
      "2022-09-29 13:19:37.744090: I tensorflow/stream_executor/cuda/cudart_stub.cc:29] Ignore above cudart dlerror if you do not have a GPU set up on your machine.\n",
      "/usr/local/lib/python3.7/site-packages/requests/__init__.py:104: RequestsDependencyWarning: urllib3 (1.26.11) or chardet (5.0.0)/charset_normalizer (2.0.12) doesn't match a supported version!\n",
      "  RequestsDependencyWarning)\n"
     ]
    }
   ],
   "source": [
    "from keras.models import Sequential\n",
    "from keras.layers import LSTM, Dropout, Flatten, Dense\n",
    "from keras.preprocessing.image import ImageDataGenerator\n",
    "from keras import metrics, optimizers\n",
    "import keras\n",
    "import tensorflow as tf\n",
    "from keras.models import load_model\n",
    "\n",
    "from sklearn.model_selection import train_test_split"
   ]
  },
  {
   "cell_type": "code",
   "execution_count": 3,
   "metadata": {},
   "outputs": [],
   "source": [
    "with open(\"../../config.yaml\", \"r\") as f:\n",
    "    config = yaml.load(f, Loader=yaml.FullLoader)\n",
    "\n",
    "PATH_RAW = config['path']['raw']\n",
    "PATH_INTERIM = config['path']['interim']\n",
    "PATH_PROCESSED = config['path']['processed']\n",
    "# PATH_MODEL = config['path']['artifact']+os.getcwd().split('\\\\')[-1]+'/'\n",
    "PATH_MODEL = config['path']['artifact']+'iteration_3'+'/'\n",
    "PATH_UDF = config['path']['udf']"
   ]
  },
  {
   "cell_type": "markdown",
   "metadata": {},
   "source": [
    "## Get Data"
   ]
  },
  {
   "cell_type": "code",
   "execution_count": 4,
   "metadata": {},
   "outputs": [],
   "source": [
    "Xt, yt, Xo, yo = joblib.load(PATH_INTERIM+'feat_target_gen5_iter3.pkl')\n",
    "Xt = Xt.astype(\"float32\")\n",
    "yt = yt.astype(\"float32\")\n",
    "\n",
    "Xo = Xo.astype(\"float32\")\n",
    "yo = yo.astype(\"float32\")"
   ]
  },
  {
   "cell_type": "code",
   "execution_count": 5,
   "metadata": {},
   "outputs": [
    {
     "data": {
      "text/plain": [
       "(409713, 15, 3)"
      ]
     },
     "execution_count": 5,
     "metadata": {},
     "output_type": "execute_result"
    }
   ],
   "source": [
    "Xt.shape"
   ]
  },
  {
   "cell_type": "code",
   "execution_count": 6,
   "metadata": {},
   "outputs": [
    {
     "data": {
      "text/plain": [
       "(409713, 1)"
      ]
     },
     "execution_count": 6,
     "metadata": {},
     "output_type": "execute_result"
    }
   ],
   "source": [
    "yt.shape"
   ]
  },
  {
   "cell_type": "code",
   "execution_count": 7,
   "metadata": {},
   "outputs": [],
   "source": [
    "SEQ = Xt.shape[1]"
   ]
  },
  {
   "cell_type": "code",
   "execution_count": 8,
   "metadata": {},
   "outputs": [],
   "source": [
    "## not the best way to split time series dataset\n",
    "x_tr, x_test, y_tr, y_test = train_test_split(\n",
    "    Xt, yt, test_size=0.25, random_state=42)\n",
    "\n",
    "x_train, x_val, y_train, y_val = train_test_split(\n",
    "    x_tr, y_tr, test_size=0.2, random_state=42)"
   ]
  },
  {
   "cell_type": "code",
   "execution_count": null,
   "metadata": {},
   "outputs": [],
   "source": []
  },
  {
   "cell_type": "markdown",
   "metadata": {
    "tags": []
   },
   "source": [
    "## Model 1"
   ]
  },
  {
   "cell_type": "code",
   "execution_count": 9,
   "metadata": {},
   "outputs": [],
   "source": [
    "# os.environ[\"CUDA_VISIBLE_DEVICES\"] "
   ]
  },
  {
   "cell_type": "code",
   "execution_count": 10,
   "metadata": {},
   "outputs": [
    {
     "name": "stdout",
     "output_type": "stream",
     "text": [
      "Num GPUs Available:  0\n"
     ]
    },
    {
     "name": "stderr",
     "output_type": "stream",
     "text": [
      "2022-09-29 13:20:42.537842: W tensorflow/stream_executor/platform/default/dso_loader.cc:64] Could not load dynamic library 'libcuda.so.1'; dlerror: libcuda.so.1: cannot open shared object file: No such file or directory\n",
      "2022-09-29 13:20:42.537923: W tensorflow/stream_executor/cuda/cuda_driver.cc:269] failed call to cuInit: UNKNOWN ERROR (303)\n",
      "2022-09-29 13:20:42.537945: I tensorflow/stream_executor/cuda/cuda_diagnostics.cc:156] kernel driver does not appear to be running on this host (62cd00eaf0b9): /proc/driver/nvidia/version does not exist\n"
     ]
    }
   ],
   "source": [
    "print(\"Num GPUs Available: \", len(tf.config.experimental.list_physical_devices('GPU')))"
   ]
  },
  {
   "cell_type": "code",
   "execution_count": 12,
   "metadata": {},
   "outputs": [],
   "source": [
    "mod_ts = Sequential()\n",
    "mod_ts.add(LSTM(256, input_shape=(SEQ, 3), return_sequences=True))\n",
    "mod_ts.add(LSTM(64))\n",
    "mod_ts.add(Dense(64))\n",
    "mod_ts.add(Dense(32))\n",
    "mod_ts.add(Dense(32))\n",
    "mod_ts.add(Dense(1))\n"
   ]
  },
  {
   "cell_type": "code",
   "execution_count": 13,
   "metadata": {},
   "outputs": [],
   "source": [
    "early_stop = keras.callbacks.EarlyStopping(\n",
    "        monitor='val_loss',mode='min', patience=6) \n",
    "\n",
    "check_p = keras.callbacks.ModelCheckpoint(\n",
    "        filepath=PATH_MODEL+'ws_data_model7_iter3.h5',\n",
    "        monitor='val_loss',\n",
    "        mode='min',\n",
    "        save_best_only=True)\n",
    "\n",
    "opt = tf.keras.optimizers.Adam(learning_rate=0.00035)\n",
    "\n",
    "mod_ts.compile(loss='mean_squared_error', optimizer=opt, metrics=[\n",
    "        tf.keras.metrics.RootMeanSquaredError(name='the_rmse'),\n",
    "        tf.keras.metrics.MeanAbsolutePercentageError(name='the_mape'),\n",
    "    ])"
   ]
  },
  {
   "cell_type": "code",
   "execution_count": null,
   "metadata": {},
   "outputs": [],
   "source": []
  },
  {
   "cell_type": "code",
   "execution_count": 14,
   "metadata": {},
   "outputs": [
    {
     "name": "stdout",
     "output_type": "stream",
     "text": [
      "Epoch 1/50\n",
      "1921/1921 [==============================] - 198s 102ms/step - loss: 0.6913 - the_rmse: 0.8315 - the_mape: 132792.3594 - val_loss: 0.5968 - val_the_rmse: 0.7725 - val_the_mape: 183711.0156\n",
      "Epoch 2/50\n",
      "1921/1921 [==============================] - 185s 96ms/step - loss: 0.5672 - the_rmse: 0.7531 - the_mape: 143794.6406 - val_loss: 0.5462 - val_the_rmse: 0.7391 - val_the_mape: 217581.1562\n",
      "Epoch 3/50\n",
      "1921/1921 [==============================] - 208s 108ms/step - loss: 0.5349 - the_rmse: 0.7313 - the_mape: 147894.6875 - val_loss: 0.5184 - val_the_rmse: 0.7200 - val_the_mape: 173153.0156\n",
      "Epoch 4/50\n",
      "1921/1921 [==============================] - 197s 102ms/step - loss: 0.5143 - the_rmse: 0.7171 - the_mape: 138705.2656 - val_loss: 0.5133 - val_the_rmse: 0.7164 - val_the_mape: 232870.3594\n",
      "Epoch 5/50\n",
      "1921/1921 [==============================] - 191s 99ms/step - loss: 0.5010 - the_rmse: 0.7078 - the_mape: 131805.5469 - val_loss: 0.5106 - val_the_rmse: 0.7145 - val_the_mape: 235499.0625\n",
      "Epoch 6/50\n",
      "1921/1921 [==============================] - 202s 105ms/step - loss: 0.4910 - the_rmse: 0.7007 - the_mape: 127916.8125 - val_loss: 0.4946 - val_the_rmse: 0.7032 - val_the_mape: 189951.2969\n",
      "Epoch 7/50\n",
      "1921/1921 [==============================] - 194s 101ms/step - loss: 0.4821 - the_rmse: 0.6943 - the_mape: 134780.1406 - val_loss: 0.4861 - val_the_rmse: 0.6972 - val_the_mape: 152238.4375\n",
      "Epoch 8/50\n",
      "1921/1921 [==============================] - 192s 100ms/step - loss: 0.4745 - the_rmse: 0.6888 - the_mape: 128948.3203 - val_loss: 0.4808 - val_the_rmse: 0.6934 - val_the_mape: 191359.5625\n",
      "Epoch 9/50\n",
      "1921/1921 [==============================] - 194s 101ms/step - loss: 0.4684 - the_rmse: 0.6844 - the_mape: 122800.1875 - val_loss: 0.4733 - val_the_rmse: 0.6880 - val_the_mape: 138861.2344\n",
      "Epoch 10/50\n",
      "1921/1921 [==============================] - 187s 97ms/step - loss: 0.4623 - the_rmse: 0.6799 - the_mape: 118502.0859 - val_loss: 0.4659 - val_the_rmse: 0.6826 - val_the_mape: 116911.7969\n",
      "Epoch 11/50\n",
      "1921/1921 [==============================] - 187s 97ms/step - loss: 0.4563 - the_rmse: 0.6755 - the_mape: 115807.7578 - val_loss: 0.4728 - val_the_rmse: 0.6876 - val_the_mape: 153413.6094\n",
      "Epoch 12/50\n",
      "1921/1921 [==============================] - 193s 101ms/step - loss: 0.4505 - the_rmse: 0.6712 - the_mape: 109703.1562 - val_loss: 0.4668 - val_the_rmse: 0.6832 - val_the_mape: 127325.0859\n",
      "Epoch 13/50\n",
      "1921/1921 [==============================] - 182s 95ms/step - loss: 0.4454 - the_rmse: 0.6674 - the_mape: 111739.4922 - val_loss: 0.4657 - val_the_rmse: 0.6824 - val_the_mape: 133372.1094\n",
      "Epoch 14/50\n",
      "1921/1921 [==============================] - 167s 87ms/step - loss: 0.4407 - the_rmse: 0.6638 - the_mape: 105955.3906 - val_loss: 0.4597 - val_the_rmse: 0.6780 - val_the_mape: 151604.6250\n",
      "Epoch 15/50\n",
      "1921/1921 [==============================] - 161s 84ms/step - loss: 0.4347 - the_rmse: 0.6593 - the_mape: 99629.9531 - val_loss: 0.4647 - val_the_rmse: 0.6817 - val_the_mape: 152121.0000\n",
      "Epoch 16/50\n",
      "1921/1921 [==============================] - 160s 83ms/step - loss: 0.4299 - the_rmse: 0.6556 - the_mape: 113366.3281 - val_loss: 0.4604 - val_the_rmse: 0.6786 - val_the_mape: 183875.8281\n",
      "Epoch 17/50\n",
      "1921/1921 [==============================] - 163s 85ms/step - loss: 0.4253 - the_rmse: 0.6522 - the_mape: 113598.9688 - val_loss: 0.4592 - val_the_rmse: 0.6776 - val_the_mape: 180913.4062\n",
      "Epoch 18/50\n",
      "1921/1921 [==============================] - 160s 83ms/step - loss: 0.4196 - the_rmse: 0.6478 - the_mape: 112288.0469 - val_loss: 0.4754 - val_the_rmse: 0.6895 - val_the_mape: 186752.3438\n",
      "Epoch 19/50\n",
      "1921/1921 [==============================] - 162s 85ms/step - loss: 0.4142 - the_rmse: 0.6436 - the_mape: 124676.9766 - val_loss: 0.4585 - val_the_rmse: 0.6771 - val_the_mape: 142800.7344\n",
      "Epoch 20/50\n",
      "1921/1921 [==============================] - 167s 87ms/step - loss: 0.4099 - the_rmse: 0.6402 - the_mape: 121280.8828 - val_loss: 0.4613 - val_the_rmse: 0.6792 - val_the_mape: 163042.6094\n",
      "Epoch 21/50\n",
      "1921/1921 [==============================] - 161s 84ms/step - loss: 0.4039 - the_rmse: 0.6355 - the_mape: 118427.9609 - val_loss: 0.4671 - val_the_rmse: 0.6835 - val_the_mape: 157707.4375\n",
      "Epoch 22/50\n",
      "1921/1921 [==============================] - 156s 81ms/step - loss: 0.3982 - the_rmse: 0.6310 - the_mape: 105154.7734 - val_loss: 0.4612 - val_the_rmse: 0.6791 - val_the_mape: 149400.7188\n",
      "Epoch 23/50\n",
      "1921/1921 [==============================] - 173s 90ms/step - loss: 0.3923 - the_rmse: 0.6263 - the_mape: 119496.5781 - val_loss: 0.4662 - val_the_rmse: 0.6828 - val_the_mape: 154354.5781\n",
      "Epoch 24/50\n",
      "1921/1921 [==============================] - 215s 112ms/step - loss: 0.3856 - the_rmse: 0.6210 - the_mape: 131466.0469 - val_loss: 0.4622 - val_the_rmse: 0.6799 - val_the_mape: 129145.0078\n",
      "Epoch 25/50\n",
      "1921/1921 [==============================] - 168s 87ms/step - loss: 0.3811 - the_rmse: 0.6173 - the_mape: 112582.5625 - val_loss: 0.4699 - val_the_rmse: 0.6855 - val_the_mape: 224831.1719\n"
     ]
    }
   ],
   "source": [
    "history = mod_ts.fit(\n",
    "    x_train,\n",
    "    y_train,\n",
    "    batch_size=128,\n",
    "    epochs=50,\n",
    "    \n",
    "    # We pass some validation for\n",
    "    # monitoring validation loss and metrics\n",
    "    # at the end of each epoch\n",
    "    validation_data=(x_val, y_val),\n",
    "    callbacks=[early_stop,check_p]\n",
    ")"
   ]
  },
  {
   "cell_type": "code",
   "execution_count": null,
   "metadata": {},
   "outputs": [],
   "source": []
  },
  {
   "cell_type": "code",
   "execution_count": null,
   "metadata": {},
   "outputs": [],
   "source": []
  },
  {
   "cell_type": "markdown",
   "metadata": {},
   "source": [
    "## Eval"
   ]
  },
  {
   "cell_type": "code",
   "execution_count": 15,
   "metadata": {},
   "outputs": [
    {
     "data": {
      "text/plain": [
       "<AxesSubplot:>"
      ]
     },
     "execution_count": 15,
     "metadata": {},
     "output_type": "execute_result"
    },
    {
     "data": {
      "image/png": "[encoded data removed]",
      "text/plain": [
       "<Figure size 432x288 with 1 Axes>"
      ]
     },
     "metadata": {
      "needs_background": "light"
     },
     "output_type": "display_data"
    }
   ],
   "source": [
    "df_epoch_hist = pd.DataFrame(history.history)\n",
    "df_epoch_hist[['loss','val_loss']].plot()"
   ]
  },
  {
   "cell_type": "code",
   "execution_count": null,
   "metadata": {},
   "outputs": [],
   "source": []
  },
  {
   "cell_type": "code",
   "execution_count": 16,
   "metadata": {},
   "outputs": [],
   "source": [
    "# depd = {'auc_1' : metrics.AUC}\n",
    "model_load = load_model(PATH_MODEL + 'ws_data_model7_iter3.h5',compile=False)"
   ]
  },
  {
   "cell_type": "code",
   "execution_count": 17,
   "metadata": {},
   "outputs": [
    {
     "name": "stdout",
     "output_type": "stream",
     "text": [
      "Model: \"sequential_1\"\n",
      "_________________________________________________________________\n",
      " Layer (type)                Output Shape              Param #   \n",
      "=================================================================\n",
      " lstm_2 (LSTM)               (None, 15, 256)           266240    \n",
      "                                                                 \n",
      " lstm_3 (LSTM)               (None, 64)                82176     \n",
      "                                                                 \n",
      " dense_3 (Dense)             (None, 64)                4160      \n",
      "                                                                 \n",
      " dense_4 (Dense)             (None, 32)                2080      \n",
      "                                                                 \n",
      " dense_5 (Dense)             (None, 32)                1056      \n",
      "                                                                 \n",
      " dense_6 (Dense)             (None, 1)                 33        \n",
      "                                                                 \n",
      "=================================================================\n",
      "Total params: 355,745\n",
      "Trainable params: 355,745\n",
      "Non-trainable params: 0\n",
      "_________________________________________________________________\n"
     ]
    }
   ],
   "source": [
    "model_load.summary()"
   ]
  },
  {
   "cell_type": "code",
   "execution_count": 18,
   "metadata": {},
   "outputs": [],
   "source": [
    "model_load.compile(loss='mean_squared_error', optimizer=opt, metrics=[\n",
    "        tf.keras.metrics.RootMeanSquaredError(name='the_rmse'),\n",
    "        tf.keras.metrics.MeanAbsolutePercentageError(name='the_mape'),\n",
    "    ])"
   ]
  },
  {
   "cell_type": "code",
   "execution_count": 19,
   "metadata": {},
   "outputs": [
    {
     "name": "stdout",
     "output_type": "stream",
     "text": [
      "3201/3201 [==============================] - 55s 17ms/step - loss: 0.4631 - the_rmse: 0.6805 - the_mape: 112619.5938\n"
     ]
    },
    {
     "data": {
      "text/plain": [
       "[0.46311166882514954, 0.6805230975151062, 112619.59375]"
      ]
     },
     "execution_count": 19,
     "metadata": {},
     "output_type": "execute_result"
    }
   ],
   "source": [
    "model_load.evaluate(x_test,y_test)"
   ]
  },
  {
   "cell_type": "code",
   "execution_count": 20,
   "metadata": {},
   "outputs": [
    {
     "name": "stdout",
     "output_type": "stream",
     "text": [
      "521/521 [==============================] - 9s 17ms/step - loss: 0.4611 - the_rmse: 0.6791 - the_mape: 106956.2344\n"
     ]
    },
    {
     "data": {
      "text/plain": [
       "[0.46114155650138855, 0.6790740489959717, 106956.234375]"
      ]
     },
     "execution_count": 20,
     "metadata": {},
     "output_type": "execute_result"
    }
   ],
   "source": [
    "model_load.evaluate(Xo,yo)"
   ]
  },
  {
   "cell_type": "code",
   "execution_count": null,
   "metadata": {},
   "outputs": [],
   "source": []
  }
 ],
 "metadata": {
  "kernelspec": {
   "display_name": "Python 3 (ipykernel)",
   "language": "python",
   "name": "python3"
  },
  "language_info": {
   "codemirror_mode": {
    "name": "ipython",
    "version": 3
   },
   "file_extension": ".py",
   "mimetype": "text/x-python",
   "name": "python",
   "nbconvert_exporter": "python",
   "pygments_lexer": "ipython3",
   "version": "3.7.13"
  },
  "vscode": {
   "interpreter": {
    "hash": "6fde994876131bc9f65527873aa4b87e75053d151a689996c7611049218b8dee"
   }
  }
 },
 "nbformat": 4,
 "nbformat_minor": 4
}
