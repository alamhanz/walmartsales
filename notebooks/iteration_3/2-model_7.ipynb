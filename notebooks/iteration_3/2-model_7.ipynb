{
 "cells": [
  {
   "cell_type": "markdown",
   "metadata": {},
   "source": [
    "[20220924]\n",
    "\n",
    "# 2. Model 7\n",
    "\n",
    "After Preparation ready. Build and train the model in here. its using LSTM one layer. with data gen5"
   ]
  },
  {
   "cell_type": "markdown",
   "metadata": {},
   "source": [
    "## Goal\n",
    "Find patterns on the features for target\n",
    "\n",
    "## Plan\n",
    "Checklist what will be done on the notebook :\n",
    "\n",
    "        [ ] Get Data\n",
    "        [ ] Modelling\n",
    "        [ ] Evaluation"
   ]
  },
  {
   "cell_type": "code",
   "execution_count": 6,
   "metadata": {},
   "outputs": [],
   "source": [
    "import yaml\n",
    "import pandas as pd\n",
    "import matplotlib.pyplot as plt\n",
    "import os\n",
    "import joblib\n",
    "from statsmodels.tsa.arima.model import ARIMA\n",
    "import sys\n",
    "sys.path.insert(1,'../../src/')\n"
   ]
  },
  {
   "cell_type": "code",
   "execution_count": 7,
   "metadata": {},
   "outputs": [],
   "source": [
    "from keras.models import Sequential\n",
    "from keras.layers import LSTM, Dropout, Flatten, Dense\n",
    "from keras.preprocessing.image import ImageDataGenerator\n",
    "from keras import metrics, optimizers\n",
    "import keras\n",
    "import tensorflow as tf\n",
    "from keras.models import load_model\n",
    "\n",
    "from sklearn.model_selection import train_test_split"
   ]
  },
  {
   "cell_type": "code",
   "execution_count": 8,
   "metadata": {},
   "outputs": [],
   "source": [
    "with open(\"../../config.yaml\", \"r\") as f:\n",
    "    config = yaml.load(f, Loader=yaml.FullLoader)\n",
    "\n",
    "PATH_RAW = config['path']['raw']\n",
    "PATH_INTERIM = config['path']['interim']\n",
    "PATH_PROCESSED = config['path']['processed']\n",
    "# PATH_MODEL = config['path']['artifact']+os.getcwd().split('\\\\')[-1]+'/'\n",
    "PATH_MODEL = config['path']['artifact']+'iteration_3'+'/'\n",
    "PATH_UDF = config['path']['udf']"
   ]
  },
  {
   "cell_type": "code",
   "execution_count": 11,
   "metadata": {},
   "outputs": [],
   "source": [
    "%matplotlib inline"
   ]
  },
  {
   "cell_type": "markdown",
   "metadata": {},
   "source": [
    "## Get Data"
   ]
  },
  {
   "cell_type": "code",
   "execution_count": 12,
   "metadata": {},
   "outputs": [],
   "source": [
    "Xt, yt, Xo, yo = joblib.load(PATH_INTERIM+'feat_target_gen5_iter3.pkl')\n",
    "Xt = Xt.astype(\"float32\")\n",
    "yt = yt.astype(\"float32\")\n",
    "\n",
    "Xo = Xo.astype(\"float32\")\n",
    "yo = yo.astype(\"float32\")"
   ]
  },
  {
   "cell_type": "code",
   "execution_count": 13,
   "metadata": {},
   "outputs": [
    {
     "data": {
      "text/plain": [
       "(386396, 15, 3)"
      ]
     },
     "execution_count": 13,
     "metadata": {},
     "output_type": "execute_result"
    }
   ],
   "source": [
    "Xt.shape"
   ]
  },
  {
   "cell_type": "code",
   "execution_count": 14,
   "metadata": {},
   "outputs": [
    {
     "data": {
      "text/plain": [
       "(386396, 1)"
      ]
     },
     "execution_count": 14,
     "metadata": {},
     "output_type": "execute_result"
    }
   ],
   "source": [
    "yt.shape"
   ]
  },
  {
   "cell_type": "code",
   "execution_count": 15,
   "metadata": {},
   "outputs": [],
   "source": [
    "SEQ = Xt.shape[1]"
   ]
  },
  {
   "cell_type": "code",
   "execution_count": 18,
   "metadata": {},
   "outputs": [],
   "source": [
    "## not the best way to split time series dataset\n",
    "x_tr, x_test, y_tr, y_test = train_test_split(\n",
    "    Xt, yt, test_size=0.25, random_state=42)\n",
    "\n",
    "x_train, x_val, y_train, y_val = train_test_split(\n",
    "    x_tr, y_tr, test_size=0.2, random_state=42)"
   ]
  },
  {
   "cell_type": "code",
   "execution_count": null,
   "metadata": {},
   "outputs": [],
   "source": []
  },
  {
   "cell_type": "markdown",
   "metadata": {
    "tags": []
   },
   "source": [
    "## Model 1"
   ]
  },
  {
   "cell_type": "code",
   "execution_count": 19,
   "metadata": {},
   "outputs": [],
   "source": [
    "# os.environ[\"CUDA_VISIBLE_DEVICES\"] "
   ]
  },
  {
   "cell_type": "code",
   "execution_count": 20,
   "metadata": {},
   "outputs": [
    {
     "name": "stdout",
     "output_type": "stream",
     "text": [
      "Num GPUs Available:  1\n"
     ]
    }
   ],
   "source": [
    "print(\"Num GPUs Available: \", len(tf.config.experimental.list_physical_devices('GPU')))"
   ]
  },
  {
   "cell_type": "code",
   "execution_count": 22,
   "metadata": {},
   "outputs": [],
   "source": [
    "mod_ts = Sequential()\n",
    "mod_ts.add(LSTM(256, input_shape=(SEQ, 3), return_sequences=True))\n",
    "mod_ts.add(LSTM(128, return_sequences=True))\n",
    "mod_ts.add(LSTM(64))\n",
    "mod_ts.add(Dense(32))\n",
    "mod_ts.add(Dense(16))\n",
    "mod_ts.add(Dense(8))\n",
    "mod_ts.add(Dense(1))\n"
   ]
  },
  {
   "cell_type": "code",
   "execution_count": 24,
   "metadata": {},
   "outputs": [],
   "source": [
    "early_stop = keras.callbacks.EarlyStopping(\n",
    "        monitor='val_loss',mode='min', patience=6) \n",
    "\n",
    "check_p = keras.callbacks.ModelCheckpoint(\n",
    "        filepath=PATH_MODEL+'ws_data_model7_iter3.h5',\n",
    "        monitor='val_loss',\n",
    "        mode='min',\n",
    "        save_best_only=True)\n",
    "\n",
    "opt = tf.keras.optimizers.Adam(learning_rate=0.0002)\n",
    "\n",
    "mod_ts.compile(loss='mean_squared_error', optimizer=opt, metrics=[\n",
    "        tf.keras.metrics.RootMeanSquaredError(name='the_rmse'),\n",
    "        tf.keras.metrics.MeanAbsolutePercentageError(name='the_mape'),\n",
    "    ])"
   ]
  },
  {
   "cell_type": "code",
   "execution_count": null,
   "metadata": {},
   "outputs": [],
   "source": []
  },
  {
   "cell_type": "code",
   "execution_count": 25,
   "metadata": {},
   "outputs": [
    {
     "name": "stdout",
     "output_type": "stream",
     "text": [
      "Epoch 1/50\n",
      "1812/1812 [==============================] - 28s 16ms/step - loss: 0.7300 - the_rmse: 0.8544 - the_mape: 142131.9531 - val_loss: 0.6758 - val_the_rmse: 0.8221 - val_the_mape: 121770.0859\n",
      "Epoch 2/50\n",
      "1812/1812 [==============================] - 28s 15ms/step - loss: 0.6113 - the_rmse: 0.7819 - the_mape: 160624.2188 - val_loss: 0.5773 - val_the_rmse: 0.7598 - val_the_mape: 187492.0156\n",
      "Epoch 3/50\n",
      "1812/1812 [==============================] - 27s 15ms/step - loss: 0.5623 - the_rmse: 0.7498 - the_mape: 152682.6250 - val_loss: 0.5540 - val_the_rmse: 0.7443 - val_the_mape: 129614.1172\n",
      "Epoch 4/50\n",
      "1812/1812 [==============================] - 28s 15ms/step - loss: 0.5495 - the_rmse: 0.7413 - the_mape: 140072.6562 - val_loss: 0.5373 - val_the_rmse: 0.7330 - val_the_mape: 160505.1094\n",
      "Epoch 5/50\n",
      "1812/1812 [==============================] - 27s 15ms/step - loss: 0.5364 - the_rmse: 0.7324 - the_mape: 135908.6094 - val_loss: 0.5330 - val_the_rmse: 0.7301 - val_the_mape: 156698.0469\n",
      "Epoch 6/50\n",
      "1812/1812 [==============================] - 28s 15ms/step - loss: 0.5233 - the_rmse: 0.7234 - the_mape: 127634.5312 - val_loss: 0.5154 - val_the_rmse: 0.7179 - val_the_mape: 144761.1875\n",
      "Epoch 7/50\n",
      "1812/1812 [==============================] - 27s 15ms/step - loss: 0.5082 - the_rmse: 0.7128 - the_mape: 136137.0625 - val_loss: 0.5020 - val_the_rmse: 0.7085 - val_the_mape: 176065.3438\n",
      "Epoch 8/50\n",
      "1812/1812 [==============================] - 27s 15ms/step - loss: 0.4957 - the_rmse: 0.7040 - the_mape: 136748.4219 - val_loss: 0.5040 - val_the_rmse: 0.7099 - val_the_mape: 148700.8594\n",
      "Epoch 9/50\n",
      "1812/1812 [==============================] - 28s 15ms/step - loss: 0.4850 - the_rmse: 0.6965 - the_mape: 130531.6875 - val_loss: 0.4850 - val_the_rmse: 0.6964 - val_the_mape: 129935.1797\n",
      "Epoch 10/50\n",
      "1812/1812 [==============================] - 28s 15ms/step - loss: 0.4755 - the_rmse: 0.6895 - the_mape: 123022.3516 - val_loss: 0.4811 - val_the_rmse: 0.6936 - val_the_mape: 97164.0312\n",
      "Epoch 11/50\n",
      "1812/1812 [==============================] - 28s 15ms/step - loss: 0.4687 - the_rmse: 0.6846 - the_mape: 120862.3281 - val_loss: 0.4781 - val_the_rmse: 0.6915 - val_the_mape: 130177.3516\n",
      "Epoch 12/50\n",
      "1812/1812 [==============================] - 28s 15ms/step - loss: 0.4617 - the_rmse: 0.6795 - the_mape: 117450.7266 - val_loss: 0.4693 - val_the_rmse: 0.6851 - val_the_mape: 114332.8281\n",
      "Epoch 13/50\n",
      "1812/1812 [==============================] - 28s 15ms/step - loss: 0.4564 - the_rmse: 0.6755 - the_mape: 107847.4219 - val_loss: 0.4678 - val_the_rmse: 0.6840 - val_the_mape: 112447.8672\n",
      "Epoch 14/50\n",
      "1812/1812 [==============================] - 28s 15ms/step - loss: 0.4514 - the_rmse: 0.6719 - the_mape: 112066.7031 - val_loss: 0.4615 - val_the_rmse: 0.6793 - val_the_mape: 122924.5234\n",
      "Epoch 15/50\n",
      "1812/1812 [==============================] - 28s 15ms/step - loss: 0.4463 - the_rmse: 0.6680 - the_mape: 102324.9062 - val_loss: 0.4639 - val_the_rmse: 0.6811 - val_the_mape: 124219.0234\n",
      "Epoch 16/50\n",
      "1812/1812 [==============================] - 28s 15ms/step - loss: 0.4414 - the_rmse: 0.6644 - the_mape: 106944.0938 - val_loss: 0.4643 - val_the_rmse: 0.6814 - val_the_mape: 79261.2578\n",
      "Epoch 17/50\n",
      "1812/1812 [==============================] - 28s 15ms/step - loss: 0.4369 - the_rmse: 0.6610 - the_mape: 112535.4609 - val_loss: 0.4603 - val_the_rmse: 0.6785 - val_the_mape: 97072.2812\n",
      "Epoch 18/50\n",
      "1812/1812 [==============================] - 28s 16ms/step - loss: 0.4320 - the_rmse: 0.6572 - the_mape: 108828.2812 - val_loss: 0.4600 - val_the_rmse: 0.6782 - val_the_mape: 81547.0156\n",
      "Epoch 19/50\n",
      "1812/1812 [==============================] - 28s 15ms/step - loss: 0.4272 - the_rmse: 0.6536 - the_mape: 106589.6562 - val_loss: 0.4574 - val_the_rmse: 0.6763 - val_the_mape: 101302.7578\n",
      "Epoch 20/50\n",
      "1812/1812 [==============================] - 28s 16ms/step - loss: 0.4230 - the_rmse: 0.6504 - the_mape: 107873.5312 - val_loss: 0.4547 - val_the_rmse: 0.6743 - val_the_mape: 118050.8984\n",
      "Epoch 21/50\n",
      "1812/1812 [==============================] - 28s 16ms/step - loss: 0.4185 - the_rmse: 0.6469 - the_mape: 107080.4531 - val_loss: 0.4561 - val_the_rmse: 0.6754 - val_the_mape: 142684.4375\n",
      "Epoch 22/50\n",
      "1812/1812 [==============================] - 31s 17ms/step - loss: 0.4129 - the_rmse: 0.6426 - the_mape: 115375.9062 - val_loss: 0.4578 - val_the_rmse: 0.6766 - val_the_mape: 139169.9531\n",
      "Epoch 23/50\n",
      "1812/1812 [==============================] - 30s 17ms/step - loss: 0.4070 - the_rmse: 0.6380 - the_mape: 125597.8438 - val_loss: 0.4586 - val_the_rmse: 0.6772 - val_the_mape: 149340.7188\n",
      "Epoch 24/50\n",
      "1812/1812 [==============================] - 31s 17ms/step - loss: 0.4023 - the_rmse: 0.6343 - the_mape: 109552.6484 - val_loss: 0.4595 - val_the_rmse: 0.6778 - val_the_mape: 129653.9531\n",
      "Epoch 25/50\n",
      "1812/1812 [==============================] - 30s 17ms/step - loss: 0.3968 - the_rmse: 0.6299 - the_mape: 119501.8672 - val_loss: 0.4589 - val_the_rmse: 0.6774 - val_the_mape: 211524.0469\n",
      "Epoch 26/50\n",
      "1812/1812 [==============================] - 30s 16ms/step - loss: 0.3907 - the_rmse: 0.6251 - the_mape: 126272.8125 - val_loss: 0.4616 - val_the_rmse: 0.6794 - val_the_mape: 177981.7656\n"
     ]
    }
   ],
   "source": [
    "history = mod_ts.fit(\n",
    "    x_train,\n",
    "    y_train,\n",
    "    batch_size=128,\n",
    "    epochs=50,\n",
    "    \n",
    "    # We pass some validation for\n",
    "    # monitoring validation loss and metrics\n",
    "    # at the end of each epoch\n",
    "    validation_data=(x_val, y_val),\n",
    "    callbacks=[early_stop,check_p]\n",
    ")"
   ]
  },
  {
   "cell_type": "code",
   "execution_count": null,
   "metadata": {},
   "outputs": [],
   "source": []
  },
  {
   "cell_type": "code",
   "execution_count": null,
   "metadata": {},
   "outputs": [],
   "source": []
  },
  {
   "cell_type": "markdown",
   "metadata": {},
   "source": [
    "## Eval"
   ]
  },
  {
   "cell_type": "code",
   "execution_count": 26,
   "metadata": {},
   "outputs": [
    {
     "data": {
      "text/plain": [
       "<AxesSubplot:>"
      ]
     },
     "execution_count": 26,
     "metadata": {},
     "output_type": "execute_result"
    },
    {
     "data": {
      "image/png": "[encoded data removed]",
      "text/plain": [
       "<Figure size 432x288 with 1 Axes>"
      ]
     },
     "metadata": {
      "needs_background": "light"
     },
     "output_type": "display_data"
    }
   ],
   "source": [
    "df_epoch_hist = pd.DataFrame(history.history)\n",
    "df_epoch_hist[['loss','val_loss']].plot()"
   ]
  },
  {
   "cell_type": "code",
   "execution_count": null,
   "metadata": {},
   "outputs": [],
   "source": []
  },
  {
   "cell_type": "code",
   "execution_count": 27,
   "metadata": {},
   "outputs": [],
   "source": [
    "# depd = {'auc_1' : metrics.AUC}\n",
    "model_load = load_model(PATH_MODEL + 'ws_data_model7_iter3.h5',compile=False)"
   ]
  },
  {
   "cell_type": "code",
   "execution_count": 28,
   "metadata": {},
   "outputs": [
    {
     "name": "stdout",
     "output_type": "stream",
     "text": [
      "Model: \"sequential_1\"\n",
      "_________________________________________________________________\n",
      "Layer (type)                 Output Shape              Param #   \n",
      "=================================================================\n",
      "lstm_2 (LSTM)                (None, 15, 256)           266240    \n",
      "_________________________________________________________________\n",
      "lstm_3 (LSTM)                (None, 15, 128)           197120    \n",
      "_________________________________________________________________\n",
      "lstm_4 (LSTM)                (None, 64)                49408     \n",
      "_________________________________________________________________\n",
      "dense_4 (Dense)              (None, 32)                2080      \n",
      "_________________________________________________________________\n",
      "dense_5 (Dense)              (None, 16)                528       \n",
      "_________________________________________________________________\n",
      "dense_6 (Dense)              (None, 8)                 136       \n",
      "_________________________________________________________________\n",
      "dense_7 (Dense)              (None, 1)                 9         \n",
      "=================================================================\n",
      "Total params: 515,521\n",
      "Trainable params: 515,521\n",
      "Non-trainable params: 0\n",
      "_________________________________________________________________\n"
     ]
    }
   ],
   "source": [
    "model_load.summary()"
   ]
  },
  {
   "cell_type": "code",
   "execution_count": 29,
   "metadata": {},
   "outputs": [],
   "source": [
    "model_load.compile(loss='mean_squared_error', optimizer=opt, metrics=[\n",
    "        tf.keras.metrics.RootMeanSquaredError(name='the_rmse'),\n",
    "        tf.keras.metrics.MeanAbsolutePercentageError(name='the_mape'),\n",
    "    ])"
   ]
  },
  {
   "cell_type": "code",
   "execution_count": 30,
   "metadata": {},
   "outputs": [
    {
     "name": "stdout",
     "output_type": "stream",
     "text": [
      "3019/3019 [==============================] - 18s 6ms/step - loss: 0.4631 - the_rmse: 0.6805 - the_mape: 86472.2656\n"
     ]
    },
    {
     "data": {
      "text/plain": [
       "[0.46314021944999695, 0.6805440783500671, 86472.265625]"
      ]
     },
     "execution_count": 30,
     "metadata": {},
     "output_type": "execute_result"
    }
   ],
   "source": [
    "model_load.evaluate(x_test,y_test)"
   ]
  },
  {
   "cell_type": "code",
   "execution_count": 31,
   "metadata": {},
   "outputs": [
    {
     "name": "stdout",
     "output_type": "stream",
     "text": [
      "1250/1250 [==============================] - 7s 6ms/step - loss: 0.4321 - the_rmse: 0.6573 - the_mape: 66544.6172\n"
     ]
    },
    {
     "data": {
      "text/plain": [
       "[0.43210291862487793, 0.6573453545570374, 66544.6171875]"
      ]
     },
     "execution_count": 31,
     "metadata": {},
     "output_type": "execute_result"
    },
    {
     "ename": "",
     "evalue": "",
     "output_type": "error",
     "traceback": [
      "\u001b[1;31mThe Kernel crashed while executing code in the the current cell or a previous cell. Please review the code in the cell(s) to identify a possible cause of the failure. Click <a href='https://aka.ms/vscodeJupyterKernelCrash'>here</a> for more info. View Jupyter <a href='command:jupyter.viewOutput'>log</a> for further details."
     ]
    }
   ],
   "source": [
    "model_load.evaluate(Xo,yo)"
   ]
  },
  {
   "cell_type": "code",
   "execution_count": null,
   "metadata": {},
   "outputs": [],
   "source": []
  }
 ],
 "metadata": {
  "kernelspec": {
   "display_name": "Python 3.7.10 ('droid1')",
   "language": "python",
   "name": "python3"
  },
  "language_info": {
   "codemirror_mode": {
    "name": "ipython",
    "version": 3
   },
   "file_extension": ".py",
   "mimetype": "text/x-python",
   "name": "python",
   "nbconvert_exporter": "python",
   "pygments_lexer": "ipython3",
   "version": "3.7.10"
  },
  "vscode": {
   "interpreter": {
    "hash": "cfaee8345a7381c4d4eb2d178d3529454f9688cb724b599027e029325603d2a6"
   }
  }
 },
 "nbformat": 4,
 "nbformat_minor": 4
}
