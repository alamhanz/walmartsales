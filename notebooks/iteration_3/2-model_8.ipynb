{
 "cells": [
  {
   "cell_type": "markdown",
   "metadata": {},
   "source": [
    "[20220924]\n",
    "\n",
    "# 2. Model 8\n",
    "\n",
    "After Preparation ready. Build and train the model in here. its using LSTM one layer. with data gen6"
   ]
  },
  {
   "cell_type": "markdown",
   "metadata": {},
   "source": [
    "## Goal\n",
    "Find patterns on the features for target\n",
    "\n",
    "## Plan\n",
    "Checklist what will be done on the notebook :\n",
    "\n",
    "        [ ] Get Data\n",
    "        [ ] Modelling\n",
    "        [ ] Evaluation"
   ]
  },
  {
   "cell_type": "code",
   "execution_count": 1,
   "metadata": {},
   "outputs": [],
   "source": [
    "import yaml\n",
    "import pandas as pd\n",
    "import matplotlib.pyplot as plt\n",
    "import os\n",
    "import joblib\n",
    "from statsmodels.tsa.arima.model import ARIMA\n",
    "import sys\n",
    "sys.path.insert(1,'../../src/')\n"
   ]
  },
  {
   "cell_type": "code",
   "execution_count": 2,
   "metadata": {},
   "outputs": [],
   "source": [
    "from keras.models import Sequential, Model\n",
    "from keras.layers import LSTM, Dropout, Flatten, Dense, Input, Concatenate\n",
    "from keras.preprocessing.image import ImageDataGenerator\n",
    "from keras import metrics, optimizers\n",
    "import keras\n",
    "import tensorflow as tf\n",
    "from keras.models import load_model\n",
    "\n",
    "from sklearn.model_selection import train_test_split"
   ]
  },
  {
   "cell_type": "code",
   "execution_count": 3,
   "metadata": {},
   "outputs": [],
   "source": [
    "with open(\"../../config.yaml\", \"r\") as f:\n",
    "    config = yaml.load(f, Loader=yaml.FullLoader)\n",
    "\n",
    "PATH_RAW = config['path']['raw']\n",
    "PATH_INTERIM = config['path']['interim']\n",
    "PATH_PROCESSED = config['path']['processed']\n",
    "# PATH_MODEL = config['path']['artifact']+os.getcwd().split('\\\\')[-1]+'/'\n",
    "PATH_MODEL = config['path']['artifact']+'iteration_3'+'/'\n",
    "PATH_UDF = config['path']['udf']"
   ]
  },
  {
   "cell_type": "code",
   "execution_count": 4,
   "metadata": {},
   "outputs": [],
   "source": [
    "%matplotlib inline"
   ]
  },
  {
   "cell_type": "markdown",
   "metadata": {},
   "source": [
    "## Get Data"
   ]
  },
  {
   "cell_type": "code",
   "execution_count": 5,
   "metadata": {},
   "outputs": [],
   "source": [
    "Xt, Xt2, yt, Xo, Xo2, yo = joblib.load(PATH_INTERIM+'feat_target_gen6_iter3.pkl')\n",
    "Xt = Xt.astype(\"float32\")\n",
    "Xt2 = Xt2.astype(\"float32\")\n",
    "yt = yt.astype(\"float32\")\n",
    "\n",
    "Xo = Xo.astype(\"float32\")\n",
    "Xo2 = Xo2.astype(\"float32\")\n",
    "yo = yo.astype(\"float32\")"
   ]
  },
  {
   "cell_type": "code",
   "execution_count": 6,
   "metadata": {},
   "outputs": [
    {
     "data": {
      "text/plain": [
       "(386396, 15, 3)"
      ]
     },
     "execution_count": 6,
     "metadata": {},
     "output_type": "execute_result"
    }
   ],
   "source": [
    "Xt.shape"
   ]
  },
  {
   "cell_type": "code",
   "execution_count": 7,
   "metadata": {},
   "outputs": [
    {
     "data": {
      "text/plain": [
       "(386396, 2)"
      ]
     },
     "execution_count": 7,
     "metadata": {},
     "output_type": "execute_result"
    }
   ],
   "source": [
    "Xt2.shape"
   ]
  },
  {
   "cell_type": "code",
   "execution_count": 8,
   "metadata": {},
   "outputs": [
    {
     "data": {
      "text/plain": [
       "(386396, 1)"
      ]
     },
     "execution_count": 8,
     "metadata": {},
     "output_type": "execute_result"
    }
   ],
   "source": [
    "yt.shape"
   ]
  },
  {
   "cell_type": "code",
   "execution_count": 9,
   "metadata": {},
   "outputs": [],
   "source": [
    "SEQ = Xt.shape[1]"
   ]
  },
  {
   "cell_type": "code",
   "execution_count": 10,
   "metadata": {},
   "outputs": [],
   "source": [
    "## not the best way to split time series dataset\n",
    "x_tr, x_test, x2_tr, x2_test, y_tr, y_test = train_test_split(\n",
    "    Xt, Xt2, yt, test_size=0.25, random_state=42)\n",
    "\n",
    "x_train, x_val, x2_train, x2_val, y_train, y_val = train_test_split(\n",
    "    x_tr, x2_tr, y_tr, test_size=0.2, random_state=42)"
   ]
  },
  {
   "cell_type": "code",
   "execution_count": 11,
   "metadata": {},
   "outputs": [],
   "source": [
    "# x2_tr.shape"
   ]
  },
  {
   "cell_type": "code",
   "execution_count": null,
   "metadata": {},
   "outputs": [],
   "source": []
  },
  {
   "cell_type": "markdown",
   "metadata": {
    "tags": []
   },
   "source": [
    "## Model 8"
   ]
  },
  {
   "cell_type": "code",
   "execution_count": 12,
   "metadata": {},
   "outputs": [],
   "source": [
    "# os.environ[\"CUDA_VISIBLE_DEVICES\"] "
   ]
  },
  {
   "cell_type": "code",
   "execution_count": 13,
   "metadata": {},
   "outputs": [
    {
     "name": "stdout",
     "output_type": "stream",
     "text": [
      "Num GPUs Available:  1\n"
     ]
    }
   ],
   "source": [
    "print(\"Num GPUs Available: \", len(tf.config.experimental.list_physical_devices('GPU')))"
   ]
  },
  {
   "cell_type": "code",
   "execution_count": 14,
   "metadata": {},
   "outputs": [
    {
     "name": "stdout",
     "output_type": "stream",
     "text": [
      "Model: \"functional_1\"\n",
      "__________________________________________________________________________________________________\n",
      "Layer (type)                    Output Shape         Param #     Connected to                     \n",
      "==================================================================================================\n",
      "input_1 (InputLayer)            [(None, 15, 3)]      0                                            \n",
      "__________________________________________________________________________________________________\n",
      "lstm (LSTM)                     (None, 15, 256)      266240      input_1[0][0]                    \n",
      "__________________________________________________________________________________________________\n",
      "lstm_1 (LSTM)                   (None, 15, 128)      197120      lstm[0][0]                       \n",
      "__________________________________________________________________________________________________\n",
      "lstm_2 (LSTM)                   (None, 64)           49408       lstm_1[0][0]                     \n",
      "__________________________________________________________________________________________________\n",
      "dense (Dense)                   (None, 32)           2080        lstm_2[0][0]                     \n",
      "__________________________________________________________________________________________________\n",
      "dense_1 (Dense)                 (None, 16)           528         dense[0][0]                      \n",
      "__________________________________________________________________________________________________\n",
      "input_2 (InputLayer)            [(None, 2)]          0                                            \n",
      "__________________________________________________________________________________________________\n",
      "dense_2 (Dense)                 (None, 8)            136         dense_1[0][0]                    \n",
      "__________________________________________________________________________________________________\n",
      "dense_4 (Dense)                 (None, 8)            24          input_2[0][0]                    \n",
      "__________________________________________________________________________________________________\n",
      "dense_3 (Dense)                 (None, 4)            36          dense_2[0][0]                    \n",
      "__________________________________________________________________________________________________\n",
      "dense_5 (Dense)                 (None, 4)            36          dense_4[0][0]                    \n",
      "__________________________________________________________________________________________________\n",
      "concatenate (Concatenate)       (None, 8)            0           dense_3[0][0]                    \n",
      "                                                                 dense_5[0][0]                    \n",
      "__________________________________________________________________________________________________\n",
      "dense_6 (Dense)                 (None, 8)            72          concatenate[0][0]                \n",
      "__________________________________________________________________________________________________\n",
      "dense_7 (Dense)                 (None, 8)            72          dense_6[0][0]                    \n",
      "__________________________________________________________________________________________________\n",
      "dense_8 (Dense)                 (None, 4)            36          dense_7[0][0]                    \n",
      "__________________________________________________________________________________________________\n",
      "dense_9 (Dense)                 (None, 1)            5           dense_8[0][0]                    \n",
      "==================================================================================================\n",
      "Total params: 515,793\n",
      "Trainable params: 515,793\n",
      "Non-trainable params: 0\n",
      "__________________________________________________________________________________________________\n"
     ]
    }
   ],
   "source": [
    "input1 = Input(shape=(SEQ,3))\n",
    "x1 = LSTM(256, input_shape=(SEQ, 3), return_sequences=True)(input1)\n",
    "x1 = LSTM(128, return_sequences=True)(x1)\n",
    "x1 = LSTM(64)(x1)\n",
    "x1 = Dense(32, activation='relu')(x1)\n",
    "x1 = Dense(16, activation='relu')(x1)\n",
    "x1 = Dense(8, activation='relu')(x1)\n",
    "x1 = Dense(4, activation='relu')(x1)\n",
    "\n",
    "input2 = Input(shape=(2,))\n",
    "x2 = Dense(8, activation='relu')(input2)\n",
    "x2 = Dense(4, activation='relu')(x2)\n",
    "\n",
    "input = Concatenate()([x1, x2])\n",
    "x = Dense(8, activation='relu')(input)\n",
    "x = Dense(8, activation='relu')(x)\n",
    "x = Dense(4, activation='linear')(x)\n",
    "x = Dense(1, activation='linear')(x)\n",
    "mod_ts = Model(inputs=[input1, input2], outputs=x)\n",
    "mod_ts.summary()"
   ]
  },
  {
   "cell_type": "code",
   "execution_count": 15,
   "metadata": {},
   "outputs": [],
   "source": [
    "# tf.keras.utils.plot_model(mod_ts)"
   ]
  },
  {
   "cell_type": "code",
   "execution_count": null,
   "metadata": {},
   "outputs": [],
   "source": []
  },
  {
   "cell_type": "code",
   "execution_count": 16,
   "metadata": {},
   "outputs": [],
   "source": [
    "early_stop = keras.callbacks.EarlyStopping(\n",
    "        monitor='val_loss',mode='min', patience=6) \n",
    "\n",
    "check_p = keras.callbacks.ModelCheckpoint(\n",
    "        filepath=PATH_MODEL+'ws_data_model8_iter3.h5',\n",
    "        monitor='val_loss',\n",
    "        mode='min',\n",
    "        save_best_only=True)\n",
    "\n",
    "opt = tf.keras.optimizers.Adam(learning_rate=0.00075)\n",
    "\n",
    "mod_ts.compile(loss='mean_squared_error', optimizer=opt, metrics=[\n",
    "        tf.keras.metrics.RootMeanSquaredError(name='the_rmse'),\n",
    "        tf.keras.metrics.MeanAbsolutePercentageError(name='the_mape'),\n",
    "    ])"
   ]
  },
  {
   "cell_type": "code",
   "execution_count": null,
   "metadata": {},
   "outputs": [],
   "source": []
  },
  {
   "cell_type": "code",
   "execution_count": 17,
   "metadata": {},
   "outputs": [
    {
     "name": "stdout",
     "output_type": "stream",
     "text": [
      "Epoch 1/50\n",
      "1812/1812 [==============================] - 34s 19ms/step - loss: 0.7125 - the_rmse: 0.8441 - the_mape: 157587.5000 - val_loss: 0.6039 - val_the_rmse: 0.7771 - val_the_mape: 99344.0156\n",
      "Epoch 2/50\n",
      "1812/1812 [==============================] - 33s 18ms/step - loss: 0.5404 - the_rmse: 0.7351 - the_mape: 140359.3125 - val_loss: 0.5388 - val_the_rmse: 0.7340 - val_the_mape: 160023.1406\n",
      "Epoch 3/50\n",
      "1812/1812 [==============================] - 34s 19ms/step - loss: 0.5024 - the_rmse: 0.7088 - the_mape: 112728.7344 - val_loss: 0.4918 - val_the_rmse: 0.7013 - val_the_mape: 171686.4219\n",
      "Epoch 4/50\n",
      "1812/1812 [==============================] - 34s 19ms/step - loss: 0.4851 - the_rmse: 0.6965 - the_mape: 100896.3750 - val_loss: 0.4787 - val_the_rmse: 0.6919 - val_the_mape: 77629.8594\n",
      "Epoch 5/50\n",
      "1812/1812 [==============================] - 34s 19ms/step - loss: 0.4729 - the_rmse: 0.6877 - the_mape: 89075.7891 - val_loss: 0.4723 - val_the_rmse: 0.6872 - val_the_mape: 135717.2344\n",
      "Epoch 6/50\n",
      "1812/1812 [==============================] - 34s 19ms/step - loss: 0.4629 - the_rmse: 0.6804 - the_mape: 90812.9453 - val_loss: 0.4704 - val_the_rmse: 0.6858 - val_the_mape: 119189.0078\n",
      "Epoch 7/50\n",
      "1812/1812 [==============================] - 34s 19ms/step - loss: 0.4531 - the_rmse: 0.6732 - the_mape: 92756.8828 - val_loss: 0.4684 - val_the_rmse: 0.6844 - val_the_mape: 166407.1094\n",
      "Epoch 8/50\n",
      "1812/1812 [==============================] - 33s 18ms/step - loss: 0.4460 - the_rmse: 0.6679 - the_mape: 94772.0391 - val_loss: 0.4645 - val_the_rmse: 0.6816 - val_the_mape: 116528.9062\n",
      "Epoch 9/50\n",
      "1812/1812 [==============================] - 33s 18ms/step - loss: 0.4380 - the_rmse: 0.6618 - the_mape: 97090.6719 - val_loss: 0.4674 - val_the_rmse: 0.6836 - val_the_mape: 77656.1484\n",
      "Epoch 10/50\n",
      "1812/1812 [==============================] - 34s 19ms/step - loss: 0.4284 - the_rmse: 0.6545 - the_mape: 85477.8516 - val_loss: 0.4748 - val_the_rmse: 0.6891 - val_the_mape: 95430.2812\n",
      "Epoch 11/50\n",
      "1812/1812 [==============================] - 35s 19ms/step - loss: 0.4199 - the_rmse: 0.6480 - the_mape: 95603.3516 - val_loss: 0.4624 - val_the_rmse: 0.6800 - val_the_mape: 112710.9453\n",
      "Epoch 12/50\n",
      "1812/1812 [==============================] - 35s 20ms/step - loss: 0.4123 - the_rmse: 0.6421 - the_mape: 101232.6328 - val_loss: 0.4595 - val_the_rmse: 0.6779 - val_the_mape: 96090.9219\n",
      "Epoch 13/50\n",
      "1812/1812 [==============================] - 35s 19ms/step - loss: 0.4014 - the_rmse: 0.6336 - the_mape: 91707.7188 - val_loss: 0.4679 - val_the_rmse: 0.6840 - val_the_mape: 114520.6953\n",
      "Epoch 14/50\n",
      "1812/1812 [==============================] - 35s 19ms/step - loss: 0.3928 - the_rmse: 0.6267 - the_mape: 91710.5781 - val_loss: 0.4650 - val_the_rmse: 0.6819 - val_the_mape: 93840.0938\n",
      "Epoch 15/50\n",
      "1812/1812 [==============================] - 35s 19ms/step - loss: 0.3836 - the_rmse: 0.6193 - the_mape: 82799.7500 - val_loss: 0.4686 - val_the_rmse: 0.6846 - val_the_mape: 89694.9062\n",
      "Epoch 16/50\n",
      "1812/1812 [==============================] - 34s 19ms/step - loss: 0.3748 - the_rmse: 0.6122 - the_mape: 83924.5703 - val_loss: 0.4656 - val_the_rmse: 0.6823 - val_the_mape: 164711.3125\n",
      "Epoch 17/50\n",
      "1812/1812 [==============================] - 34s 19ms/step - loss: 0.3670 - the_rmse: 0.6058 - the_mape: 85029.5469 - val_loss: 0.4699 - val_the_rmse: 0.6855 - val_the_mape: 106148.4766\n",
      "Epoch 18/50\n",
      "1812/1812 [==============================] - 34s 19ms/step - loss: 0.3573 - the_rmse: 0.5977 - the_mape: 110120.1172 - val_loss: 0.4736 - val_the_rmse: 0.6882 - val_the_mape: 131096.9219\n"
     ]
    }
   ],
   "source": [
    "history = mod_ts.fit(\n",
    "    [x_train,x2_train],\n",
    "    y_train,\n",
    "    batch_size=128,\n",
    "    epochs=50,\n",
    "    \n",
    "    validation_data=([x_val,x2_val], y_val),\n",
    "    callbacks=[early_stop,check_p]\n",
    ")"
   ]
  },
  {
   "cell_type": "code",
   "execution_count": null,
   "metadata": {},
   "outputs": [],
   "source": []
  },
  {
   "cell_type": "code",
   "execution_count": null,
   "metadata": {},
   "outputs": [],
   "source": []
  },
  {
   "cell_type": "markdown",
   "metadata": {},
   "source": [
    "## Eval"
   ]
  },
  {
   "cell_type": "code",
   "execution_count": 18,
   "metadata": {},
   "outputs": [
    {
     "data": {
      "text/plain": [
       "<AxesSubplot:>"
      ]
     },
     "execution_count": 18,
     "metadata": {},
     "output_type": "execute_result"
    },
    {
     "data": {
      "image/png": "[encoded data removed]",
      "text/plain": [
       "<Figure size 432x288 with 1 Axes>"
      ]
     },
     "metadata": {
      "needs_background": "light"
     },
     "output_type": "display_data"
    }
   ],
   "source": [
    "df_epoch_hist = pd.DataFrame(history.history)\n",
    "df_epoch_hist[['loss','val_loss']].plot()"
   ]
  },
  {
   "cell_type": "code",
   "execution_count": null,
   "metadata": {},
   "outputs": [],
   "source": []
  },
  {
   "cell_type": "code",
   "execution_count": 19,
   "metadata": {},
   "outputs": [],
   "source": [
    "# depd = {'auc_1' : metrics.AUC}\n",
    "model_load = load_model(PATH_MODEL + 'ws_data_model8_iter3.h5',compile=False)"
   ]
  },
  {
   "cell_type": "code",
   "execution_count": 20,
   "metadata": {},
   "outputs": [
    {
     "name": "stdout",
     "output_type": "stream",
     "text": [
      "Model: \"functional_1\"\n",
      "__________________________________________________________________________________________________\n",
      "Layer (type)                    Output Shape         Param #     Connected to                     \n",
      "==================================================================================================\n",
      "input_1 (InputLayer)            [(None, 15, 3)]      0                                            \n",
      "__________________________________________________________________________________________________\n",
      "lstm (LSTM)                     (None, 15, 256)      266240      input_1[0][0]                    \n",
      "__________________________________________________________________________________________________\n",
      "lstm_1 (LSTM)                   (None, 15, 128)      197120      lstm[0][0]                       \n",
      "__________________________________________________________________________________________________\n",
      "lstm_2 (LSTM)                   (None, 64)           49408       lstm_1[0][0]                     \n",
      "__________________________________________________________________________________________________\n",
      "dense (Dense)                   (None, 32)           2080        lstm_2[0][0]                     \n",
      "__________________________________________________________________________________________________\n",
      "dense_1 (Dense)                 (None, 16)           528         dense[0][0]                      \n",
      "__________________________________________________________________________________________________\n",
      "input_2 (InputLayer)            [(None, 2)]          0                                            \n",
      "__________________________________________________________________________________________________\n",
      "dense_2 (Dense)                 (None, 8)            136         dense_1[0][0]                    \n",
      "__________________________________________________________________________________________________\n",
      "dense_4 (Dense)                 (None, 8)            24          input_2[0][0]                    \n",
      "__________________________________________________________________________________________________\n",
      "dense_3 (Dense)                 (None, 4)            36          dense_2[0][0]                    \n",
      "__________________________________________________________________________________________________\n",
      "dense_5 (Dense)                 (None, 4)            36          dense_4[0][0]                    \n",
      "__________________________________________________________________________________________________\n",
      "concatenate (Concatenate)       (None, 8)            0           dense_3[0][0]                    \n",
      "                                                                 dense_5[0][0]                    \n",
      "__________________________________________________________________________________________________\n",
      "dense_6 (Dense)                 (None, 8)            72          concatenate[0][0]                \n",
      "__________________________________________________________________________________________________\n",
      "dense_7 (Dense)                 (None, 8)            72          dense_6[0][0]                    \n",
      "__________________________________________________________________________________________________\n",
      "dense_8 (Dense)                 (None, 4)            36          dense_7[0][0]                    \n",
      "__________________________________________________________________________________________________\n",
      "dense_9 (Dense)                 (None, 1)            5           dense_8[0][0]                    \n",
      "==================================================================================================\n",
      "Total params: 515,793\n",
      "Trainable params: 515,793\n",
      "Non-trainable params: 0\n",
      "__________________________________________________________________________________________________\n"
     ]
    }
   ],
   "source": [
    "model_load.summary()"
   ]
  },
  {
   "cell_type": "code",
   "execution_count": 21,
   "metadata": {},
   "outputs": [],
   "source": [
    "model_load.compile(loss='mean_squared_error', optimizer=opt, metrics=[\n",
    "        tf.keras.metrics.RootMeanSquaredError(name='the_rmse'),\n",
    "        tf.keras.metrics.MeanAbsolutePercentageError(name='the_mape'),\n",
    "    ])"
   ]
  },
  {
   "cell_type": "code",
   "execution_count": 22,
   "metadata": {},
   "outputs": [
    {
     "name": "stdout",
     "output_type": "stream",
     "text": [
      "3019/3019 [==============================] - 21s 7ms/step - loss: 0.4683 - the_rmse: 0.6844 - the_mape: 91401.7266\n"
     ]
    },
    {
     "data": {
      "text/plain": [
       "[0.4683466851711273, 0.6843585968017578, 91401.7265625]"
      ]
     },
     "execution_count": 22,
     "metadata": {},
     "output_type": "execute_result"
    }
   ],
   "source": [
    "model_load.evaluate([x_test,x2_test],y_test)"
   ]
  },
  {
   "cell_type": "code",
   "execution_count": 23,
   "metadata": {},
   "outputs": [
    {
     "name": "stdout",
     "output_type": "stream",
     "text": [
      "1250/1250 [==============================] - 7s 6ms/step - loss: 0.4337 - the_rmse: 0.6585 - the_mape: 104969.5625\n"
     ]
    },
    {
     "data": {
      "text/plain": [
       "[0.43367719650268555, 0.658541738986969, 104969.5625]"
      ]
     },
     "execution_count": 23,
     "metadata": {},
     "output_type": "execute_result"
    }
   ],
   "source": [
    "model_load.evaluate([Xo,Xo2],yo)"
   ]
  },
  {
   "cell_type": "code",
   "execution_count": null,
   "metadata": {},
   "outputs": [],
   "source": []
  }
 ],
 "metadata": {
  "kernelspec": {
   "display_name": "Python 3.7.10 ('droid1')",
   "language": "python",
   "name": "python3"
  },
  "language_info": {
   "codemirror_mode": {
    "name": "ipython",
    "version": 3
   },
   "file_extension": ".py",
   "mimetype": "text/x-python",
   "name": "python",
   "nbconvert_exporter": "python",
   "pygments_lexer": "ipython3",
   "version": "3.7.10"
  },
  "vscode": {
   "interpreter": {
    "hash": "cfaee8345a7381c4d4eb2d178d3529454f9688cb724b599027e029325603d2a6"
   }
  }
 },
 "nbformat": 4,
 "nbformat_minor": 4
}
