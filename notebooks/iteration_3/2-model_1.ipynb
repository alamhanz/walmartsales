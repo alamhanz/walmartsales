{
 "cells": [
  {
   "cell_type": "markdown",
   "metadata": {},
   "source": [
    "[20220922]\n",
    "\n",
    "# 2. Model 1\n",
    "\n",
    "After Preparation ready. Build and train the model in here. its using LSTM one layer. with data gen1"
   ]
  },
  {
   "cell_type": "markdown",
   "metadata": {},
   "source": [
    "## Goal\n",
    "Find patterns on the features for target\n",
    "\n",
    "## Plan\n",
    "Checklist what will be done on the notebook :\n",
    "\n",
    "        [ ] Get Data\n",
    "        [ ] Modelling\n",
    "        [ ] Evaluation"
   ]
  },
  {
   "cell_type": "code",
   "execution_count": 1,
   "metadata": {},
   "outputs": [],
   "source": [
    "import yaml\n",
    "import pandas as pd\n",
    "import matplotlib.pyplot as plt\n",
    "import os\n",
    "import joblib\n",
    "from statsmodels.tsa.arima.model import ARIMA\n",
    "import sys\n",
    "sys.path.insert(1,'../../src/')\n",
    "\n",
    "## import myfunc inside src folder\n",
    "from ramal import eval_model, jampi"
   ]
  },
  {
   "cell_type": "code",
   "execution_count": 2,
   "metadata": {},
   "outputs": [
    {
     "name": "stderr",
     "output_type": "stream",
     "text": [
      "2022-09-25 01:57:44.563954: W tensorflow/stream_executor/platform/default/dso_loader.cc:64] Could not load dynamic library 'libcudart.so.11.0'; dlerror: libcudart.so.11.0: cannot open shared object file: No such file or directory\n",
      "2022-09-25 01:57:44.564018: I tensorflow/stream_executor/cuda/cudart_stub.cc:29] Ignore above cudart dlerror if you do not have a GPU set up on your machine.\n",
      "/usr/local/lib/python3.7/site-packages/requests/__init__.py:104: RequestsDependencyWarning: urllib3 (1.26.11) or chardet (5.0.0)/charset_normalizer (2.0.12) doesn't match a supported version!\n",
      "  RequestsDependencyWarning)\n"
     ]
    }
   ],
   "source": [
    "from keras.models import Sequential\n",
    "from keras.layers import LSTM, Dropout, Flatten, Dense\n",
    "from keras.preprocessing.image import ImageDataGenerator\n",
    "from keras import metrics, optimizers\n",
    "import keras\n",
    "import tensorflow as tf\n",
    "from keras.models import load_model\n",
    "\n",
    "from sklearn.model_selection import train_test_split"
   ]
  },
  {
   "cell_type": "code",
   "execution_count": 3,
   "metadata": {},
   "outputs": [],
   "source": [
    "with open(\"../../config.yaml\", \"r\") as f:\n",
    "    config = yaml.load(f, Loader=yaml.FullLoader)\n",
    "\n",
    "PATH_RAW = config['path']['raw']\n",
    "PATH_INTERIM = config['path']['interim']\n",
    "PATH_PROCESSED = config['path']['processed']\n",
    "# PATH_MODEL = config['path']['artifact']+os.getcwd().split('\\\\')[-1]+'/'\n",
    "PATH_MODEL = config['path']['artifact']+'iteration_3'+'/'\n",
    "PATH_UDF = config['path']['udf']"
   ]
  },
  {
   "cell_type": "markdown",
   "metadata": {},
   "source": [
    "## Get Data"
   ]
  },
  {
   "cell_type": "code",
   "execution_count": 4,
   "metadata": {},
   "outputs": [],
   "source": [
    "Xt, yt, Xo, yo = joblib.load(PATH_INTERIM+'feat_target_gen1_iter3.pkl')\n",
    "Xt = Xt.astype(\"float32\")\n",
    "yt = yt.astype(\"float32\")\n",
    "\n",
    "Xo = Xo.astype(\"float32\")\n",
    "yo = yo.astype(\"float32\")"
   ]
  },
  {
   "cell_type": "code",
   "execution_count": 5,
   "metadata": {},
   "outputs": [
    {
     "data": {
      "text/plain": [
       "(443023, 5, 1)"
      ]
     },
     "execution_count": 5,
     "metadata": {},
     "output_type": "execute_result"
    }
   ],
   "source": [
    "Xt.shape"
   ]
  },
  {
   "cell_type": "code",
   "execution_count": 6,
   "metadata": {},
   "outputs": [
    {
     "data": {
      "text/plain": [
       "(443023, 1)"
      ]
     },
     "execution_count": 6,
     "metadata": {},
     "output_type": "execute_result"
    }
   ],
   "source": [
    "yt.shape"
   ]
  },
  {
   "cell_type": "code",
   "execution_count": 7,
   "metadata": {},
   "outputs": [],
   "source": [
    "SEQ = Xt.shape[1]"
   ]
  },
  {
   "cell_type": "code",
   "execution_count": 8,
   "metadata": {},
   "outputs": [],
   "source": [
    "## not the best way to split time series dataset\n",
    "x_tr, x_test, y_tr, y_test = train_test_split(\n",
    "    Xt, yt, test_size=0.25, random_state=42)\n",
    "\n",
    "x_train, x_val, y_train, y_val = train_test_split(\n",
    "    x_tr, y_tr, test_size=0.2, random_state=42)"
   ]
  },
  {
   "cell_type": "code",
   "execution_count": 9,
   "metadata": {},
   "outputs": [
    {
     "data": {
      "text/plain": [
       "((16655, 5, 1), (16655, 1))"
      ]
     },
     "execution_count": 9,
     "metadata": {},
     "output_type": "execute_result"
    }
   ],
   "source": [
    "Xo.shape,yo.shape"
   ]
  },
  {
   "cell_type": "code",
   "execution_count": null,
   "metadata": {},
   "outputs": [],
   "source": []
  },
  {
   "cell_type": "markdown",
   "metadata": {
    "tags": []
   },
   "source": [
    "## Model 1"
   ]
  },
  {
   "cell_type": "code",
   "execution_count": 10,
   "metadata": {},
   "outputs": [],
   "source": [
    "# os.environ[\"CUDA_VISIBLE_DEVICES\"] "
   ]
  },
  {
   "cell_type": "code",
   "execution_count": 11,
   "metadata": {},
   "outputs": [
    {
     "name": "stdout",
     "output_type": "stream",
     "text": [
      "Num GPUs Available:  0\n"
     ]
    },
    {
     "name": "stderr",
     "output_type": "stream",
     "text": [
      "2022-09-25 01:57:53.625241: W tensorflow/stream_executor/platform/default/dso_loader.cc:64] Could not load dynamic library 'libcuda.so.1'; dlerror: libcuda.so.1: cannot open shared object file: No such file or directory\n",
      "2022-09-25 01:57:53.625288: W tensorflow/stream_executor/cuda/cuda_driver.cc:269] failed call to cuInit: UNKNOWN ERROR (303)\n",
      "2022-09-25 01:57:53.625304: I tensorflow/stream_executor/cuda/cuda_diagnostics.cc:156] kernel driver does not appear to be running on this host (62cd00eaf0b9): /proc/driver/nvidia/version does not exist\n"
     ]
    }
   ],
   "source": [
    "print(\"Num GPUs Available: \", len(tf.config.experimental.list_physical_devices('GPU')))"
   ]
  },
  {
   "cell_type": "code",
   "execution_count": 12,
   "metadata": {},
   "outputs": [
    {
     "name": "stderr",
     "output_type": "stream",
     "text": [
      "2022-09-25 01:57:54.145280: I tensorflow/core/platform/cpu_feature_guard.cc:151] This TensorFlow binary is optimized with oneAPI Deep Neural Network Library (oneDNN) to use the following CPU instructions in performance-critical operations:  AVX2 FMA\n",
      "To enable them in other operations, rebuild TensorFlow with the appropriate compiler flags.\n"
     ]
    }
   ],
   "source": [
    "mod_ts = Sequential()\n",
    "# mod_ts.add(LSTM(5, input_shape=(SEQ, 1)))\n",
    "mod_ts.add(LSTM(128, input_shape=(SEQ, 1), return_sequences=True))\n",
    "mod_ts.add(LSTM(64))\n",
    "# mod_ts.add(LSTM(8))\n",
    "mod_ts.add(Dense(32))\n",
    "mod_ts.add(Dense(16))\n",
    "mod_ts.add(Dense(1))\n"
   ]
  },
  {
   "cell_type": "code",
   "execution_count": 13,
   "metadata": {},
   "outputs": [],
   "source": [
    "early_stop = keras.callbacks.EarlyStopping(\n",
    "        monitor='val_loss',mode='min', patience=6) \n",
    "\n",
    "check_p = keras.callbacks.ModelCheckpoint(\n",
    "        filepath=PATH_MODEL+'ws_data_model1_iter3.h5',\n",
    "        monitor='val_loss',\n",
    "        mode='min',\n",
    "        save_best_only=True)\n",
    "\n",
    "opt = tf.keras.optimizers.Adam(learning_rate=0.00065)\n",
    "\n",
    "mod_ts.compile(loss='mean_squared_error', optimizer=opt, metrics=[\n",
    "        tf.keras.metrics.RootMeanSquaredError(name='the_rmse'),\n",
    "        tf.keras.metrics.MeanAbsolutePercentageError(name='the_mape'),\n",
    "    ])"
   ]
  },
  {
   "cell_type": "code",
   "execution_count": null,
   "metadata": {},
   "outputs": [],
   "source": []
  },
  {
   "cell_type": "code",
   "execution_count": 14,
   "metadata": {},
   "outputs": [
    {
     "name": "stdout",
     "output_type": "stream",
     "text": [
      "Epoch 1/50\n",
      "2077/2077 [==============================] - 53s 24ms/step - loss: 0.6656 - the_rmse: 0.8158 - the_mape: 80799.2891 - val_loss: 0.6489 - val_the_rmse: 0.8055 - val_the_mape: 111996.8438\n",
      "Epoch 2/50\n",
      "2077/2077 [==============================] - 50s 24ms/step - loss: 0.6331 - the_rmse: 0.7957 - the_mape: 60686.6406 - val_loss: 0.6355 - val_the_rmse: 0.7972 - val_the_mape: 69996.7891\n",
      "Epoch 3/50\n",
      "2077/2077 [==============================] - 49s 24ms/step - loss: 0.6231 - the_rmse: 0.7894 - the_mape: 45113.7070 - val_loss: 0.6224 - val_the_rmse: 0.7889 - val_the_mape: 50092.8516\n",
      "Epoch 4/50\n",
      "2077/2077 [==============================] - 52s 25ms/step - loss: 0.6189 - the_rmse: 0.7867 - the_mape: 42411.9492 - val_loss: 0.6271 - val_the_rmse: 0.7919 - val_the_mape: 29261.3516\n",
      "Epoch 5/50\n",
      "2077/2077 [==============================] - 52s 25ms/step - loss: 0.6168 - the_rmse: 0.7854 - the_mape: 40950.5430 - val_loss: 0.6192 - val_the_rmse: 0.7869 - val_the_mape: 39209.3867\n",
      "Epoch 6/50\n",
      "2077/2077 [==============================] - 52s 25ms/step - loss: 0.6155 - the_rmse: 0.7846 - the_mape: 45037.3555 - val_loss: 0.6173 - val_the_rmse: 0.7857 - val_the_mape: 30875.8457\n",
      "Epoch 7/50\n",
      "2077/2077 [==============================] - 48s 23ms/step - loss: 0.6146 - the_rmse: 0.7840 - the_mape: 36554.4609 - val_loss: 0.6174 - val_the_rmse: 0.7857 - val_the_mape: 54176.6914\n",
      "Epoch 8/50\n",
      "2077/2077 [==============================] - 44s 21ms/step - loss: 0.6134 - the_rmse: 0.7832 - the_mape: 36816.3047 - val_loss: 0.6162 - val_the_rmse: 0.7850 - val_the_mape: 33594.5938\n",
      "Epoch 9/50\n",
      "2077/2077 [==============================] - 50s 24ms/step - loss: 0.6125 - the_rmse: 0.7826 - the_mape: 35997.6602 - val_loss: 0.6180 - val_the_rmse: 0.7862 - val_the_mape: 30283.2910\n",
      "Epoch 10/50\n",
      "2077/2077 [==============================] - 50s 24ms/step - loss: 0.6115 - the_rmse: 0.7820 - the_mape: 32308.9336 - val_loss: 0.6162 - val_the_rmse: 0.7850 - val_the_mape: 22357.1582\n",
      "Epoch 11/50\n",
      "2077/2077 [==============================] - 47s 22ms/step - loss: 0.6109 - the_rmse: 0.7816 - the_mape: 32985.6016 - val_loss: 0.6156 - val_the_rmse: 0.7846 - val_the_mape: 25748.5625\n",
      "Epoch 12/50\n",
      "2077/2077 [==============================] - 45s 22ms/step - loss: 0.6103 - the_rmse: 0.7812 - the_mape: 35689.2500 - val_loss: 0.6158 - val_the_rmse: 0.7847 - val_the_mape: 26523.6758\n",
      "Epoch 13/50\n",
      "2077/2077 [==============================] - 50s 24ms/step - loss: 0.6097 - the_rmse: 0.7809 - the_mape: 32869.2109 - val_loss: 0.6153 - val_the_rmse: 0.7844 - val_the_mape: 67280.9688\n",
      "Epoch 14/50\n",
      "2077/2077 [==============================] - 51s 24ms/step - loss: 0.6090 - the_rmse: 0.7804 - the_mape: 31947.8105 - val_loss: 0.6154 - val_the_rmse: 0.7845 - val_the_mape: 52853.9180\n",
      "Epoch 15/50\n",
      "2077/2077 [==============================] - 51s 25ms/step - loss: 0.6080 - the_rmse: 0.7798 - the_mape: 32862.0273 - val_loss: 0.6136 - val_the_rmse: 0.7833 - val_the_mape: 39634.2500\n",
      "Epoch 16/50\n",
      "2077/2077 [==============================] - 50s 24ms/step - loss: 0.6075 - the_rmse: 0.7794 - the_mape: 33932.7969 - val_loss: 0.6146 - val_the_rmse: 0.7839 - val_the_mape: 16863.7637\n",
      "Epoch 17/50\n",
      "2077/2077 [==============================] - 51s 24ms/step - loss: 0.6070 - the_rmse: 0.7791 - the_mape: 33757.1523 - val_loss: 0.6133 - val_the_rmse: 0.7831 - val_the_mape: 49343.4102\n",
      "Epoch 18/50\n",
      "2077/2077 [==============================] - 52s 25ms/step - loss: 0.6062 - the_rmse: 0.7786 - the_mape: 29748.3574 - val_loss: 0.6132 - val_the_rmse: 0.7830 - val_the_mape: 48619.0039\n",
      "Epoch 19/50\n",
      "2077/2077 [==============================] - 50s 24ms/step - loss: 0.6060 - the_rmse: 0.7785 - the_mape: 29956.0117 - val_loss: 0.6128 - val_the_rmse: 0.7828 - val_the_mape: 64591.6094\n",
      "Epoch 20/50\n",
      "2077/2077 [==============================] - 45s 21ms/step - loss: 0.6055 - the_rmse: 0.7781 - the_mape: 38523.3047 - val_loss: 0.6132 - val_the_rmse: 0.7831 - val_the_mape: 13252.2598\n",
      "Epoch 21/50\n",
      "2077/2077 [==============================] - 46s 22ms/step - loss: 0.6046 - the_rmse: 0.7775 - the_mape: 34027.1445 - val_loss: 0.6127 - val_the_rmse: 0.7827 - val_the_mape: 45837.3594\n",
      "Epoch 22/50\n",
      "2077/2077 [==============================] - 50s 24ms/step - loss: 0.6040 - the_rmse: 0.7772 - the_mape: 26990.9062 - val_loss: 0.6128 - val_the_rmse: 0.7828 - val_the_mape: 36227.6914\n",
      "Epoch 23/50\n",
      "2077/2077 [==============================] - 45s 21ms/step - loss: 0.6031 - the_rmse: 0.7766 - the_mape: 33925.4961 - val_loss: 0.6142 - val_the_rmse: 0.7837 - val_the_mape: 56999.5312\n",
      "Epoch 24/50\n",
      "2077/2077 [==============================] - 49s 24ms/step - loss: 0.6027 - the_rmse: 0.7764 - the_mape: 31266.3340 - val_loss: 0.6116 - val_the_rmse: 0.7821 - val_the_mape: 42421.6016\n",
      "Epoch 25/50\n",
      "2077/2077 [==============================] - 52s 25ms/step - loss: 0.6018 - the_rmse: 0.7757 - the_mape: 30667.0586 - val_loss: 0.6143 - val_the_rmse: 0.7837 - val_the_mape: 30443.7617\n",
      "Epoch 26/50\n",
      "2077/2077 [==============================] - 51s 24ms/step - loss: 0.6012 - the_rmse: 0.7754 - the_mape: 28694.4863 - val_loss: 0.6127 - val_the_rmse: 0.7828 - val_the_mape: 11267.4668\n",
      "Epoch 27/50\n",
      "2077/2077 [==============================] - 52s 25ms/step - loss: 0.6004 - the_rmse: 0.7749 - the_mape: 28685.8828 - val_loss: 0.6127 - val_the_rmse: 0.7827 - val_the_mape: 22231.9414\n",
      "Epoch 28/50\n",
      "2077/2077 [==============================] - 47s 23ms/step - loss: 0.5992 - the_rmse: 0.7741 - the_mape: 29225.6465 - val_loss: 0.6130 - val_the_rmse: 0.7830 - val_the_mape: 34623.2227\n",
      "Epoch 29/50\n",
      "2077/2077 [==============================] - 48s 23ms/step - loss: 0.5990 - the_rmse: 0.7739 - the_mape: 30480.4668 - val_loss: 0.6137 - val_the_rmse: 0.7834 - val_the_mape: 40026.5273\n",
      "Epoch 30/50\n",
      "2077/2077 [==============================] - 50s 24ms/step - loss: 0.5979 - the_rmse: 0.7732 - the_mape: 28478.6680 - val_loss: 0.6159 - val_the_rmse: 0.7848 - val_the_mape: 74853.5078\n"
     ]
    }
   ],
   "source": [
    "history = mod_ts.fit(\n",
    "    x_train,\n",
    "    y_train,\n",
    "    batch_size=128,\n",
    "    epochs=50,\n",
    "    # We pass some validation for\n",
    "    # monitoring validation loss and metrics\n",
    "    # at the end of each epoch\n",
    "    validation_data=(x_val, y_val),\n",
    "    callbacks=[early_stop,check_p]\n",
    ")"
   ]
  },
  {
   "cell_type": "code",
   "execution_count": null,
   "metadata": {},
   "outputs": [],
   "source": []
  },
  {
   "cell_type": "code",
   "execution_count": null,
   "metadata": {},
   "outputs": [],
   "source": []
  },
  {
   "cell_type": "markdown",
   "metadata": {},
   "source": [
    "## Eval"
   ]
  },
  {
   "cell_type": "code",
   "execution_count": 15,
   "metadata": {},
   "outputs": [
    {
     "data": {
      "text/plain": [
       "<AxesSubplot:>"
      ]
     },
     "execution_count": 15,
     "metadata": {},
     "output_type": "execute_result"
    },
    {
     "data": {
      "image/png": "[encoded data removed]",
      "text/plain": [
       "<Figure size 432x288 with 1 Axes>"
      ]
     },
     "metadata": {
      "needs_background": "light"
     },
     "output_type": "display_data"
    }
   ],
   "source": [
    "df_epoch_hist = pd.DataFrame(history.history)\n",
    "df_epoch_hist[['loss','val_loss']].plot()"
   ]
  },
  {
   "cell_type": "code",
   "execution_count": null,
   "metadata": {},
   "outputs": [],
   "source": []
  },
  {
   "cell_type": "code",
   "execution_count": 16,
   "metadata": {},
   "outputs": [],
   "source": [
    "# depd = {'auc_1' : metrics.AUC}\n",
    "model_load = load_model(PATH_MODEL + 'ws_data_model1_iter3.h5',compile=False)"
   ]
  },
  {
   "cell_type": "code",
   "execution_count": 17,
   "metadata": {},
   "outputs": [
    {
     "name": "stdout",
     "output_type": "stream",
     "text": [
      "Model: \"sequential\"\n",
      "_________________________________________________________________\n",
      " Layer (type)                Output Shape              Param #   \n",
      "=================================================================\n",
      " lstm (LSTM)                 (None, 5, 128)            66560     \n",
      "                                                                 \n",
      " lstm_1 (LSTM)               (None, 64)                49408     \n",
      "                                                                 \n",
      " dense (Dense)               (None, 32)                2080      \n",
      "                                                                 \n",
      " dense_1 (Dense)             (None, 16)                528       \n",
      "                                                                 \n",
      " dense_2 (Dense)             (None, 1)                 17        \n",
      "                                                                 \n",
      "=================================================================\n",
      "Total params: 118,593\n",
      "Trainable params: 118,593\n",
      "Non-trainable params: 0\n",
      "_________________________________________________________________\n"
     ]
    }
   ],
   "source": [
    "model_load.summary()"
   ]
  },
  {
   "cell_type": "code",
   "execution_count": 18,
   "metadata": {},
   "outputs": [],
   "source": [
    "model_load.compile(loss='mean_squared_error', optimizer=opt, metrics=[\n",
    "        tf.keras.metrics.RootMeanSquaredError(name='the_rmse'),\n",
    "        tf.keras.metrics.MeanAbsolutePercentageError(name='the_mape'),\n",
    "    ])"
   ]
  },
  {
   "cell_type": "code",
   "execution_count": 19,
   "metadata": {},
   "outputs": [
    {
     "name": "stdout",
     "output_type": "stream",
     "text": [
      "3462/3462 [==============================] - 16s 4ms/step - loss: 0.6215 - the_rmse: 0.7884 - the_mape: 48142.4609\n"
     ]
    },
    {
     "data": {
      "text/plain": [
       "[0.6215485334396362, 0.7883834838867188, 48142.4609375]"
      ]
     },
     "execution_count": 19,
     "metadata": {},
     "output_type": "execute_result"
    }
   ],
   "source": [
    "model_load.evaluate(x_test,y_test)"
   ]
  },
  {
   "cell_type": "code",
   "execution_count": 20,
   "metadata": {},
   "outputs": [
    {
     "name": "stdout",
     "output_type": "stream",
     "text": [
      "521/521 [==============================] - 2s 4ms/step - loss: 0.4727 - the_rmse: 0.6875 - the_mape: 91012.2812\n"
     ]
    },
    {
     "data": {
      "text/plain": [
       "[0.47270262241363525, 0.6875337362289429, 91012.28125]"
      ]
     },
     "execution_count": 20,
     "metadata": {},
     "output_type": "execute_result"
    }
   ],
   "source": [
    "model_load.evaluate(Xo,yo)"
   ]
  },
  {
   "cell_type": "code",
   "execution_count": null,
   "metadata": {},
   "outputs": [],
   "source": []
  }
 ],
 "metadata": {
  "kernelspec": {
   "display_name": "Python 3 (ipykernel)",
   "language": "python",
   "name": "python3"
  },
  "language_info": {
   "codemirror_mode": {
    "name": "ipython",
    "version": 3
   },
   "file_extension": ".py",
   "mimetype": "text/x-python",
   "name": "python",
   "nbconvert_exporter": "python",
   "pygments_lexer": "ipython3",
   "version": "3.7.13"
  },
  "vscode": {
   "interpreter": {
    "hash": "6fde994876131bc9f65527873aa4b87e75053d151a689996c7611049218b8dee"
   }
  }
 },
 "nbformat": 4,
 "nbformat_minor": 4
}
