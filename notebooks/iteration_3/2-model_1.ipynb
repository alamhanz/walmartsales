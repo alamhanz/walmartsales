{
 "cells": [
  {
   "cell_type": "markdown",
   "metadata": {},
   "source": [
    "[20220922]\n",
    "\n",
    "# 2. Model 1\n",
    "\n",
    "After Preparation ready. Build and train the model in here. its using two layers LSTM. with data gen1"
   ]
  },
  {
   "cell_type": "markdown",
   "metadata": {},
   "source": [
    "## Goal\n",
    "Find patterns on the features for target\n",
    "\n",
    "## Plan\n",
    "Checklist what will be done on the notebook :\n",
    "\n",
    "        [ ] Get Data\n",
    "        [ ] Modelling\n",
    "        [ ] Evaluation"
   ]
  },
  {
   "cell_type": "code",
   "execution_count": 2,
   "metadata": {},
   "outputs": [],
   "source": [
    "import yaml\n",
    "import pandas as pd\n",
    "import matplotlib.pyplot as plt\n",
    "import os\n",
    "import joblib\n",
    "import sys\n",
    "sys.path.insert(1,'../../src/')\n",
    "\n",
    "## import myfunc inside src folder\n",
    "# from ramal import eval_model, jampi"
   ]
  },
  {
   "cell_type": "code",
   "execution_count": 3,
   "metadata": {},
   "outputs": [],
   "source": [
    "from keras.models import Sequential\n",
    "from keras.layers import LSTM, Dropout, Flatten, Dense\n",
    "from keras.preprocessing.image import ImageDataGenerator\n",
    "from keras import metrics, optimizers\n",
    "import keras\n",
    "import tensorflow as tf\n",
    "from keras.models import load_model\n",
    "\n",
    "from sklearn.model_selection import train_test_split"
   ]
  },
  {
   "cell_type": "code",
   "execution_count": 4,
   "metadata": {},
   "outputs": [],
   "source": [
    "with open(\"../../config.yaml\", \"r\") as f:\n",
    "    config = yaml.load(f, Loader=yaml.FullLoader)\n",
    "\n",
    "PATH_RAW = config['path']['raw']\n",
    "PATH_INTERIM = config['path']['interim']\n",
    "PATH_PROCESSED = config['path']['processed']\n",
    "# PATH_MODEL = config['path']['artifact']+os.getcwd().split('\\\\')[-1]+'/'\n",
    "PATH_MODEL = config['path']['artifact']+'iteration_3'+'/'\n",
    "PATH_UDF = config['path']['udf']"
   ]
  },
  {
   "cell_type": "code",
   "execution_count": 22,
   "metadata": {},
   "outputs": [],
   "source": [
    "%matplotlib inline"
   ]
  },
  {
   "cell_type": "markdown",
   "metadata": {},
   "source": [
    "## Get Data"
   ]
  },
  {
   "cell_type": "code",
   "execution_count": 5,
   "metadata": {},
   "outputs": [],
   "source": [
    "Xt, yt, Xo, yo = joblib.load(PATH_INTERIM+'feat_target_gen1_iter3.pkl')\n",
    "Xt = Xt.astype(\"float32\")\n",
    "yt = yt.astype(\"float32\")\n",
    "\n",
    "Xo = Xo.astype(\"float32\")\n",
    "yo = yo.astype(\"float32\")"
   ]
  },
  {
   "cell_type": "code",
   "execution_count": 6,
   "metadata": {},
   "outputs": [
    {
     "data": {
      "text/plain": [
       "(419706, 5, 1)"
      ]
     },
     "execution_count": 6,
     "metadata": {},
     "output_type": "execute_result"
    }
   ],
   "source": [
    "Xt.shape"
   ]
  },
  {
   "cell_type": "code",
   "execution_count": 7,
   "metadata": {},
   "outputs": [
    {
     "data": {
      "text/plain": [
       "(419706, 1)"
      ]
     },
     "execution_count": 7,
     "metadata": {},
     "output_type": "execute_result"
    }
   ],
   "source": [
    "yt.shape"
   ]
  },
  {
   "cell_type": "code",
   "execution_count": 8,
   "metadata": {},
   "outputs": [],
   "source": [
    "SEQ = Xt.shape[1]"
   ]
  },
  {
   "cell_type": "code",
   "execution_count": 9,
   "metadata": {},
   "outputs": [],
   "source": [
    "## not the best way to split time series dataset\n",
    "x_tr, x_test, y_tr, y_test = train_test_split(\n",
    "    Xt, yt, test_size=0.25, random_state=42)\n",
    "\n",
    "x_train, x_val, y_train, y_val = train_test_split(\n",
    "    x_tr, y_tr, test_size=0.2, random_state=42)"
   ]
  },
  {
   "cell_type": "code",
   "execution_count": 10,
   "metadata": {},
   "outputs": [
    {
     "data": {
      "text/plain": [
       "((39972, 5, 1), (39972, 1))"
      ]
     },
     "execution_count": 10,
     "metadata": {},
     "output_type": "execute_result"
    }
   ],
   "source": [
    "Xo.shape,yo.shape"
   ]
  },
  {
   "cell_type": "code",
   "execution_count": null,
   "metadata": {},
   "outputs": [],
   "source": []
  },
  {
   "cell_type": "markdown",
   "metadata": {
    "tags": []
   },
   "source": [
    "## Model"
   ]
  },
  {
   "cell_type": "code",
   "execution_count": 11,
   "metadata": {},
   "outputs": [],
   "source": [
    "# os.environ[\"CUDA_VISIBLE_DEVICES\"] "
   ]
  },
  {
   "cell_type": "code",
   "execution_count": 12,
   "metadata": {},
   "outputs": [
    {
     "name": "stdout",
     "output_type": "stream",
     "text": [
      "Num GPUs Available:  1\n"
     ]
    }
   ],
   "source": [
    "print(\"Num GPUs Available: \", len(tf.config.experimental.list_physical_devices('GPU')))"
   ]
  },
  {
   "cell_type": "code",
   "execution_count": 13,
   "metadata": {},
   "outputs": [],
   "source": [
    "mod_ts = Sequential()\n",
    "# mod_ts.add(LSTM(5, input_shape=(SEQ, 1)))\n",
    "mod_ts.add(LSTM(128, input_shape=(SEQ, 1), return_sequences=True))\n",
    "mod_ts.add(LSTM(64))\n",
    "# mod_ts.add(LSTM(8))\n",
    "mod_ts.add(Dense(32))\n",
    "mod_ts.add(Dense(16))\n",
    "mod_ts.add(Dense(1))\n"
   ]
  },
  {
   "cell_type": "code",
   "execution_count": 14,
   "metadata": {},
   "outputs": [],
   "source": [
    "early_stop = keras.callbacks.EarlyStopping(\n",
    "        monitor='val_loss',mode='min', patience=6) \n",
    "\n",
    "check_p = keras.callbacks.ModelCheckpoint(\n",
    "        filepath=PATH_MODEL+'ws_data_model1_iter3.h5',\n",
    "        monitor='val_loss',\n",
    "        mode='min',\n",
    "        save_best_only=True)\n",
    "\n",
    "opt = tf.keras.optimizers.Adam(learning_rate=0.00065)\n",
    "\n",
    "mod_ts.compile(loss='mean_squared_error', optimizer=opt, metrics=[\n",
    "        tf.keras.metrics.RootMeanSquaredError(name='the_rmse'),\n",
    "        tf.keras.metrics.MeanAbsolutePercentageError(name='the_mape'),\n",
    "    ])"
   ]
  },
  {
   "cell_type": "code",
   "execution_count": null,
   "metadata": {},
   "outputs": [],
   "source": []
  },
  {
   "cell_type": "code",
   "execution_count": 15,
   "metadata": {},
   "outputs": [
    {
     "name": "stdout",
     "output_type": "stream",
     "text": [
      "Epoch 1/50\n",
      "1968/1968 [==============================] - 21s 11ms/step - loss: 0.6792 - the_rmse: 0.8241 - the_mape: 108964.0703 - val_loss: 0.6537 - val_the_rmse: 0.8085 - val_the_mape: 115331.4922\n",
      "Epoch 2/50\n",
      "1968/1968 [==============================] - 20s 10ms/step - loss: 0.6458 - the_rmse: 0.8036 - the_mape: 76916.2578 - val_loss: 0.6409 - val_the_rmse: 0.8006 - val_the_mape: 85842.3359\n",
      "Epoch 3/50\n",
      "1968/1968 [==============================] - 19s 9ms/step - loss: 0.6336 - the_rmse: 0.7960 - the_mape: 59699.2383 - val_loss: 0.6331 - val_the_rmse: 0.7957 - val_the_mape: 77711.2266\n",
      "Epoch 4/50\n",
      "1968/1968 [==============================] - 18s 9ms/step - loss: 0.6294 - the_rmse: 0.7934 - the_mape: 44007.0820 - val_loss: 0.6317 - val_the_rmse: 0.7948 - val_the_mape: 39633.8672\n",
      "Epoch 5/50\n",
      "1968/1968 [==============================] - 18s 9ms/step - loss: 0.6272 - the_rmse: 0.7920 - the_mape: 46093.1875 - val_loss: 0.6300 - val_the_rmse: 0.7937 - val_the_mape: 124596.7969\n",
      "Epoch 6/50\n",
      "1968/1968 [==============================] - 18s 9ms/step - loss: 0.6259 - the_rmse: 0.7912 - the_mape: 41630.6289 - val_loss: 0.6259 - val_the_rmse: 0.7911 - val_the_mape: 98185.8516\n",
      "Epoch 7/50\n",
      "1968/1968 [==============================] - 19s 10ms/step - loss: 0.6242 - the_rmse: 0.7900 - the_mape: 43935.9648 - val_loss: 0.6261 - val_the_rmse: 0.7913 - val_the_mape: 37236.0469\n",
      "Epoch 8/50\n",
      "1968/1968 [==============================] - 19s 10ms/step - loss: 0.6233 - the_rmse: 0.7895 - the_mape: 40931.9688 - val_loss: 0.6234 - val_the_rmse: 0.7896 - val_the_mape: 75651.8984\n",
      "Epoch 9/50\n",
      "1968/1968 [==============================] - 20s 10ms/step - loss: 0.6224 - the_rmse: 0.7889 - the_mape: 43915.9258 - val_loss: 0.6233 - val_the_rmse: 0.7895 - val_the_mape: 115995.7344\n",
      "Epoch 10/50\n",
      "1968/1968 [==============================] - 21s 10ms/step - loss: 0.6217 - the_rmse: 0.7885 - the_mape: 39265.2109 - val_loss: 0.6247 - val_the_rmse: 0.7904 - val_the_mape: 40076.8242\n",
      "Epoch 11/50\n",
      "1968/1968 [==============================] - 17s 9ms/step - loss: 0.6207 - the_rmse: 0.7878 - the_mape: 39588.7734 - val_loss: 0.6212 - val_the_rmse: 0.7882 - val_the_mape: 37454.0977\n",
      "Epoch 12/50\n",
      "1968/1968 [==============================] - 19s 9ms/step - loss: 0.6202 - the_rmse: 0.7875 - the_mape: 40788.1953 - val_loss: 0.6217 - val_the_rmse: 0.7885 - val_the_mape: 54891.9883\n",
      "Epoch 13/50\n",
      "1968/1968 [==============================] - 18s 9ms/step - loss: 0.6196 - the_rmse: 0.7871 - the_mape: 39679.3125 - val_loss: 0.6213 - val_the_rmse: 0.7882 - val_the_mape: 50017.8398\n",
      "Epoch 14/50\n",
      "1968/1968 [==============================] - 19s 10ms/step - loss: 0.6186 - the_rmse: 0.7865 - the_mape: 33118.2148 - val_loss: 0.6237 - val_the_rmse: 0.7898 - val_the_mape: 65248.1719\n",
      "Epoch 15/50\n",
      "1968/1968 [==============================] - 18s 9ms/step - loss: 0.6181 - the_rmse: 0.7862 - the_mape: 38115.4570 - val_loss: 0.6212 - val_the_rmse: 0.7882 - val_the_mape: 83789.3594\n",
      "Epoch 16/50\n",
      "1968/1968 [==============================] - 19s 9ms/step - loss: 0.6175 - the_rmse: 0.7858 - the_mape: 37195.9492 - val_loss: 0.6206 - val_the_rmse: 0.7878 - val_the_mape: 23422.5195\n",
      "Epoch 17/50\n",
      "1968/1968 [==============================] - 16s 8ms/step - loss: 0.6169 - the_rmse: 0.7854 - the_mape: 30652.4785 - val_loss: 0.6209 - val_the_rmse: 0.7880 - val_the_mape: 45389.9961\n",
      "Epoch 18/50\n",
      "1968/1968 [==============================] - 17s 8ms/step - loss: 0.6160 - the_rmse: 0.7848 - the_mape: 32813.5547 - val_loss: 0.6226 - val_the_rmse: 0.7891 - val_the_mape: 52132.0430\n",
      "Epoch 19/50\n",
      "1968/1968 [==============================] - 16s 8ms/step - loss: 0.6154 - the_rmse: 0.7845 - the_mape: 33623.4883 - val_loss: 0.6215 - val_the_rmse: 0.7883 - val_the_mape: 64211.4844\n",
      "Epoch 20/50\n",
      "1968/1968 [==============================] - 16s 8ms/step - loss: 0.6149 - the_rmse: 0.7841 - the_mape: 34825.7578 - val_loss: 0.6203 - val_the_rmse: 0.7876 - val_the_mape: 114168.6953\n",
      "Epoch 21/50\n",
      "1968/1968 [==============================] - 16s 8ms/step - loss: 0.6139 - the_rmse: 0.7835 - the_mape: 32855.4414 - val_loss: 0.6208 - val_the_rmse: 0.7879 - val_the_mape: 79697.2969\n",
      "Epoch 22/50\n",
      "1968/1968 [==============================] - 18s 9ms/step - loss: 0.6131 - the_rmse: 0.7830 - the_mape: 33000.1328 - val_loss: 0.6217 - val_the_rmse: 0.7885 - val_the_mape: 38776.4219\n",
      "Epoch 23/50\n",
      "1968/1968 [==============================] - 16s 8ms/step - loss: 0.6125 - the_rmse: 0.7826 - the_mape: 29444.2754 - val_loss: 0.6219 - val_the_rmse: 0.7886 - val_the_mape: 83838.5859\n",
      "Epoch 24/50\n",
      "1968/1968 [==============================] - 17s 8ms/step - loss: 0.6118 - the_rmse: 0.7822 - the_mape: 34915.1328 - val_loss: 0.6205 - val_the_rmse: 0.7877 - val_the_mape: 55203.6914\n",
      "Epoch 25/50\n",
      "1968/1968 [==============================] - 17s 8ms/step - loss: 0.6109 - the_rmse: 0.7816 - the_mape: 32195.8984 - val_loss: 0.6238 - val_the_rmse: 0.7898 - val_the_mape: 88764.1406\n",
      "Epoch 26/50\n",
      "1968/1968 [==============================] - 19s 10ms/step - loss: 0.6102 - the_rmse: 0.7811 - the_mape: 32890.9023 - val_loss: 0.6236 - val_the_rmse: 0.7897 - val_the_mape: 29832.1523\n"
     ]
    }
   ],
   "source": [
    "history = mod_ts.fit(\n",
    "    x_train,\n",
    "    y_train,\n",
    "    batch_size=128,\n",
    "    epochs=50,\n",
    "    validation_data=(x_val, y_val),\n",
    "    callbacks=[early_stop,check_p]\n",
    ")"
   ]
  },
  {
   "cell_type": "code",
   "execution_count": null,
   "metadata": {},
   "outputs": [],
   "source": []
  },
  {
   "cell_type": "code",
   "execution_count": null,
   "metadata": {},
   "outputs": [],
   "source": []
  },
  {
   "cell_type": "markdown",
   "metadata": {},
   "source": [
    "## Eval"
   ]
  },
  {
   "cell_type": "code",
   "execution_count": 23,
   "metadata": {},
   "outputs": [
    {
     "data": {
      "text/plain": [
       "<AxesSubplot:>"
      ]
     },
     "execution_count": 23,
     "metadata": {},
     "output_type": "execute_result"
    },
    {
     "data": {
      "image/png": "[encoded data removed]",
      "text/plain": [
       "<Figure size 432x288 with 1 Axes>"
      ]
     },
     "metadata": {
      "needs_background": "light"
     },
     "output_type": "display_data"
    }
   ],
   "source": [
    "df_epoch_hist = pd.DataFrame(history.history)\n",
    "df_epoch_hist[['loss','val_loss']].plot()"
   ]
  },
  {
   "cell_type": "code",
   "execution_count": null,
   "metadata": {},
   "outputs": [],
   "source": []
  },
  {
   "cell_type": "code",
   "execution_count": 17,
   "metadata": {},
   "outputs": [],
   "source": [
    "# depd = {'auc_1' : metrics.AUC}\n",
    "model_load = load_model(PATH_MODEL + 'ws_data_model1_iter3.h5',compile=False)"
   ]
  },
  {
   "cell_type": "code",
   "execution_count": 18,
   "metadata": {},
   "outputs": [
    {
     "name": "stdout",
     "output_type": "stream",
     "text": [
      "Model: \"sequential\"\n",
      "_________________________________________________________________\n",
      "Layer (type)                 Output Shape              Param #   \n",
      "=================================================================\n",
      "lstm (LSTM)                  (None, 5, 128)            66560     \n",
      "_________________________________________________________________\n",
      "lstm_1 (LSTM)                (None, 64)                49408     \n",
      "_________________________________________________________________\n",
      "dense (Dense)                (None, 32)                2080      \n",
      "_________________________________________________________________\n",
      "dense_1 (Dense)              (None, 16)                528       \n",
      "_________________________________________________________________\n",
      "dense_2 (Dense)              (None, 1)                 17        \n",
      "=================================================================\n",
      "Total params: 118,593\n",
      "Trainable params: 118,593\n",
      "Non-trainable params: 0\n",
      "_________________________________________________________________\n"
     ]
    }
   ],
   "source": [
    "model_load.summary()"
   ]
  },
  {
   "cell_type": "code",
   "execution_count": 19,
   "metadata": {},
   "outputs": [],
   "source": [
    "model_load.compile(loss='mean_squared_error', optimizer=opt, metrics=[\n",
    "        tf.keras.metrics.RootMeanSquaredError(name='the_rmse'),\n",
    "        tf.keras.metrics.MeanAbsolutePercentageError(name='the_mape'),\n",
    "    ])"
   ]
  },
  {
   "cell_type": "code",
   "execution_count": 20,
   "metadata": {},
   "outputs": [
    {
     "name": "stdout",
     "output_type": "stream",
     "text": [
      "3279/3279 [==============================] - 15s 5ms/step - loss: 0.6259 - the_rmse: 0.7911 - the_mape: 95053.3125\n"
     ]
    },
    {
     "data": {
      "text/plain": [
       "[0.6258684396743774, 0.7911185026168823, 95053.3125]"
      ]
     },
     "execution_count": 20,
     "metadata": {},
     "output_type": "execute_result"
    }
   ],
   "source": [
    "model_load.evaluate(x_test,y_test)"
   ]
  },
  {
   "cell_type": "code",
   "execution_count": 21,
   "metadata": {},
   "outputs": [
    {
     "name": "stdout",
     "output_type": "stream",
     "text": [
      "1250/1250 [==============================] - 5s 4ms/step - loss: 0.4753 - the_rmse: 0.6894 - the_mape: 118944.1094\n"
     ]
    },
    {
     "data": {
      "text/plain": [
       "[0.47527164220809937, 0.6893994808197021, 118944.109375]"
      ]
     },
     "execution_count": 21,
     "metadata": {},
     "output_type": "execute_result"
    }
   ],
   "source": [
    "model_load.evaluate(Xo,yo)"
   ]
  },
  {
   "cell_type": "code",
   "execution_count": null,
   "metadata": {},
   "outputs": [],
   "source": []
  }
 ],
 "metadata": {
  "kernelspec": {
   "display_name": "Python 3.7.10 ('droid1')",
   "language": "python",
   "name": "python3"
  },
  "language_info": {
   "codemirror_mode": {
    "name": "ipython",
    "version": 3
   },
   "file_extension": ".py",
   "mimetype": "text/x-python",
   "name": "python",
   "nbconvert_exporter": "python",
   "pygments_lexer": "ipython3",
   "version": "3.7.10"
  },
  "vscode": {
   "interpreter": {
    "hash": "cfaee8345a7381c4d4eb2d178d3529454f9688cb724b599027e029325603d2a6"
   }
  }
 },
 "nbformat": 4,
 "nbformat_minor": 4
}
